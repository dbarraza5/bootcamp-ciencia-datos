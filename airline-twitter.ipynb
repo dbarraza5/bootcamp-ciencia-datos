{
 "cells": [
  {
   "cell_type": "markdown",
   "metadata": {},
   "source": [
    "#  Airline Twitter "
   ]
  },
  {
   "cell_type": "markdown",
   "metadata": {},
   "source": [
    "## Fuente de información"
   ]
  },
  {
   "cell_type": "markdown",
   "metadata": {},
   "source": [
    "fuente: https://www.kaggle.com/crowdflower/twitter-airline-sentiment  \n",
    "  \n",
    "Un trabajo de análisis de sentimientos sobre los problemas de cada una de las principales aerolíneas estadounidenses. Los datos de Twitter se extrajeron de febrero de 2015 y se les pidió a los contribuyentes que primero clasificaran los tweets positivos, negativos y neutrales, y luego clasificaran las razones negativas (como \"vuelo tardío\" o \"servicio grosero\"). "
   ]
  },
  {
   "cell_type": "markdown",
   "metadata": {},
   "source": [
    "## Objetivo del proyecto"
   ]
  },
  {
   "cell_type": "markdown",
   "metadata": {},
   "source": [
    "Reconocer patrones en los datos para poder aportar mayor valor al negocio y generar un modelo que pueda ser capaz de reconocer el sentimiento que está presente en los tweets que estén relacionados a las aerolíneas de USA."
   ]
  },
  {
   "cell_type": "markdown",
   "metadata": {},
   "source": [
    "## Cargando los datos"
   ]
  },
  {
   "cell_type": "code",
   "execution_count": 1,
   "metadata": {},
   "outputs": [],
   "source": [
    "import pandas as pd\n",
    "import numpy as np\n",
    "import matplotlib.pyplot as plt"
   ]
  },
  {
   "cell_type": "code",
   "execution_count": 2,
   "metadata": {},
   "outputs": [
    {
     "data": {
      "text/html": [
       "<div>\n",
       "<style scoped>\n",
       "    .dataframe tbody tr th:only-of-type {\n",
       "        vertical-align: middle;\n",
       "    }\n",
       "\n",
       "    .dataframe tbody tr th {\n",
       "        vertical-align: top;\n",
       "    }\n",
       "\n",
       "    .dataframe thead th {\n",
       "        text-align: right;\n",
       "    }\n",
       "</style>\n",
       "<table border=\"1\" class=\"dataframe\">\n",
       "  <thead>\n",
       "    <tr style=\"text-align: right;\">\n",
       "      <th></th>\n",
       "      <th>tweet_id</th>\n",
       "      <th>airline_sentiment</th>\n",
       "      <th>airline_sentiment_confidence</th>\n",
       "      <th>negativereason</th>\n",
       "      <th>negativereason_confidence</th>\n",
       "      <th>airline</th>\n",
       "      <th>airline_sentiment_gold</th>\n",
       "      <th>name</th>\n",
       "      <th>negativereason_gold</th>\n",
       "      <th>retweet_count</th>\n",
       "      <th>text</th>\n",
       "      <th>tweet_coord</th>\n",
       "      <th>tweet_created</th>\n",
       "      <th>tweet_location</th>\n",
       "      <th>user_timezone</th>\n",
       "    </tr>\n",
       "  </thead>\n",
       "  <tbody>\n",
       "    <tr>\n",
       "      <th>0</th>\n",
       "      <td>570306133677760513</td>\n",
       "      <td>neutral</td>\n",
       "      <td>1.0000</td>\n",
       "      <td>NaN</td>\n",
       "      <td>NaN</td>\n",
       "      <td>Virgin America</td>\n",
       "      <td>NaN</td>\n",
       "      <td>cairdin</td>\n",
       "      <td>NaN</td>\n",
       "      <td>0</td>\n",
       "      <td>@VirginAmerica What @dhepburn said.</td>\n",
       "      <td>NaN</td>\n",
       "      <td>2015-02-24 11:35:52 -0800</td>\n",
       "      <td>NaN</td>\n",
       "      <td>Eastern Time (US &amp; Canada)</td>\n",
       "    </tr>\n",
       "    <tr>\n",
       "      <th>1</th>\n",
       "      <td>570301130888122368</td>\n",
       "      <td>positive</td>\n",
       "      <td>0.3486</td>\n",
       "      <td>NaN</td>\n",
       "      <td>0.0000</td>\n",
       "      <td>Virgin America</td>\n",
       "      <td>NaN</td>\n",
       "      <td>jnardino</td>\n",
       "      <td>NaN</td>\n",
       "      <td>0</td>\n",
       "      <td>@VirginAmerica plus you've added commercials t...</td>\n",
       "      <td>NaN</td>\n",
       "      <td>2015-02-24 11:15:59 -0800</td>\n",
       "      <td>NaN</td>\n",
       "      <td>Pacific Time (US &amp; Canada)</td>\n",
       "    </tr>\n",
       "    <tr>\n",
       "      <th>2</th>\n",
       "      <td>570301083672813571</td>\n",
       "      <td>neutral</td>\n",
       "      <td>0.6837</td>\n",
       "      <td>NaN</td>\n",
       "      <td>NaN</td>\n",
       "      <td>Virgin America</td>\n",
       "      <td>NaN</td>\n",
       "      <td>yvonnalynn</td>\n",
       "      <td>NaN</td>\n",
       "      <td>0</td>\n",
       "      <td>@VirginAmerica I didn't today... Must mean I n...</td>\n",
       "      <td>NaN</td>\n",
       "      <td>2015-02-24 11:15:48 -0800</td>\n",
       "      <td>Lets Play</td>\n",
       "      <td>Central Time (US &amp; Canada)</td>\n",
       "    </tr>\n",
       "    <tr>\n",
       "      <th>3</th>\n",
       "      <td>570301031407624196</td>\n",
       "      <td>negative</td>\n",
       "      <td>1.0000</td>\n",
       "      <td>Bad Flight</td>\n",
       "      <td>0.7033</td>\n",
       "      <td>Virgin America</td>\n",
       "      <td>NaN</td>\n",
       "      <td>jnardino</td>\n",
       "      <td>NaN</td>\n",
       "      <td>0</td>\n",
       "      <td>@VirginAmerica it's really aggressive to blast...</td>\n",
       "      <td>NaN</td>\n",
       "      <td>2015-02-24 11:15:36 -0800</td>\n",
       "      <td>NaN</td>\n",
       "      <td>Pacific Time (US &amp; Canada)</td>\n",
       "    </tr>\n",
       "    <tr>\n",
       "      <th>4</th>\n",
       "      <td>570300817074462722</td>\n",
       "      <td>negative</td>\n",
       "      <td>1.0000</td>\n",
       "      <td>Can't Tell</td>\n",
       "      <td>1.0000</td>\n",
       "      <td>Virgin America</td>\n",
       "      <td>NaN</td>\n",
       "      <td>jnardino</td>\n",
       "      <td>NaN</td>\n",
       "      <td>0</td>\n",
       "      <td>@VirginAmerica and it's a really big bad thing...</td>\n",
       "      <td>NaN</td>\n",
       "      <td>2015-02-24 11:14:45 -0800</td>\n",
       "      <td>NaN</td>\n",
       "      <td>Pacific Time (US &amp; Canada)</td>\n",
       "    </tr>\n",
       "  </tbody>\n",
       "</table>\n",
       "</div>"
      ],
      "text/plain": [
       "             tweet_id airline_sentiment  airline_sentiment_confidence  \\\n",
       "0  570306133677760513           neutral                        1.0000   \n",
       "1  570301130888122368          positive                        0.3486   \n",
       "2  570301083672813571           neutral                        0.6837   \n",
       "3  570301031407624196          negative                        1.0000   \n",
       "4  570300817074462722          negative                        1.0000   \n",
       "\n",
       "  negativereason  negativereason_confidence         airline  \\\n",
       "0            NaN                        NaN  Virgin America   \n",
       "1            NaN                     0.0000  Virgin America   \n",
       "2            NaN                        NaN  Virgin America   \n",
       "3     Bad Flight                     0.7033  Virgin America   \n",
       "4     Can't Tell                     1.0000  Virgin America   \n",
       "\n",
       "  airline_sentiment_gold        name negativereason_gold  retweet_count  \\\n",
       "0                    NaN     cairdin                 NaN              0   \n",
       "1                    NaN    jnardino                 NaN              0   \n",
       "2                    NaN  yvonnalynn                 NaN              0   \n",
       "3                    NaN    jnardino                 NaN              0   \n",
       "4                    NaN    jnardino                 NaN              0   \n",
       "\n",
       "                                                text tweet_coord  \\\n",
       "0                @VirginAmerica What @dhepburn said.         NaN   \n",
       "1  @VirginAmerica plus you've added commercials t...         NaN   \n",
       "2  @VirginAmerica I didn't today... Must mean I n...         NaN   \n",
       "3  @VirginAmerica it's really aggressive to blast...         NaN   \n",
       "4  @VirginAmerica and it's a really big bad thing...         NaN   \n",
       "\n",
       "               tweet_created tweet_location               user_timezone  \n",
       "0  2015-02-24 11:35:52 -0800            NaN  Eastern Time (US & Canada)  \n",
       "1  2015-02-24 11:15:59 -0800            NaN  Pacific Time (US & Canada)  \n",
       "2  2015-02-24 11:15:48 -0800      Lets Play  Central Time (US & Canada)  \n",
       "3  2015-02-24 11:15:36 -0800            NaN  Pacific Time (US & Canada)  \n",
       "4  2015-02-24 11:14:45 -0800            NaN  Pacific Time (US & Canada)  "
      ]
     },
     "execution_count": 2,
     "metadata": {},
     "output_type": "execute_result"
    }
   ],
   "source": [
    "df = pd.read_csv(\"datos/Tweets.csv\", sep=\",\", encoding=\"latin1\")\n",
    "df.head()"
   ]
  },
  {
   "cell_type": "code",
   "execution_count": 3,
   "metadata": {},
   "outputs": [
    {
     "data": {
      "text/plain": [
       "(14640, 15)"
      ]
     },
     "execution_count": 3,
     "metadata": {},
     "output_type": "execute_result"
    }
   ],
   "source": [
    "#numero de registros en el dataset\n",
    "df.shape"
   ]
  },
  {
   "cell_type": "markdown",
   "metadata": {},
   "source": [
    "## Análisis de datos"
   ]
  },
  {
   "cell_type": "markdown",
   "metadata": {},
   "source": [
    "### Cantidad de tweets por sentimientos"
   ]
  },
  {
   "cell_type": "code",
   "execution_count": 4,
   "metadata": {},
   "outputs": [],
   "source": [
    "import altair as alt"
   ]
  },
  {
   "cell_type": "code",
   "execution_count": 5,
   "metadata": {},
   "outputs": [
    {
     "data": {
      "text/html": [
       "\n",
       "<div id=\"altair-viz-e3340d4fe22749bc86d02a8bc00e5c88\"></div>\n",
       "<script type=\"text/javascript\">\n",
       "  (function(spec, embedOpt){\n",
       "    let outputDiv = document.currentScript.previousElementSibling;\n",
       "    if (outputDiv.id !== \"altair-viz-e3340d4fe22749bc86d02a8bc00e5c88\") {\n",
       "      outputDiv = document.getElementById(\"altair-viz-e3340d4fe22749bc86d02a8bc00e5c88\");\n",
       "    }\n",
       "    const paths = {\n",
       "      \"vega\": \"https://cdn.jsdelivr.net/npm//vega@5?noext\",\n",
       "      \"vega-lib\": \"https://cdn.jsdelivr.net/npm//vega-lib?noext\",\n",
       "      \"vega-lite\": \"https://cdn.jsdelivr.net/npm//vega-lite@4.17.0?noext\",\n",
       "      \"vega-embed\": \"https://cdn.jsdelivr.net/npm//vega-embed@6?noext\",\n",
       "    };\n",
       "\n",
       "    function loadScript(lib) {\n",
       "      return new Promise(function(resolve, reject) {\n",
       "        var s = document.createElement('script');\n",
       "        s.src = paths[lib];\n",
       "        s.async = true;\n",
       "        s.onload = () => resolve(paths[lib]);\n",
       "        s.onerror = () => reject(`Error loading script: ${paths[lib]}`);\n",
       "        document.getElementsByTagName(\"head\")[0].appendChild(s);\n",
       "      });\n",
       "    }\n",
       "\n",
       "    function showError(err) {\n",
       "      outputDiv.innerHTML = `<div class=\"error\" style=\"color:red;\">${err}</div>`;\n",
       "      throw err;\n",
       "    }\n",
       "\n",
       "    function displayChart(vegaEmbed) {\n",
       "      vegaEmbed(outputDiv, spec, embedOpt)\n",
       "        .catch(err => showError(`Javascript Error: ${err.message}<br>This usually means there's a typo in your chart specification. See the javascript console for the full traceback.`));\n",
       "    }\n",
       "\n",
       "    if(typeof define === \"function\" && define.amd) {\n",
       "      requirejs.config({paths});\n",
       "      require([\"vega-embed\"], displayChart, err => showError(`Error loading script: ${err.message}`));\n",
       "    } else if (typeof vegaEmbed === \"function\") {\n",
       "      displayChart(vegaEmbed);\n",
       "    } else {\n",
       "      loadScript(\"vega\")\n",
       "        .then(() => loadScript(\"vega-lite\"))\n",
       "        .then(() => loadScript(\"vega-embed\"))\n",
       "        .catch(showError)\n",
       "        .then(() => displayChart(vegaEmbed));\n",
       "    }\n",
       "  })({\"config\": {\"view\": {\"continuousWidth\": 400, \"continuousHeight\": 300}}, \"data\": {\"name\": \"data-19f681a858fcab5e7c03206e809476d5\"}, \"mark\": \"bar\", \"encoding\": {\"tooltip\": [{\"field\": \"tweets\", \"title\": \"Total tweets\", \"type\": \"quantitative\"}], \"x\": {\"axis\": {\"labelAngle\": 0}, \"field\": \"clases\", \"type\": \"nominal\"}, \"y\": {\"field\": \"tweets\", \"type\": \"quantitative\"}}, \"height\": 300, \"width\": 400, \"$schema\": \"https://vega.github.io/schema/vega-lite/v4.17.0.json\", \"datasets\": {\"data-19f681a858fcab5e7c03206e809476d5\": [{\"clases\": \"negative\", \"tweets\": 9178}, {\"clases\": \"neutral\", \"tweets\": 3099}, {\"clases\": \"positive\", \"tweets\": 2363}]}}, {\"mode\": \"vega-lite\"});\n",
       "</script>"
      ],
      "text/plain": [
       "alt.Chart(...)"
      ]
     },
     "execution_count": 5,
     "metadata": {},
     "output_type": "execute_result"
    }
   ],
   "source": [
    "source = pd.DataFrame({\n",
    "    'clases':['negative', 'neutral', 'positive'],\n",
    "    'tweets': list(df[\"airline_sentiment\"].value_counts())\n",
    "})\n",
    "alt.Chart(source).mark_bar().encode(\n",
    "\n",
    "    x=alt.X('clases',axis=alt.Axis(\n",
    "                                    labelAngle=0,\n",
    "                                    )),\n",
    "    y='tweets',\n",
    "    tooltip=[\n",
    "        alt.Tooltip('tweets:Q', title=\"Total tweets\"),\n",
    "    ]\n",
    ").properties(\n",
    "    width=400,\n",
    "    height=300\n",
    ")"
   ]
  },
  {
   "cell_type": "markdown",
   "metadata": {},
   "source": [
    "### Cantidad total de tweets por aerolíneas"
   ]
  },
  {
   "cell_type": "code",
   "execution_count": 6,
   "metadata": {},
   "outputs": [
    {
     "data": {
      "text/html": [
       "\n",
       "<div id=\"altair-viz-c1e8bc015c9b4460877f5df2130fe5d5\"></div>\n",
       "<script type=\"text/javascript\">\n",
       "  (function(spec, embedOpt){\n",
       "    let outputDiv = document.currentScript.previousElementSibling;\n",
       "    if (outputDiv.id !== \"altair-viz-c1e8bc015c9b4460877f5df2130fe5d5\") {\n",
       "      outputDiv = document.getElementById(\"altair-viz-c1e8bc015c9b4460877f5df2130fe5d5\");\n",
       "    }\n",
       "    const paths = {\n",
       "      \"vega\": \"https://cdn.jsdelivr.net/npm//vega@5?noext\",\n",
       "      \"vega-lib\": \"https://cdn.jsdelivr.net/npm//vega-lib?noext\",\n",
       "      \"vega-lite\": \"https://cdn.jsdelivr.net/npm//vega-lite@4.17.0?noext\",\n",
       "      \"vega-embed\": \"https://cdn.jsdelivr.net/npm//vega-embed@6?noext\",\n",
       "    };\n",
       "\n",
       "    function loadScript(lib) {\n",
       "      return new Promise(function(resolve, reject) {\n",
       "        var s = document.createElement('script');\n",
       "        s.src = paths[lib];\n",
       "        s.async = true;\n",
       "        s.onload = () => resolve(paths[lib]);\n",
       "        s.onerror = () => reject(`Error loading script: ${paths[lib]}`);\n",
       "        document.getElementsByTagName(\"head\")[0].appendChild(s);\n",
       "      });\n",
       "    }\n",
       "\n",
       "    function showError(err) {\n",
       "      outputDiv.innerHTML = `<div class=\"error\" style=\"color:red;\">${err}</div>`;\n",
       "      throw err;\n",
       "    }\n",
       "\n",
       "    function displayChart(vegaEmbed) {\n",
       "      vegaEmbed(outputDiv, spec, embedOpt)\n",
       "        .catch(err => showError(`Javascript Error: ${err.message}<br>This usually means there's a typo in your chart specification. See the javascript console for the full traceback.`));\n",
       "    }\n",
       "\n",
       "    if(typeof define === \"function\" && define.amd) {\n",
       "      requirejs.config({paths});\n",
       "      require([\"vega-embed\"], displayChart, err => showError(`Error loading script: ${err.message}`));\n",
       "    } else if (typeof vegaEmbed === \"function\") {\n",
       "      displayChart(vegaEmbed);\n",
       "    } else {\n",
       "      loadScript(\"vega\")\n",
       "        .then(() => loadScript(\"vega-lite\"))\n",
       "        .then(() => loadScript(\"vega-embed\"))\n",
       "        .catch(showError)\n",
       "        .then(() => displayChart(vegaEmbed));\n",
       "    }\n",
       "  })({\"config\": {\"view\": {\"continuousWidth\": 400, \"continuousHeight\": 300}}, \"data\": {\"name\": \"data-407dcbb12ae9027543390abab8f07a41\"}, \"mark\": \"bar\", \"encoding\": {\"tooltip\": [{\"field\": \"tweets\", \"title\": \"Total tweets\", \"type\": \"quantitative\"}], \"x\": {\"axis\": {\"labelAngle\": -45}, \"field\": \"aerolineas\", \"type\": \"nominal\"}, \"y\": {\"field\": \"tweets\", \"type\": \"quantitative\"}}, \"height\": 300, \"width\": 400, \"$schema\": \"https://vega.github.io/schema/vega-lite/v4.17.0.json\", \"datasets\": {\"data-407dcbb12ae9027543390abab8f07a41\": [{\"aerolineas\": \"United\", \"tweets\": 3822}, {\"aerolineas\": \"US Airways\", \"tweets\": 2913}, {\"aerolineas\": \"American\", \"tweets\": 2759}, {\"aerolineas\": \"Southwest\", \"tweets\": 2420}, {\"aerolineas\": \"Delta\", \"tweets\": 2222}, {\"aerolineas\": \"Virgin America\", \"tweets\": 504}]}}, {\"mode\": \"vega-lite\"});\n",
       "</script>"
      ],
      "text/plain": [
       "alt.Chart(...)"
      ]
     },
     "execution_count": 6,
     "metadata": {},
     "output_type": "execute_result"
    }
   ],
   "source": [
    "aerolineas = df[\"airline\"].value_counts()\n",
    "source = pd.DataFrame({\n",
    "    'aerolineas':aerolineas.index,\n",
    "    'tweets': aerolineas.values\n",
    "})\n",
    "alt.Chart(source).mark_bar().encode(\n",
    "\n",
    "    x=alt.X('aerolineas',axis=alt.Axis(\n",
    "                                    labelAngle=-45,\n",
    "                                    )),\n",
    "    y='tweets',\n",
    "    tooltip=[\n",
    "        alt.Tooltip('tweets:Q', title=\"Total tweets\"),\n",
    "    ]\n",
    ").properties(\n",
    "    width=400,\n",
    "    height=300\n",
    ")"
   ]
  },
  {
   "cell_type": "markdown",
   "metadata": {},
   "source": [
    "### Cantidades de tweets de sentimiento por aerolíneas"
   ]
  },
  {
   "cell_type": "code",
   "execution_count": 7,
   "metadata": {},
   "outputs": [],
   "source": [
    "df_filter = df[[\"airline_sentiment\", \"airline\"]]\n",
    "# agrupacion de sentiment por aerolineas\n",
    "serie = df_filter.groupby([\"airline\",\"airline_sentiment\"])[\"airline\"].count()\n",
    "df_airline_sent = pd.DataFrame(columns=[\"airline\", \"sentiment\", \"cantidad\"])\n",
    "for air, atr in serie.index:\n",
    "    df_airline_sent.loc[df_airline_sent.shape[0]] = {\n",
    "        \"airline\": air,\n",
    "        \"sentiment\": atr,\n",
    "        \"cantidad\": serie[air][atr],\n",
    "    }"
   ]
  },
  {
   "cell_type": "code",
   "execution_count": 8,
   "metadata": {},
   "outputs": [
    {
     "data": {
      "text/html": [
       "\n",
       "<div id=\"altair-viz-7282510439564a5eb143d4af822f49ee\"></div>\n",
       "<script type=\"text/javascript\">\n",
       "  (function(spec, embedOpt){\n",
       "    let outputDiv = document.currentScript.previousElementSibling;\n",
       "    if (outputDiv.id !== \"altair-viz-7282510439564a5eb143d4af822f49ee\") {\n",
       "      outputDiv = document.getElementById(\"altair-viz-7282510439564a5eb143d4af822f49ee\");\n",
       "    }\n",
       "    const paths = {\n",
       "      \"vega\": \"https://cdn.jsdelivr.net/npm//vega@5?noext\",\n",
       "      \"vega-lib\": \"https://cdn.jsdelivr.net/npm//vega-lib?noext\",\n",
       "      \"vega-lite\": \"https://cdn.jsdelivr.net/npm//vega-lite@4.17.0?noext\",\n",
       "      \"vega-embed\": \"https://cdn.jsdelivr.net/npm//vega-embed@6?noext\",\n",
       "    };\n",
       "\n",
       "    function loadScript(lib) {\n",
       "      return new Promise(function(resolve, reject) {\n",
       "        var s = document.createElement('script');\n",
       "        s.src = paths[lib];\n",
       "        s.async = true;\n",
       "        s.onload = () => resolve(paths[lib]);\n",
       "        s.onerror = () => reject(`Error loading script: ${paths[lib]}`);\n",
       "        document.getElementsByTagName(\"head\")[0].appendChild(s);\n",
       "      });\n",
       "    }\n",
       "\n",
       "    function showError(err) {\n",
       "      outputDiv.innerHTML = `<div class=\"error\" style=\"color:red;\">${err}</div>`;\n",
       "      throw err;\n",
       "    }\n",
       "\n",
       "    function displayChart(vegaEmbed) {\n",
       "      vegaEmbed(outputDiv, spec, embedOpt)\n",
       "        .catch(err => showError(`Javascript Error: ${err.message}<br>This usually means there's a typo in your chart specification. See the javascript console for the full traceback.`));\n",
       "    }\n",
       "\n",
       "    if(typeof define === \"function\" && define.amd) {\n",
       "      requirejs.config({paths});\n",
       "      require([\"vega-embed\"], displayChart, err => showError(`Error loading script: ${err.message}`));\n",
       "    } else if (typeof vegaEmbed === \"function\") {\n",
       "      displayChart(vegaEmbed);\n",
       "    } else {\n",
       "      loadScript(\"vega\")\n",
       "        .then(() => loadScript(\"vega-lite\"))\n",
       "        .then(() => loadScript(\"vega-embed\"))\n",
       "        .catch(showError)\n",
       "        .then(() => displayChart(vegaEmbed));\n",
       "    }\n",
       "  })({\"config\": {\"view\": {\"continuousWidth\": 400, \"continuousHeight\": 300}}, \"data\": {\"name\": \"data-d7432d32ce685e41ce1d2c9fc08e3779\"}, \"mark\": \"bar\", \"encoding\": {\"color\": {\"field\": \"airline\", \"type\": \"nominal\"}, \"column\": {\"field\": \"airline\", \"type\": \"nominal\"}, \"tooltip\": [{\"field\": \"cantidad\", \"title\": \"Total tweets\", \"type\": \"quantitative\"}], \"x\": {\"axis\": {\"labelAngle\": -45}, \"field\": \"sentiment\", \"type\": \"nominal\"}, \"y\": {\"axis\": {\"grid\": false}, \"field\": \"cantidad\", \"type\": \"quantitative\"}}, \"$schema\": \"https://vega.github.io/schema/vega-lite/v4.17.0.json\", \"datasets\": {\"data-d7432d32ce685e41ce1d2c9fc08e3779\": [{\"airline\": \"American\", \"sentiment\": \"negative\", \"cantidad\": 1960}, {\"airline\": \"American\", \"sentiment\": \"neutral\", \"cantidad\": 463}, {\"airline\": \"American\", \"sentiment\": \"positive\", \"cantidad\": 336}, {\"airline\": \"Delta\", \"sentiment\": \"negative\", \"cantidad\": 955}, {\"airline\": \"Delta\", \"sentiment\": \"neutral\", \"cantidad\": 723}, {\"airline\": \"Delta\", \"sentiment\": \"positive\", \"cantidad\": 544}, {\"airline\": \"Southwest\", \"sentiment\": \"negative\", \"cantidad\": 1186}, {\"airline\": \"Southwest\", \"sentiment\": \"neutral\", \"cantidad\": 664}, {\"airline\": \"Southwest\", \"sentiment\": \"positive\", \"cantidad\": 570}, {\"airline\": \"US Airways\", \"sentiment\": \"negative\", \"cantidad\": 2263}, {\"airline\": \"US Airways\", \"sentiment\": \"neutral\", \"cantidad\": 381}, {\"airline\": \"US Airways\", \"sentiment\": \"positive\", \"cantidad\": 269}, {\"airline\": \"United\", \"sentiment\": \"negative\", \"cantidad\": 2633}, {\"airline\": \"United\", \"sentiment\": \"neutral\", \"cantidad\": 697}, {\"airline\": \"United\", \"sentiment\": \"positive\", \"cantidad\": 492}, {\"airline\": \"Virgin America\", \"sentiment\": \"negative\", \"cantidad\": 181}, {\"airline\": \"Virgin America\", \"sentiment\": \"neutral\", \"cantidad\": 171}, {\"airline\": \"Virgin America\", \"sentiment\": \"positive\", \"cantidad\": 152}]}}, {\"mode\": \"vega-lite\"});\n",
       "</script>"
      ],
      "text/plain": [
       "alt.Chart(...)"
      ]
     },
     "metadata": {},
     "output_type": "display_data"
    }
   ],
   "source": [
    "gp_chart = alt.Chart(df_airline_sent).mark_bar().encode(\n",
    "  alt.Column('airline'), \n",
    "  alt.X('sentiment', axis=alt.Axis(\n",
    "                                    labelAngle=-45,\n",
    "                                    )),\n",
    "  alt.Y('cantidad', axis=alt.Axis(grid=False)),\n",
    "  alt.Color('airline'),\n",
    "    tooltip=[\n",
    "      alt.Tooltip('cantidad:Q', title=\"Total tweets\"),\n",
    "  ]\n",
    ")\n",
    "  \n",
    "gp_chart.display()"
   ]
  },
  {
   "cell_type": "markdown",
   "metadata": {},
   "source": [
    "### Cantidad de incidencias en total"
   ]
  },
  {
   "cell_type": "code",
   "execution_count": 9,
   "metadata": {},
   "outputs": [
    {
     "data": {
      "text/html": [
       "\n",
       "<div id=\"altair-viz-45da6f8c096846089528cd13c9a74a54\"></div>\n",
       "<script type=\"text/javascript\">\n",
       "  (function(spec, embedOpt){\n",
       "    let outputDiv = document.currentScript.previousElementSibling;\n",
       "    if (outputDiv.id !== \"altair-viz-45da6f8c096846089528cd13c9a74a54\") {\n",
       "      outputDiv = document.getElementById(\"altair-viz-45da6f8c096846089528cd13c9a74a54\");\n",
       "    }\n",
       "    const paths = {\n",
       "      \"vega\": \"https://cdn.jsdelivr.net/npm//vega@5?noext\",\n",
       "      \"vega-lib\": \"https://cdn.jsdelivr.net/npm//vega-lib?noext\",\n",
       "      \"vega-lite\": \"https://cdn.jsdelivr.net/npm//vega-lite@4.17.0?noext\",\n",
       "      \"vega-embed\": \"https://cdn.jsdelivr.net/npm//vega-embed@6?noext\",\n",
       "    };\n",
       "\n",
       "    function loadScript(lib) {\n",
       "      return new Promise(function(resolve, reject) {\n",
       "        var s = document.createElement('script');\n",
       "        s.src = paths[lib];\n",
       "        s.async = true;\n",
       "        s.onload = () => resolve(paths[lib]);\n",
       "        s.onerror = () => reject(`Error loading script: ${paths[lib]}`);\n",
       "        document.getElementsByTagName(\"head\")[0].appendChild(s);\n",
       "      });\n",
       "    }\n",
       "\n",
       "    function showError(err) {\n",
       "      outputDiv.innerHTML = `<div class=\"error\" style=\"color:red;\">${err}</div>`;\n",
       "      throw err;\n",
       "    }\n",
       "\n",
       "    function displayChart(vegaEmbed) {\n",
       "      vegaEmbed(outputDiv, spec, embedOpt)\n",
       "        .catch(err => showError(`Javascript Error: ${err.message}<br>This usually means there's a typo in your chart specification. See the javascript console for the full traceback.`));\n",
       "    }\n",
       "\n",
       "    if(typeof define === \"function\" && define.amd) {\n",
       "      requirejs.config({paths});\n",
       "      require([\"vega-embed\"], displayChart, err => showError(`Error loading script: ${err.message}`));\n",
       "    } else if (typeof vegaEmbed === \"function\") {\n",
       "      displayChart(vegaEmbed);\n",
       "    } else {\n",
       "      loadScript(\"vega\")\n",
       "        .then(() => loadScript(\"vega-lite\"))\n",
       "        .then(() => loadScript(\"vega-embed\"))\n",
       "        .catch(showError)\n",
       "        .then(() => displayChart(vegaEmbed));\n",
       "    }\n",
       "  })({\"config\": {\"view\": {\"continuousWidth\": 400, \"continuousHeight\": 300}}, \"data\": {\"name\": \"data-b3a769b2e66583bae154f601e55fa1ed\"}, \"mark\": \"bar\", \"encoding\": {\"tooltip\": [{\"field\": \"tweets\", \"title\": \"Total tweets\", \"type\": \"quantitative\"}], \"x\": {\"axis\": {\"labelAngle\": -45}, \"field\": \"incidencias\", \"type\": \"nominal\"}, \"y\": {\"field\": \"tweets\", \"type\": \"quantitative\"}}, \"height\": 300, \"width\": 400, \"$schema\": \"https://vega.github.io/schema/vega-lite/v4.17.0.json\", \"datasets\": {\"data-b3a769b2e66583bae154f601e55fa1ed\": [{\"incidencias\": \"Customer Service Issue\", \"tweets\": 2910}, {\"incidencias\": \"Late Flight\", \"tweets\": 1665}, {\"incidencias\": \"Can't Tell\", \"tweets\": 1190}, {\"incidencias\": \"Cancelled Flight\", \"tweets\": 847}, {\"incidencias\": \"Lost Luggage\", \"tweets\": 724}, {\"incidencias\": \"Bad Flight\", \"tweets\": 580}, {\"incidencias\": \"Flight Booking Problems\", \"tweets\": 529}, {\"incidencias\": \"Flight Attendant Complaints\", \"tweets\": 481}, {\"incidencias\": \"longlines\", \"tweets\": 178}, {\"incidencias\": \"Damaged Luggage\", \"tweets\": 74}]}}, {\"mode\": \"vega-lite\"});\n",
       "</script>"
      ],
      "text/plain": [
       "alt.Chart(...)"
      ]
     },
     "execution_count": 9,
     "metadata": {},
     "output_type": "execute_result"
    }
   ],
   "source": [
    "incidencias = df[\"negativereason\"].value_counts()\n",
    "source = pd.DataFrame({\n",
    "    'incidencias':incidencias.index,\n",
    "    'tweets': incidencias.values\n",
    "})\n",
    "alt.Chart(source).mark_bar().encode(\n",
    "\n",
    "    x=alt.X('incidencias',axis=alt.Axis(\n",
    "                                    labelAngle=-45,\n",
    "                                    )),\n",
    "    y='tweets',\n",
    "    tooltip=[\n",
    "        alt.Tooltip('tweets:Q', title=\"Total tweets\"),\n",
    "    ]\n",
    ").properties(\n",
    "    width=400,\n",
    "    height=300\n",
    ")"
   ]
  },
  {
   "cell_type": "markdown",
   "metadata": {},
   "source": [
    "### Porcentaje de Incidencias por empresa"
   ]
  },
  {
   "cell_type": "code",
   "execution_count": 10,
   "metadata": {},
   "outputs": [],
   "source": [
    "df_filter = df[[\"negativereason\", \"airline\"]]\n",
    "serie = df_filter.groupby([\"airline\",\"negativereason\"])[\"airline\"].count()\n",
    "df_airline_reason = pd.DataFrame(columns=[\"airline\", \"negativereason\", \"cantidad\"])\n",
    "for air, atr in serie.index:\n",
    "    valor = np.round((serie[air][atr]/serie[air].sum())*100,1)\n",
    "    df_airline_reason.loc[df_airline_reason.shape[0]] = {\n",
    "        \"airline\": air,\n",
    "        \"negativereason\": atr,\n",
    "        \"cantidad\": valor,\n",
    "    }"
   ]
  },
  {
   "cell_type": "code",
   "execution_count": 11,
   "metadata": {},
   "outputs": [
    {
     "data": {
      "text/html": [
       "\n",
       "<div id=\"altair-viz-117fa19b202c46379675b84ae3fa0ce2\"></div>\n",
       "<script type=\"text/javascript\">\n",
       "  (function(spec, embedOpt){\n",
       "    let outputDiv = document.currentScript.previousElementSibling;\n",
       "    if (outputDiv.id !== \"altair-viz-117fa19b202c46379675b84ae3fa0ce2\") {\n",
       "      outputDiv = document.getElementById(\"altair-viz-117fa19b202c46379675b84ae3fa0ce2\");\n",
       "    }\n",
       "    const paths = {\n",
       "      \"vega\": \"https://cdn.jsdelivr.net/npm//vega@5?noext\",\n",
       "      \"vega-lib\": \"https://cdn.jsdelivr.net/npm//vega-lib?noext\",\n",
       "      \"vega-lite\": \"https://cdn.jsdelivr.net/npm//vega-lite@4.17.0?noext\",\n",
       "      \"vega-embed\": \"https://cdn.jsdelivr.net/npm//vega-embed@6?noext\",\n",
       "    };\n",
       "\n",
       "    function loadScript(lib) {\n",
       "      return new Promise(function(resolve, reject) {\n",
       "        var s = document.createElement('script');\n",
       "        s.src = paths[lib];\n",
       "        s.async = true;\n",
       "        s.onload = () => resolve(paths[lib]);\n",
       "        s.onerror = () => reject(`Error loading script: ${paths[lib]}`);\n",
       "        document.getElementsByTagName(\"head\")[0].appendChild(s);\n",
       "      });\n",
       "    }\n",
       "\n",
       "    function showError(err) {\n",
       "      outputDiv.innerHTML = `<div class=\"error\" style=\"color:red;\">${err}</div>`;\n",
       "      throw err;\n",
       "    }\n",
       "\n",
       "    function displayChart(vegaEmbed) {\n",
       "      vegaEmbed(outputDiv, spec, embedOpt)\n",
       "        .catch(err => showError(`Javascript Error: ${err.message}<br>This usually means there's a typo in your chart specification. See the javascript console for the full traceback.`));\n",
       "    }\n",
       "\n",
       "    if(typeof define === \"function\" && define.amd) {\n",
       "      requirejs.config({paths});\n",
       "      require([\"vega-embed\"], displayChart, err => showError(`Error loading script: ${err.message}`));\n",
       "    } else if (typeof vegaEmbed === \"function\") {\n",
       "      displayChart(vegaEmbed);\n",
       "    } else {\n",
       "      loadScript(\"vega\")\n",
       "        .then(() => loadScript(\"vega-lite\"))\n",
       "        .then(() => loadScript(\"vega-embed\"))\n",
       "        .catch(showError)\n",
       "        .then(() => displayChart(vegaEmbed));\n",
       "    }\n",
       "  })({\"config\": {\"view\": {\"continuousWidth\": 400, \"continuousHeight\": 300}}, \"data\": {\"name\": \"data-f67ad7ee47bcfcb08a942202870c2d44\"}, \"mark\": \"rect\", \"encoding\": {\"color\": {\"field\": \"cantidad\", \"type\": \"quantitative\"}, \"tooltip\": [{\"field\": \"cantidad\", \"title\": \"% issue\", \"type\": \"quantitative\"}], \"x\": {\"field\": \"airline\", \"type\": \"ordinal\"}, \"y\": {\"field\": \"negativereason\", \"type\": \"ordinal\"}}, \"height\": 400, \"width\": 400, \"$schema\": \"https://vega.github.io/schema/vega-lite/v4.17.0.json\", \"datasets\": {\"data-f67ad7ee47bcfcb08a942202870c2d44\": [{\"airline\": \"American\", \"negativereason\": \"Bad Flight\", \"cantidad\": 4.4}, {\"airline\": \"American\", \"negativereason\": \"Can't Tell\", \"cantidad\": 10.1}, {\"airline\": \"American\", \"negativereason\": \"Cancelled Flight\", \"cantidad\": 12.6}, {\"airline\": \"American\", \"negativereason\": \"Customer Service Issue\", \"cantidad\": 39.2}, {\"airline\": \"American\", \"negativereason\": \"Damaged Luggage\", \"cantidad\": 0.6}, {\"airline\": \"American\", \"negativereason\": \"Flight Attendant Complaints\", \"cantidad\": 4.4}, {\"airline\": \"American\", \"negativereason\": \"Flight Booking Problems\", \"cantidad\": 6.6}, {\"airline\": \"American\", \"negativereason\": \"Late Flight\", \"cantidad\": 12.7}, {\"airline\": \"American\", \"negativereason\": \"Lost Luggage\", \"cantidad\": 7.6}, {\"airline\": \"American\", \"negativereason\": \"longlines\", \"cantidad\": 1.7}, {\"airline\": \"Delta\", \"negativereason\": \"Bad Flight\", \"cantidad\": 6.7}, {\"airline\": \"Delta\", \"negativereason\": \"Can't Tell\", \"cantidad\": 19.5}, {\"airline\": \"Delta\", \"negativereason\": \"Cancelled Flight\", \"cantidad\": 5.3}, {\"airline\": \"Delta\", \"negativereason\": \"Customer Service Issue\", \"cantidad\": 20.8}, {\"airline\": \"Delta\", \"negativereason\": \"Damaged Luggage\", \"cantidad\": 1.2}, {\"airline\": \"Delta\", \"negativereason\": \"Flight Attendant Complaints\", \"cantidad\": 6.3}, {\"airline\": \"Delta\", \"negativereason\": \"Flight Booking Problems\", \"cantidad\": 4.6}, {\"airline\": \"Delta\", \"negativereason\": \"Late Flight\", \"cantidad\": 28.2}, {\"airline\": \"Delta\", \"negativereason\": \"Lost Luggage\", \"cantidad\": 6.0}, {\"airline\": \"Delta\", \"negativereason\": \"longlines\", \"cantidad\": 1.5}, {\"airline\": \"Southwest\", \"negativereason\": \"Bad Flight\", \"cantidad\": 7.6}, {\"airline\": \"Southwest\", \"negativereason\": \"Can't Tell\", \"cantidad\": 13.4}, {\"airline\": \"Southwest\", \"negativereason\": \"Cancelled Flight\", \"cantidad\": 13.7}, {\"airline\": \"Southwest\", \"negativereason\": \"Customer Service Issue\", \"cantidad\": 33.0}, {\"airline\": \"Southwest\", \"negativereason\": \"Damaged Luggage\", \"cantidad\": 1.2}, {\"airline\": \"Southwest\", \"negativereason\": \"Flight Attendant Complaints\", \"cantidad\": 3.2}, {\"airline\": \"Southwest\", \"negativereason\": \"Flight Booking Problems\", \"cantidad\": 5.1}, {\"airline\": \"Southwest\", \"negativereason\": \"Late Flight\", \"cantidad\": 12.8}, {\"airline\": \"Southwest\", \"negativereason\": \"Lost Luggage\", \"cantidad\": 7.6}, {\"airline\": \"Southwest\", \"negativereason\": \"longlines\", \"cantidad\": 2.4}, {\"airline\": \"US Airways\", \"negativereason\": \"Bad Flight\", \"cantidad\": 4.6}, {\"airline\": \"US Airways\", \"negativereason\": \"Can't Tell\", \"cantidad\": 10.9}, {\"airline\": \"US Airways\", \"negativereason\": \"Cancelled Flight\", \"cantidad\": 8.4}, {\"airline\": \"US Airways\", \"negativereason\": \"Customer Service Issue\", \"cantidad\": 35.8}, {\"airline\": \"US Airways\", \"negativereason\": \"Damaged Luggage\", \"cantidad\": 0.5}, {\"airline\": \"US Airways\", \"negativereason\": \"Flight Attendant Complaints\", \"cantidad\": 5.4}, {\"airline\": \"US Airways\", \"negativereason\": \"Flight Booking Problems\", \"cantidad\": 5.4}, {\"airline\": \"US Airways\", \"negativereason\": \"Late Flight\", \"cantidad\": 20.0}, {\"airline\": \"US Airways\", \"negativereason\": \"Lost Luggage\", \"cantidad\": 6.8}, {\"airline\": \"US Airways\", \"negativereason\": \"longlines\", \"cantidad\": 2.2}, {\"airline\": \"United\", \"negativereason\": \"Bad Flight\", \"cantidad\": 8.2}, {\"airline\": \"United\", \"negativereason\": \"Can't Tell\", \"cantidad\": 14.4}, {\"airline\": \"United\", \"negativereason\": \"Cancelled Flight\", \"cantidad\": 6.9}, {\"airline\": \"United\", \"negativereason\": \"Customer Service Issue\", \"cantidad\": 25.9}, {\"airline\": \"United\", \"negativereason\": \"Damaged Luggage\", \"cantidad\": 0.8}, {\"airline\": \"United\", \"negativereason\": \"Flight Attendant Complaints\", \"cantidad\": 6.4}, {\"airline\": \"United\", \"negativereason\": \"Flight Booking Problems\", \"cantidad\": 5.5}, {\"airline\": \"United\", \"negativereason\": \"Late Flight\", \"cantidad\": 19.9}, {\"airline\": \"United\", \"negativereason\": \"Lost Luggage\", \"cantidad\": 10.2}, {\"airline\": \"United\", \"negativereason\": \"longlines\", \"cantidad\": 1.8}, {\"airline\": \"Virgin America\", \"negativereason\": \"Bad Flight\", \"cantidad\": 10.5}, {\"airline\": \"Virgin America\", \"negativereason\": \"Can't Tell\", \"cantidad\": 12.2}, {\"airline\": \"Virgin America\", \"negativereason\": \"Cancelled Flight\", \"cantidad\": 9.9}, {\"airline\": \"Virgin America\", \"negativereason\": \"Customer Service Issue\", \"cantidad\": 33.1}, {\"airline\": \"Virgin America\", \"negativereason\": \"Damaged Luggage\", \"cantidad\": 2.2}, {\"airline\": \"Virgin America\", \"negativereason\": \"Flight Attendant Complaints\", \"cantidad\": 2.8}, {\"airline\": \"Virgin America\", \"negativereason\": \"Flight Booking Problems\", \"cantidad\": 15.5}, {\"airline\": \"Virgin America\", \"negativereason\": \"Late Flight\", \"cantidad\": 9.4}, {\"airline\": \"Virgin America\", \"negativereason\": \"Lost Luggage\", \"cantidad\": 2.8}, {\"airline\": \"Virgin America\", \"negativereason\": \"longlines\", \"cantidad\": 1.7}]}}, {\"mode\": \"vega-lite\"});\n",
       "</script>"
      ],
      "text/plain": [
       "alt.Chart(...)"
      ]
     },
     "execution_count": 11,
     "metadata": {},
     "output_type": "execute_result"
    }
   ],
   "source": [
    "alt.Chart(df_airline_reason).mark_rect().encode(\n",
    "    x='airline:O',\n",
    "    y='negativereason:O',\n",
    "    tooltip=[\n",
    "        alt.Tooltip('cantidad:Q', title=\"% issue\"),\n",
    "    ],\n",
    "    color='cantidad:Q'\n",
    ").properties(\n",
    "    width=400,\n",
    "    height=400\n",
    ")"
   ]
  },
  {
   "cell_type": "markdown",
   "metadata": {},
   "source": [
    "### linea temporal de todos los tweets"
   ]
  },
  {
   "cell_type": "code",
   "execution_count": 12,
   "metadata": {},
   "outputs": [],
   "source": [
    "df[\"tweet_created\"] = df[\"tweet_created\"].astype(\"datetime64[ns]\")"
   ]
  },
  {
   "cell_type": "code",
   "execution_count": 13,
   "metadata": {},
   "outputs": [],
   "source": [
    "#crear un dataframe para poder crear un grupo\n",
    "df_fecha = pd.DataFrame()\n",
    "df_fecha[\"year\"] = df[\"tweet_created\"].dt.year\n",
    "df_fecha[\"month\"] = df[\"tweet_created\"].dt.month\n",
    "df_fecha[\"day\"] = df[\"tweet_created\"].dt.day\n",
    "df_fecha[\"hour\"] = df[\"tweet_created\"].dt.hour"
   ]
  },
  {
   "cell_type": "code",
   "execution_count": 14,
   "metadata": {},
   "outputs": [],
   "source": [
    "#agrupando por hora los tweets\n",
    "#airline after:2015-02-24 before:2015-02-17\n",
    "grupo_hora = df_fecha.groupby([\"year\", \"month\", \"day\", \"hour\"])"
   ]
  },
  {
   "cell_type": "code",
   "execution_count": 15,
   "metadata": {},
   "outputs": [],
   "source": [
    "# contar los tweets por hora\n",
    "serie_tiempo = grupo_hora[\"hour\"].count()"
   ]
  },
  {
   "cell_type": "code",
   "execution_count": 16,
   "metadata": {},
   "outputs": [],
   "source": [
    "df_x_time = serie_tiempo.index.to_frame(index=None)"
   ]
  },
  {
   "cell_type": "code",
   "execution_count": 17,
   "metadata": {},
   "outputs": [],
   "source": [
    "df_fecha_tweets = pd.DataFrame()\n",
    "df_fecha_tweets[\"fecha\"] = pd.to_datetime(df_x_time)\n",
    "df_fecha_tweets[\"cantidad\"] = serie_tiempo.values"
   ]
  },
  {
   "cell_type": "code",
   "execution_count": 18,
   "metadata": {},
   "outputs": [
    {
     "data": {
      "text/html": [
       "\n",
       "<div id=\"altair-viz-1f3f0a73632145aeb0bf77f6ec091b90\"></div>\n",
       "<script type=\"text/javascript\">\n",
       "  (function(spec, embedOpt){\n",
       "    let outputDiv = document.currentScript.previousElementSibling;\n",
       "    if (outputDiv.id !== \"altair-viz-1f3f0a73632145aeb0bf77f6ec091b90\") {\n",
       "      outputDiv = document.getElementById(\"altair-viz-1f3f0a73632145aeb0bf77f6ec091b90\");\n",
       "    }\n",
       "    const paths = {\n",
       "      \"vega\": \"https://cdn.jsdelivr.net/npm//vega@5?noext\",\n",
       "      \"vega-lib\": \"https://cdn.jsdelivr.net/npm//vega-lib?noext\",\n",
       "      \"vega-lite\": \"https://cdn.jsdelivr.net/npm//vega-lite@4.17.0?noext\",\n",
       "      \"vega-embed\": \"https://cdn.jsdelivr.net/npm//vega-embed@6?noext\",\n",
       "    };\n",
       "\n",
       "    function loadScript(lib) {\n",
       "      return new Promise(function(resolve, reject) {\n",
       "        var s = document.createElement('script');\n",
       "        s.src = paths[lib];\n",
       "        s.async = true;\n",
       "        s.onload = () => resolve(paths[lib]);\n",
       "        s.onerror = () => reject(`Error loading script: ${paths[lib]}`);\n",
       "        document.getElementsByTagName(\"head\")[0].appendChild(s);\n",
       "      });\n",
       "    }\n",
       "\n",
       "    function showError(err) {\n",
       "      outputDiv.innerHTML = `<div class=\"error\" style=\"color:red;\">${err}</div>`;\n",
       "      throw err;\n",
       "    }\n",
       "\n",
       "    function displayChart(vegaEmbed) {\n",
       "      vegaEmbed(outputDiv, spec, embedOpt)\n",
       "        .catch(err => showError(`Javascript Error: ${err.message}<br>This usually means there's a typo in your chart specification. See the javascript console for the full traceback.`));\n",
       "    }\n",
       "\n",
       "    if(typeof define === \"function\" && define.amd) {\n",
       "      requirejs.config({paths});\n",
       "      require([\"vega-embed\"], displayChart, err => showError(`Error loading script: ${err.message}`));\n",
       "    } else if (typeof vegaEmbed === \"function\") {\n",
       "      displayChart(vegaEmbed);\n",
       "    } else {\n",
       "      loadScript(\"vega\")\n",
       "        .then(() => loadScript(\"vega-lite\"))\n",
       "        .then(() => loadScript(\"vega-embed\"))\n",
       "        .catch(showError)\n",
       "        .then(() => displayChart(vegaEmbed));\n",
       "    }\n",
       "  })({\"config\": {\"view\": {\"continuousWidth\": 400, \"continuousHeight\": 300}}, \"data\": {\"name\": \"data-1750b3bddc3f08562cc5792cb7ecc15f\"}, \"mark\": \"line\", \"encoding\": {\"x\": {\"field\": \"fecha\", \"type\": \"temporal\"}, \"y\": {\"field\": \"cantidad\", \"type\": \"quantitative\"}}, \"height\": 300, \"width\": 600, \"$schema\": \"https://vega.github.io/schema/vega-lite/v4.17.0.json\", \"datasets\": {\"data-1750b3bddc3f08562cc5792cb7ecc15f\": [{\"fecha\": \"2015-02-17T07:00:00\", \"cantidad\": 4}, {\"fecha\": \"2015-02-17T08:00:00\", \"cantidad\": 3}, {\"fecha\": \"2015-02-17T09:00:00\", \"cantidad\": 4}, {\"fecha\": \"2015-02-17T10:00:00\", \"cantidad\": 3}, {\"fecha\": \"2015-02-17T11:00:00\", \"cantidad\": 1}, {\"fecha\": \"2015-02-17T12:00:00\", \"cantidad\": 4}, {\"fecha\": \"2015-02-17T13:00:00\", \"cantidad\": 6}, {\"fecha\": \"2015-02-17T14:00:00\", \"cantidad\": 10}, {\"fecha\": \"2015-02-17T15:00:00\", \"cantidad\": 11}, {\"fecha\": \"2015-02-17T16:00:00\", \"cantidad\": 97}, {\"fecha\": \"2015-02-17T17:00:00\", \"cantidad\": 140}, {\"fecha\": \"2015-02-17T18:00:00\", \"cantidad\": 108}, {\"fecha\": \"2015-02-17T19:00:00\", \"cantidad\": 123}, {\"fecha\": \"2015-02-17T20:00:00\", \"cantidad\": 105}, {\"fecha\": \"2015-02-17T21:00:00\", \"cantidad\": 116}, {\"fecha\": \"2015-02-17T22:00:00\", \"cantidad\": 122}, {\"fecha\": \"2015-02-17T23:00:00\", \"cantidad\": 96}, {\"fecha\": \"2015-02-18T00:00:00\", \"cantidad\": 82}, {\"fecha\": \"2015-02-18T01:00:00\", \"cantidad\": 90}, {\"fecha\": \"2015-02-18T02:00:00\", \"cantidad\": 86}, {\"fecha\": \"2015-02-18T03:00:00\", \"cantidad\": 72}, {\"fecha\": \"2015-02-18T04:00:00\", \"cantidad\": 60}, {\"fecha\": \"2015-02-18T05:00:00\", \"cantidad\": 35}, {\"fecha\": \"2015-02-18T06:00:00\", \"cantidad\": 19}, {\"fecha\": \"2015-02-18T07:00:00\", \"cantidad\": 15}, {\"fecha\": \"2015-02-18T08:00:00\", \"cantidad\": 15}, {\"fecha\": \"2015-02-18T09:00:00\", \"cantidad\": 14}, {\"fecha\": \"2015-02-18T10:00:00\", \"cantidad\": 9}, {\"fecha\": \"2015-02-18T11:00:00\", \"cantidad\": 22}, {\"fecha\": \"2015-02-18T12:00:00\", \"cantidad\": 30}, {\"fecha\": \"2015-02-18T13:00:00\", \"cantidad\": 48}, {\"fecha\": \"2015-02-18T14:00:00\", \"cantidad\": 75}, {\"fecha\": \"2015-02-18T15:00:00\", \"cantidad\": 71}, {\"fecha\": \"2015-02-18T16:00:00\", \"cantidad\": 101}, {\"fecha\": \"2015-02-18T17:00:00\", \"cantidad\": 92}, {\"fecha\": \"2015-02-18T18:00:00\", \"cantidad\": 72}, {\"fecha\": \"2015-02-18T19:00:00\", \"cantidad\": 74}, {\"fecha\": \"2015-02-18T20:00:00\", \"cantidad\": 76}, {\"fecha\": \"2015-02-18T21:00:00\", \"cantidad\": 88}, {\"fecha\": \"2015-02-18T22:00:00\", \"cantidad\": 91}, {\"fecha\": \"2015-02-18T23:00:00\", \"cantidad\": 79}, {\"fecha\": \"2015-02-19T00:00:00\", \"cantidad\": 85}, {\"fecha\": \"2015-02-19T01:00:00\", \"cantidad\": 73}, {\"fecha\": \"2015-02-19T02:00:00\", \"cantidad\": 67}, {\"fecha\": \"2015-02-19T03:00:00\", \"cantidad\": 60}, {\"fecha\": \"2015-02-19T04:00:00\", \"cantidad\": 47}, {\"fecha\": \"2015-02-19T05:00:00\", \"cantidad\": 34}, {\"fecha\": \"2015-02-19T06:00:00\", \"cantidad\": 15}, {\"fecha\": \"2015-02-19T07:00:00\", \"cantidad\": 6}, {\"fecha\": \"2015-02-19T08:00:00\", \"cantidad\": 5}, {\"fecha\": \"2015-02-19T09:00:00\", \"cantidad\": 4}, {\"fecha\": \"2015-02-19T10:00:00\", \"cantidad\": 22}, {\"fecha\": \"2015-02-19T11:00:00\", \"cantidad\": 19}, {\"fecha\": \"2015-02-19T12:00:00\", \"cantidad\": 45}, {\"fecha\": \"2015-02-19T13:00:00\", \"cantidad\": 27}, {\"fecha\": \"2015-02-19T14:00:00\", \"cantidad\": 51}, {\"fecha\": \"2015-02-19T15:00:00\", \"cantidad\": 117}, {\"fecha\": \"2015-02-19T16:00:00\", \"cantidad\": 93}, {\"fecha\": \"2015-02-19T17:00:00\", \"cantidad\": 81}, {\"fecha\": \"2015-02-19T18:00:00\", \"cantidad\": 82}, {\"fecha\": \"2015-02-19T19:00:00\", \"cantidad\": 92}, {\"fecha\": \"2015-02-19T20:00:00\", \"cantidad\": 62}, {\"fecha\": \"2015-02-19T21:00:00\", \"cantidad\": 62}, {\"fecha\": \"2015-02-19T22:00:00\", \"cantidad\": 81}, {\"fecha\": \"2015-02-19T23:00:00\", \"cantidad\": 68}, {\"fecha\": \"2015-02-20T00:00:00\", \"cantidad\": 87}, {\"fecha\": \"2015-02-20T01:00:00\", \"cantidad\": 61}, {\"fecha\": \"2015-02-20T02:00:00\", \"cantidad\": 64}, {\"fecha\": \"2015-02-20T03:00:00\", \"cantidad\": 78}, {\"fecha\": \"2015-02-20T04:00:00\", \"cantidad\": 69}, {\"fecha\": \"2015-02-20T05:00:00\", \"cantidad\": 56}, {\"fecha\": \"2015-02-20T06:00:00\", \"cantidad\": 25}, {\"fecha\": \"2015-02-20T07:00:00\", \"cantidad\": 25}, {\"fecha\": \"2015-02-20T08:00:00\", \"cantidad\": 7}, {\"fecha\": \"2015-02-20T09:00:00\", \"cantidad\": 10}, {\"fecha\": \"2015-02-20T10:00:00\", \"cantidad\": 16}, {\"fecha\": \"2015-02-20T11:00:00\", \"cantidad\": 12}, {\"fecha\": \"2015-02-20T12:00:00\", \"cantidad\": 27}, {\"fecha\": \"2015-02-20T13:00:00\", \"cantidad\": 56}, {\"fecha\": \"2015-02-20T14:00:00\", \"cantidad\": 90}, {\"fecha\": \"2015-02-20T15:00:00\", \"cantidad\": 97}, {\"fecha\": \"2015-02-20T16:00:00\", \"cantidad\": 111}, {\"fecha\": \"2015-02-20T17:00:00\", \"cantidad\": 103}, {\"fecha\": \"2015-02-20T18:00:00\", \"cantidad\": 92}, {\"fecha\": \"2015-02-20T19:00:00\", \"cantidad\": 96}, {\"fecha\": \"2015-02-20T20:00:00\", \"cantidad\": 65}, {\"fecha\": \"2015-02-20T21:00:00\", \"cantidad\": 94}, {\"fecha\": \"2015-02-20T22:00:00\", \"cantidad\": 91}, {\"fecha\": \"2015-02-20T23:00:00\", \"cantidad\": 80}, {\"fecha\": \"2015-02-21T00:00:00\", \"cantidad\": 82}, {\"fecha\": \"2015-02-21T01:00:00\", \"cantidad\": 71}, {\"fecha\": \"2015-02-21T02:00:00\", \"cantidad\": 88}, {\"fecha\": \"2015-02-21T03:00:00\", \"cantidad\": 62}, {\"fecha\": \"2015-02-21T04:00:00\", \"cantidad\": 58}, {\"fecha\": \"2015-02-21T05:00:00\", \"cantidad\": 43}, {\"fecha\": \"2015-02-21T06:00:00\", \"cantidad\": 33}, {\"fecha\": \"2015-02-21T07:00:00\", \"cantidad\": 16}, {\"fecha\": \"2015-02-21T08:00:00\", \"cantidad\": 7}, {\"fecha\": \"2015-02-21T09:00:00\", \"cantidad\": 7}, {\"fecha\": \"2015-02-21T10:00:00\", \"cantidad\": 29}, {\"fecha\": \"2015-02-21T11:00:00\", \"cantidad\": 20}, {\"fecha\": \"2015-02-21T12:00:00\", \"cantidad\": 30}, {\"fecha\": \"2015-02-21T13:00:00\", \"cantidad\": 40}, {\"fecha\": \"2015-02-21T14:00:00\", \"cantidad\": 43}, {\"fecha\": \"2015-02-21T15:00:00\", \"cantidad\": 64}, {\"fecha\": \"2015-02-21T16:00:00\", \"cantidad\": 70}, {\"fecha\": \"2015-02-21T17:00:00\", \"cantidad\": 72}, {\"fecha\": \"2015-02-21T18:00:00\", \"cantidad\": 78}, {\"fecha\": \"2015-02-21T19:00:00\", \"cantidad\": 84}, {\"fecha\": \"2015-02-21T20:00:00\", \"cantidad\": 116}, {\"fecha\": \"2015-02-21T21:00:00\", \"cantidad\": 110}, {\"fecha\": \"2015-02-21T22:00:00\", \"cantidad\": 103}, {\"fecha\": \"2015-02-21T23:00:00\", \"cantidad\": 92}, {\"fecha\": \"2015-02-22T00:00:00\", \"cantidad\": 64}, {\"fecha\": \"2015-02-22T01:00:00\", \"cantidad\": 92}, {\"fecha\": \"2015-02-22T02:00:00\", \"cantidad\": 96}, {\"fecha\": \"2015-02-22T03:00:00\", \"cantidad\": 107}, {\"fecha\": \"2015-02-22T04:00:00\", \"cantidad\": 80}, {\"fecha\": \"2015-02-22T05:00:00\", \"cantidad\": 84}, {\"fecha\": \"2015-02-22T06:00:00\", \"cantidad\": 49}, {\"fecha\": \"2015-02-22T07:00:00\", \"cantidad\": 20}, {\"fecha\": \"2015-02-22T08:00:00\", \"cantidad\": 27}, {\"fecha\": \"2015-02-22T09:00:00\", \"cantidad\": 17}, {\"fecha\": \"2015-02-22T10:00:00\", \"cantidad\": 22}, {\"fecha\": \"2015-02-22T11:00:00\", \"cantidad\": 31}, {\"fecha\": \"2015-02-22T12:00:00\", \"cantidad\": 46}, {\"fecha\": \"2015-02-22T13:00:00\", \"cantidad\": 90}, {\"fecha\": \"2015-02-22T14:00:00\", \"cantidad\": 92}, {\"fecha\": \"2015-02-22T15:00:00\", \"cantidad\": 116}, {\"fecha\": \"2015-02-22T16:00:00\", \"cantidad\": 130}, {\"fecha\": \"2015-02-22T17:00:00\", \"cantidad\": 97}, {\"fecha\": \"2015-02-22T18:00:00\", \"cantidad\": 108}, {\"fecha\": \"2015-02-22T19:00:00\", \"cantidad\": 100}, {\"fecha\": \"2015-02-22T20:00:00\", \"cantidad\": 197}, {\"fecha\": \"2015-02-22T21:00:00\", \"cantidad\": 229}, {\"fecha\": \"2015-02-22T22:00:00\", \"cantidad\": 273}, {\"fecha\": \"2015-02-22T23:00:00\", \"cantidad\": 225}, {\"fecha\": \"2015-02-23T00:00:00\", \"cantidad\": 209}, {\"fecha\": \"2015-02-23T01:00:00\", \"cantidad\": 277}, {\"fecha\": \"2015-02-23T02:00:00\", \"cantidad\": 225}, {\"fecha\": \"2015-02-23T03:00:00\", \"cantidad\": 175}, {\"fecha\": \"2015-02-23T04:00:00\", \"cantidad\": 152}, {\"fecha\": \"2015-02-23T05:00:00\", \"cantidad\": 92}, {\"fecha\": \"2015-02-23T06:00:00\", \"cantidad\": 84}, {\"fecha\": \"2015-02-23T07:00:00\", \"cantidad\": 65}, {\"fecha\": \"2015-02-23T08:00:00\", \"cantidad\": 38}, {\"fecha\": \"2015-02-23T09:00:00\", \"cantidad\": 32}, {\"fecha\": \"2015-02-23T10:00:00\", \"cantidad\": 39}, {\"fecha\": \"2015-02-23T11:00:00\", \"cantidad\": 56}, {\"fecha\": \"2015-02-23T12:00:00\", \"cantidad\": 95}, {\"fecha\": \"2015-02-23T13:00:00\", \"cantidad\": 119}, {\"fecha\": \"2015-02-23T14:00:00\", \"cantidad\": 149}, {\"fecha\": \"2015-02-23T15:00:00\", \"cantidad\": 164}, {\"fecha\": \"2015-02-23T16:00:00\", \"cantidad\": 173}, {\"fecha\": \"2015-02-23T17:00:00\", \"cantidad\": 189}, {\"fecha\": \"2015-02-23T18:00:00\", \"cantidad\": 219}, {\"fecha\": \"2015-02-23T19:00:00\", \"cantidad\": 245}, {\"fecha\": \"2015-02-23T20:00:00\", \"cantidad\": 203}, {\"fecha\": \"2015-02-23T21:00:00\", \"cantidad\": 201}, {\"fecha\": \"2015-02-23T22:00:00\", \"cantidad\": 166}, {\"fecha\": \"2015-02-23T23:00:00\", \"cantidad\": 148}, {\"fecha\": \"2015-02-24T00:00:00\", \"cantidad\": 125}, {\"fecha\": \"2015-02-24T01:00:00\", \"cantidad\": 90}, {\"fecha\": \"2015-02-24T02:00:00\", \"cantidad\": 125}, {\"fecha\": \"2015-02-24T03:00:00\", \"cantidad\": 121}, {\"fecha\": \"2015-02-24T04:00:00\", \"cantidad\": 136}, {\"fecha\": \"2015-02-24T05:00:00\", \"cantidad\": 86}, {\"fecha\": \"2015-02-24T06:00:00\", \"cantidad\": 67}, {\"fecha\": \"2015-02-24T07:00:00\", \"cantidad\": 42}, {\"fecha\": \"2015-02-24T08:00:00\", \"cantidad\": 29}, {\"fecha\": \"2015-02-24T09:00:00\", \"cantidad\": 23}, {\"fecha\": \"2015-02-24T10:00:00\", \"cantidad\": 34}, {\"fecha\": \"2015-02-24T11:00:00\", \"cantidad\": 64}, {\"fecha\": \"2015-02-24T12:00:00\", \"cantidad\": 91}, {\"fecha\": \"2015-02-24T13:00:00\", \"cantidad\": 91}, {\"fecha\": \"2015-02-24T14:00:00\", \"cantidad\": 111}, {\"fecha\": \"2015-02-24T15:00:00\", \"cantidad\": 136}, {\"fecha\": \"2015-02-24T16:00:00\", \"cantidad\": 151}, {\"fecha\": \"2015-02-24T17:00:00\", \"cantidad\": 239}, {\"fecha\": \"2015-02-24T18:00:00\", \"cantidad\": 203}, {\"fecha\": \"2015-02-24T19:00:00\", \"cantidad\": 172}]}}, {\"mode\": \"vega-lite\"});\n",
       "</script>"
      ],
      "text/plain": [
       "alt.Chart(...)"
      ]
     },
     "execution_count": 18,
     "metadata": {},
     "output_type": "execute_result"
    }
   ],
   "source": [
    "alt.Chart(df_fecha_tweets).mark_line().encode(\n",
    "    x='fecha:T',\n",
    "    y='cantidad:Q'\n",
    ").properties(\n",
    "    width=600,\n",
    "    height=300\n",
    ")"
   ]
  },
  {
   "cell_type": "markdown",
   "metadata": {},
   "source": [
    "### linea temporal de todos los tweets del dia 18"
   ]
  },
  {
   "cell_type": "code",
   "execution_count": 19,
   "metadata": {},
   "outputs": [
    {
     "data": {
      "text/html": [
       "\n",
       "<div id=\"altair-viz-0004352976e44b15b787904f1f777a92\"></div>\n",
       "<script type=\"text/javascript\">\n",
       "  (function(spec, embedOpt){\n",
       "    let outputDiv = document.currentScript.previousElementSibling;\n",
       "    if (outputDiv.id !== \"altair-viz-0004352976e44b15b787904f1f777a92\") {\n",
       "      outputDiv = document.getElementById(\"altair-viz-0004352976e44b15b787904f1f777a92\");\n",
       "    }\n",
       "    const paths = {\n",
       "      \"vega\": \"https://cdn.jsdelivr.net/npm//vega@5?noext\",\n",
       "      \"vega-lib\": \"https://cdn.jsdelivr.net/npm//vega-lib?noext\",\n",
       "      \"vega-lite\": \"https://cdn.jsdelivr.net/npm//vega-lite@4.17.0?noext\",\n",
       "      \"vega-embed\": \"https://cdn.jsdelivr.net/npm//vega-embed@6?noext\",\n",
       "    };\n",
       "\n",
       "    function loadScript(lib) {\n",
       "      return new Promise(function(resolve, reject) {\n",
       "        var s = document.createElement('script');\n",
       "        s.src = paths[lib];\n",
       "        s.async = true;\n",
       "        s.onload = () => resolve(paths[lib]);\n",
       "        s.onerror = () => reject(`Error loading script: ${paths[lib]}`);\n",
       "        document.getElementsByTagName(\"head\")[0].appendChild(s);\n",
       "      });\n",
       "    }\n",
       "\n",
       "    function showError(err) {\n",
       "      outputDiv.innerHTML = `<div class=\"error\" style=\"color:red;\">${err}</div>`;\n",
       "      throw err;\n",
       "    }\n",
       "\n",
       "    function displayChart(vegaEmbed) {\n",
       "      vegaEmbed(outputDiv, spec, embedOpt)\n",
       "        .catch(err => showError(`Javascript Error: ${err.message}<br>This usually means there's a typo in your chart specification. See the javascript console for the full traceback.`));\n",
       "    }\n",
       "\n",
       "    if(typeof define === \"function\" && define.amd) {\n",
       "      requirejs.config({paths});\n",
       "      require([\"vega-embed\"], displayChart, err => showError(`Error loading script: ${err.message}`));\n",
       "    } else if (typeof vegaEmbed === \"function\") {\n",
       "      displayChart(vegaEmbed);\n",
       "    } else {\n",
       "      loadScript(\"vega\")\n",
       "        .then(() => loadScript(\"vega-lite\"))\n",
       "        .then(() => loadScript(\"vega-embed\"))\n",
       "        .catch(showError)\n",
       "        .then(() => displayChart(vegaEmbed));\n",
       "    }\n",
       "  })({\"config\": {\"view\": {\"continuousWidth\": 400, \"continuousHeight\": 300}}, \"data\": {\"name\": \"data-695391bd99136b47a1a6aa77f8b4f55a\"}, \"mark\": \"line\", \"encoding\": {\"x\": {\"field\": \"fecha\", \"type\": \"temporal\"}, \"y\": {\"field\": \"cantidad\", \"type\": \"quantitative\"}}, \"height\": 300, \"width\": 600, \"$schema\": \"https://vega.github.io/schema/vega-lite/v4.17.0.json\", \"datasets\": {\"data-695391bd99136b47a1a6aa77f8b4f55a\": [{\"fecha\": \"2015-02-18T01:00:00\", \"cantidad\": 90}, {\"fecha\": \"2015-02-18T02:00:00\", \"cantidad\": 86}, {\"fecha\": \"2015-02-18T03:00:00\", \"cantidad\": 72}, {\"fecha\": \"2015-02-18T04:00:00\", \"cantidad\": 60}, {\"fecha\": \"2015-02-18T05:00:00\", \"cantidad\": 35}, {\"fecha\": \"2015-02-18T06:00:00\", \"cantidad\": 19}, {\"fecha\": \"2015-02-18T07:00:00\", \"cantidad\": 15}, {\"fecha\": \"2015-02-18T08:00:00\", \"cantidad\": 15}, {\"fecha\": \"2015-02-18T09:00:00\", \"cantidad\": 14}, {\"fecha\": \"2015-02-18T10:00:00\", \"cantidad\": 9}, {\"fecha\": \"2015-02-18T11:00:00\", \"cantidad\": 22}, {\"fecha\": \"2015-02-18T12:00:00\", \"cantidad\": 30}, {\"fecha\": \"2015-02-18T13:00:00\", \"cantidad\": 48}, {\"fecha\": \"2015-02-18T14:00:00\", \"cantidad\": 75}, {\"fecha\": \"2015-02-18T15:00:00\", \"cantidad\": 71}, {\"fecha\": \"2015-02-18T16:00:00\", \"cantidad\": 101}, {\"fecha\": \"2015-02-18T17:00:00\", \"cantidad\": 92}, {\"fecha\": \"2015-02-18T18:00:00\", \"cantidad\": 72}, {\"fecha\": \"2015-02-18T19:00:00\", \"cantidad\": 74}, {\"fecha\": \"2015-02-18T20:00:00\", \"cantidad\": 76}, {\"fecha\": \"2015-02-18T21:00:00\", \"cantidad\": 88}, {\"fecha\": \"2015-02-18T22:00:00\", \"cantidad\": 91}, {\"fecha\": \"2015-02-18T23:00:00\", \"cantidad\": 79}]}}, {\"mode\": \"vega-lite\"});\n",
       "</script>"
      ],
      "text/plain": [
       "alt.Chart(...)"
      ]
     },
     "execution_count": 19,
     "metadata": {},
     "output_type": "execute_result"
    }
   ],
   "source": [
    "dia = df_fecha_tweets[(df_fecha_tweets[\"fecha\"] > \"2015-02-18\") &\n",
    "                      (df_fecha_tweets[\"fecha\"] < \"2015-02-19\") ]\n",
    "alt.Chart(dia).mark_line().encode(\n",
    "    x='fecha:T',\n",
    "    y='cantidad:Q'\n",
    ").properties(\n",
    "    width=600,\n",
    "    height=300\n",
    ")"
   ]
  },
  {
   "cell_type": "markdown",
   "metadata": {},
   "source": [
    "### linea temporal de los sentimientos de los tweets"
   ]
  },
  {
   "cell_type": "code",
   "execution_count": 20,
   "metadata": {},
   "outputs": [],
   "source": [
    "df_fecha_sent = df_fecha\n",
    "df_fecha_sent[\"sentiment\"] = df[\"airline_sentiment\"]\n",
    "grupo_hora_sent = df_fecha_sent.groupby([\"year\", \"month\", \"day\", \"hour\", \"sentiment\"])\n",
    "serie_tiempo = grupo_hora_sent[\"sentiment\"].count()"
   ]
  },
  {
   "cell_type": "code",
   "execution_count": 21,
   "metadata": {},
   "outputs": [],
   "source": [
    "df_x_time = serie_tiempo.index.to_frame(index=None)"
   ]
  },
  {
   "cell_type": "code",
   "execution_count": 22,
   "metadata": {},
   "outputs": [],
   "source": [
    "df_fecha_tweets_sent = pd.DataFrame()\n",
    "df_fecha_tweets_sent[\"sentiment\"] = df_x_time[\"sentiment\"]\n",
    "df_fecha_tweets_sent[\"fecha\"] = pd.to_datetime(df_x_time[[\"year\",\"month\",\"day\", \"hour\"]])\n",
    "df_fecha_tweets_sent[\"cantidad\"] = serie_tiempo.values"
   ]
  },
  {
   "cell_type": "code",
   "execution_count": 23,
   "metadata": {},
   "outputs": [
    {
     "data": {
      "text/html": [
       "\n",
       "<div id=\"altair-viz-965429e200034031b3ff29dcd4757ab9\"></div>\n",
       "<script type=\"text/javascript\">\n",
       "  (function(spec, embedOpt){\n",
       "    let outputDiv = document.currentScript.previousElementSibling;\n",
       "    if (outputDiv.id !== \"altair-viz-965429e200034031b3ff29dcd4757ab9\") {\n",
       "      outputDiv = document.getElementById(\"altair-viz-965429e200034031b3ff29dcd4757ab9\");\n",
       "    }\n",
       "    const paths = {\n",
       "      \"vega\": \"https://cdn.jsdelivr.net/npm//vega@5?noext\",\n",
       "      \"vega-lib\": \"https://cdn.jsdelivr.net/npm//vega-lib?noext\",\n",
       "      \"vega-lite\": \"https://cdn.jsdelivr.net/npm//vega-lite@4.17.0?noext\",\n",
       "      \"vega-embed\": \"https://cdn.jsdelivr.net/npm//vega-embed@6?noext\",\n",
       "    };\n",
       "\n",
       "    function loadScript(lib) {\n",
       "      return new Promise(function(resolve, reject) {\n",
       "        var s = document.createElement('script');\n",
       "        s.src = paths[lib];\n",
       "        s.async = true;\n",
       "        s.onload = () => resolve(paths[lib]);\n",
       "        s.onerror = () => reject(`Error loading script: ${paths[lib]}`);\n",
       "        document.getElementsByTagName(\"head\")[0].appendChild(s);\n",
       "      });\n",
       "    }\n",
       "\n",
       "    function showError(err) {\n",
       "      outputDiv.innerHTML = `<div class=\"error\" style=\"color:red;\">${err}</div>`;\n",
       "      throw err;\n",
       "    }\n",
       "\n",
       "    function displayChart(vegaEmbed) {\n",
       "      vegaEmbed(outputDiv, spec, embedOpt)\n",
       "        .catch(err => showError(`Javascript Error: ${err.message}<br>This usually means there's a typo in your chart specification. See the javascript console for the full traceback.`));\n",
       "    }\n",
       "\n",
       "    if(typeof define === \"function\" && define.amd) {\n",
       "      requirejs.config({paths});\n",
       "      require([\"vega-embed\"], displayChart, err => showError(`Error loading script: ${err.message}`));\n",
       "    } else if (typeof vegaEmbed === \"function\") {\n",
       "      displayChart(vegaEmbed);\n",
       "    } else {\n",
       "      loadScript(\"vega\")\n",
       "        .then(() => loadScript(\"vega-lite\"))\n",
       "        .then(() => loadScript(\"vega-embed\"))\n",
       "        .catch(showError)\n",
       "        .then(() => displayChart(vegaEmbed));\n",
       "    }\n",
       "  })({\"config\": {\"view\": {\"continuousWidth\": 400, \"continuousHeight\": 300}}, \"data\": {\"name\": \"data-59e951ee798b2f7d788e56a45085c52d\"}, \"mark\": \"line\", \"encoding\": {\"color\": {\"field\": \"sentiment\", \"type\": \"nominal\"}, \"x\": {\"field\": \"fecha\", \"type\": \"temporal\"}, \"y\": {\"field\": \"cantidad\", \"type\": \"quantitative\"}}, \"height\": 300, \"width\": 800, \"$schema\": \"https://vega.github.io/schema/vega-lite/v4.17.0.json\", \"datasets\": {\"data-59e951ee798b2f7d788e56a45085c52d\": [{\"sentiment\": \"negative\", \"fecha\": \"2015-02-17T07:00:00\", \"cantidad\": 3}, {\"sentiment\": \"neutral\", \"fecha\": \"2015-02-17T07:00:00\", \"cantidad\": 1}, {\"sentiment\": \"negative\", \"fecha\": \"2015-02-17T08:00:00\", \"cantidad\": 3}, {\"sentiment\": \"negative\", \"fecha\": \"2015-02-17T09:00:00\", \"cantidad\": 4}, {\"sentiment\": \"negative\", \"fecha\": \"2015-02-17T10:00:00\", \"cantidad\": 2}, {\"sentiment\": \"neutral\", \"fecha\": \"2015-02-17T10:00:00\", \"cantidad\": 1}, {\"sentiment\": \"neutral\", \"fecha\": \"2015-02-17T11:00:00\", \"cantidad\": 1}, {\"sentiment\": \"negative\", \"fecha\": \"2015-02-17T12:00:00\", \"cantidad\": 2}, {\"sentiment\": \"neutral\", \"fecha\": \"2015-02-17T12:00:00\", \"cantidad\": 1}, {\"sentiment\": \"positive\", \"fecha\": \"2015-02-17T12:00:00\", \"cantidad\": 1}, {\"sentiment\": \"negative\", \"fecha\": \"2015-02-17T13:00:00\", \"cantidad\": 4}, {\"sentiment\": \"positive\", \"fecha\": \"2015-02-17T13:00:00\", \"cantidad\": 2}, {\"sentiment\": \"negative\", \"fecha\": \"2015-02-17T14:00:00\", \"cantidad\": 6}, {\"sentiment\": \"neutral\", \"fecha\": \"2015-02-17T14:00:00\", \"cantidad\": 4}, {\"sentiment\": \"negative\", \"fecha\": \"2015-02-17T15:00:00\", \"cantidad\": 8}, {\"sentiment\": \"neutral\", \"fecha\": \"2015-02-17T15:00:00\", \"cantidad\": 1}, {\"sentiment\": \"positive\", \"fecha\": \"2015-02-17T15:00:00\", \"cantidad\": 2}, {\"sentiment\": \"negative\", \"fecha\": \"2015-02-17T16:00:00\", \"cantidad\": 63}, {\"sentiment\": \"neutral\", \"fecha\": \"2015-02-17T16:00:00\", \"cantidad\": 21}, {\"sentiment\": \"positive\", \"fecha\": \"2015-02-17T16:00:00\", \"cantidad\": 13}, {\"sentiment\": \"negative\", \"fecha\": \"2015-02-17T17:00:00\", \"cantidad\": 72}, {\"sentiment\": \"neutral\", \"fecha\": \"2015-02-17T17:00:00\", \"cantidad\": 40}, {\"sentiment\": \"positive\", \"fecha\": \"2015-02-17T17:00:00\", \"cantidad\": 28}, {\"sentiment\": \"negative\", \"fecha\": \"2015-02-17T18:00:00\", \"cantidad\": 61}, {\"sentiment\": \"neutral\", \"fecha\": \"2015-02-17T18:00:00\", \"cantidad\": 24}, {\"sentiment\": \"positive\", \"fecha\": \"2015-02-17T18:00:00\", \"cantidad\": 23}, {\"sentiment\": \"negative\", \"fecha\": \"2015-02-17T19:00:00\", \"cantidad\": 77}, {\"sentiment\": \"neutral\", \"fecha\": \"2015-02-17T19:00:00\", \"cantidad\": 24}, {\"sentiment\": \"positive\", \"fecha\": \"2015-02-17T19:00:00\", \"cantidad\": 22}, {\"sentiment\": \"negative\", \"fecha\": \"2015-02-17T20:00:00\", \"cantidad\": 57}, {\"sentiment\": \"neutral\", \"fecha\": \"2015-02-17T20:00:00\", \"cantidad\": 27}, {\"sentiment\": \"positive\", \"fecha\": \"2015-02-17T20:00:00\", \"cantidad\": 21}, {\"sentiment\": \"negative\", \"fecha\": \"2015-02-17T21:00:00\", \"cantidad\": 60}, {\"sentiment\": \"neutral\", \"fecha\": \"2015-02-17T21:00:00\", \"cantidad\": 32}, {\"sentiment\": \"positive\", \"fecha\": \"2015-02-17T21:00:00\", \"cantidad\": 24}, {\"sentiment\": \"negative\", \"fecha\": \"2015-02-17T22:00:00\", \"cantidad\": 65}, {\"sentiment\": \"neutral\", \"fecha\": \"2015-02-17T22:00:00\", \"cantidad\": 32}, {\"sentiment\": \"positive\", \"fecha\": \"2015-02-17T22:00:00\", \"cantidad\": 25}, {\"sentiment\": \"negative\", \"fecha\": \"2015-02-17T23:00:00\", \"cantidad\": 65}, {\"sentiment\": \"neutral\", \"fecha\": \"2015-02-17T23:00:00\", \"cantidad\": 11}, {\"sentiment\": \"positive\", \"fecha\": \"2015-02-17T23:00:00\", \"cantidad\": 20}, {\"sentiment\": \"negative\", \"fecha\": \"2015-02-18T00:00:00\", \"cantidad\": 50}, {\"sentiment\": \"neutral\", \"fecha\": \"2015-02-18T00:00:00\", \"cantidad\": 15}, {\"sentiment\": \"positive\", \"fecha\": \"2015-02-18T00:00:00\", \"cantidad\": 17}, {\"sentiment\": \"negative\", \"fecha\": \"2015-02-18T01:00:00\", \"cantidad\": 59}, {\"sentiment\": \"neutral\", \"fecha\": \"2015-02-18T01:00:00\", \"cantidad\": 15}, {\"sentiment\": \"positive\", \"fecha\": \"2015-02-18T01:00:00\", \"cantidad\": 16}, {\"sentiment\": \"negative\", \"fecha\": \"2015-02-18T02:00:00\", \"cantidad\": 48}, {\"sentiment\": \"neutral\", \"fecha\": \"2015-02-18T02:00:00\", \"cantidad\": 18}, {\"sentiment\": \"positive\", \"fecha\": \"2015-02-18T02:00:00\", \"cantidad\": 20}, {\"sentiment\": \"negative\", \"fecha\": \"2015-02-18T03:00:00\", \"cantidad\": 47}, {\"sentiment\": \"neutral\", \"fecha\": \"2015-02-18T03:00:00\", \"cantidad\": 7}, {\"sentiment\": \"positive\", \"fecha\": \"2015-02-18T03:00:00\", \"cantidad\": 18}, {\"sentiment\": \"negative\", \"fecha\": \"2015-02-18T04:00:00\", \"cantidad\": 34}, {\"sentiment\": \"neutral\", \"fecha\": \"2015-02-18T04:00:00\", \"cantidad\": 11}, {\"sentiment\": \"positive\", \"fecha\": \"2015-02-18T04:00:00\", \"cantidad\": 15}, {\"sentiment\": \"negative\", \"fecha\": \"2015-02-18T05:00:00\", \"cantidad\": 23}, {\"sentiment\": \"neutral\", \"fecha\": \"2015-02-18T05:00:00\", \"cantidad\": 8}, {\"sentiment\": \"positive\", \"fecha\": \"2015-02-18T05:00:00\", \"cantidad\": 4}, {\"sentiment\": \"negative\", \"fecha\": \"2015-02-18T06:00:00\", \"cantidad\": 17}, {\"sentiment\": \"neutral\", \"fecha\": \"2015-02-18T06:00:00\", \"cantidad\": 1}, {\"sentiment\": \"positive\", \"fecha\": \"2015-02-18T06:00:00\", \"cantidad\": 1}, {\"sentiment\": \"negative\", \"fecha\": \"2015-02-18T07:00:00\", \"cantidad\": 11}, {\"sentiment\": \"neutral\", \"fecha\": \"2015-02-18T07:00:00\", \"cantidad\": 3}, {\"sentiment\": \"positive\", \"fecha\": \"2015-02-18T07:00:00\", \"cantidad\": 1}, {\"sentiment\": \"negative\", \"fecha\": \"2015-02-18T08:00:00\", \"cantidad\": 8}, {\"sentiment\": \"neutral\", \"fecha\": \"2015-02-18T08:00:00\", \"cantidad\": 6}, {\"sentiment\": \"positive\", \"fecha\": \"2015-02-18T08:00:00\", \"cantidad\": 1}, {\"sentiment\": \"negative\", \"fecha\": \"2015-02-18T09:00:00\", \"cantidad\": 10}, {\"sentiment\": \"neutral\", \"fecha\": \"2015-02-18T09:00:00\", \"cantidad\": 3}, {\"sentiment\": \"positive\", \"fecha\": \"2015-02-18T09:00:00\", \"cantidad\": 1}, {\"sentiment\": \"negative\", \"fecha\": \"2015-02-18T10:00:00\", \"cantidad\": 2}, {\"sentiment\": \"neutral\", \"fecha\": \"2015-02-18T10:00:00\", \"cantidad\": 7}, {\"sentiment\": \"negative\", \"fecha\": \"2015-02-18T11:00:00\", \"cantidad\": 13}, {\"sentiment\": \"neutral\", \"fecha\": \"2015-02-18T11:00:00\", \"cantidad\": 5}, {\"sentiment\": \"positive\", \"fecha\": \"2015-02-18T11:00:00\", \"cantidad\": 4}, {\"sentiment\": \"negative\", \"fecha\": \"2015-02-18T12:00:00\", \"cantidad\": 18}, {\"sentiment\": \"neutral\", \"fecha\": \"2015-02-18T12:00:00\", \"cantidad\": 3}, {\"sentiment\": \"positive\", \"fecha\": \"2015-02-18T12:00:00\", \"cantidad\": 9}, {\"sentiment\": \"negative\", \"fecha\": \"2015-02-18T13:00:00\", \"cantidad\": 23}, {\"sentiment\": \"neutral\", \"fecha\": \"2015-02-18T13:00:00\", \"cantidad\": 14}, {\"sentiment\": \"positive\", \"fecha\": \"2015-02-18T13:00:00\", \"cantidad\": 11}, {\"sentiment\": \"negative\", \"fecha\": \"2015-02-18T14:00:00\", \"cantidad\": 46}, {\"sentiment\": \"neutral\", \"fecha\": \"2015-02-18T14:00:00\", \"cantidad\": 15}, {\"sentiment\": \"positive\", \"fecha\": \"2015-02-18T14:00:00\", \"cantidad\": 14}, {\"sentiment\": \"negative\", \"fecha\": \"2015-02-18T15:00:00\", \"cantidad\": 41}, {\"sentiment\": \"neutral\", \"fecha\": \"2015-02-18T15:00:00\", \"cantidad\": 15}, {\"sentiment\": \"positive\", \"fecha\": \"2015-02-18T15:00:00\", \"cantidad\": 15}, {\"sentiment\": \"negative\", \"fecha\": \"2015-02-18T16:00:00\", \"cantidad\": 53}, {\"sentiment\": \"neutral\", \"fecha\": \"2015-02-18T16:00:00\", \"cantidad\": 27}, {\"sentiment\": \"positive\", \"fecha\": \"2015-02-18T16:00:00\", \"cantidad\": 21}, {\"sentiment\": \"negative\", \"fecha\": \"2015-02-18T17:00:00\", \"cantidad\": 46}, {\"sentiment\": \"neutral\", \"fecha\": \"2015-02-18T17:00:00\", \"cantidad\": 22}, {\"sentiment\": \"positive\", \"fecha\": \"2015-02-18T17:00:00\", \"cantidad\": 24}, {\"sentiment\": \"negative\", \"fecha\": \"2015-02-18T18:00:00\", \"cantidad\": 41}, {\"sentiment\": \"neutral\", \"fecha\": \"2015-02-18T18:00:00\", \"cantidad\": 14}, {\"sentiment\": \"positive\", \"fecha\": \"2015-02-18T18:00:00\", \"cantidad\": 17}, {\"sentiment\": \"negative\", \"fecha\": \"2015-02-18T19:00:00\", \"cantidad\": 46}, {\"sentiment\": \"neutral\", \"fecha\": \"2015-02-18T19:00:00\", \"cantidad\": 19}, {\"sentiment\": \"positive\", \"fecha\": \"2015-02-18T19:00:00\", \"cantidad\": 9}, {\"sentiment\": \"negative\", \"fecha\": \"2015-02-18T20:00:00\", \"cantidad\": 44}, {\"sentiment\": \"neutral\", \"fecha\": \"2015-02-18T20:00:00\", \"cantidad\": 18}, {\"sentiment\": \"positive\", \"fecha\": \"2015-02-18T20:00:00\", \"cantidad\": 14}, {\"sentiment\": \"negative\", \"fecha\": \"2015-02-18T21:00:00\", \"cantidad\": 52}, {\"sentiment\": \"neutral\", \"fecha\": \"2015-02-18T21:00:00\", \"cantidad\": 17}, {\"sentiment\": \"positive\", \"fecha\": \"2015-02-18T21:00:00\", \"cantidad\": 19}, {\"sentiment\": \"negative\", \"fecha\": \"2015-02-18T22:00:00\", \"cantidad\": 53}, {\"sentiment\": \"neutral\", \"fecha\": \"2015-02-18T22:00:00\", \"cantidad\": 17}, {\"sentiment\": \"positive\", \"fecha\": \"2015-02-18T22:00:00\", \"cantidad\": 21}, {\"sentiment\": \"negative\", \"fecha\": \"2015-02-18T23:00:00\", \"cantidad\": 42}, {\"sentiment\": \"neutral\", \"fecha\": \"2015-02-18T23:00:00\", \"cantidad\": 24}, {\"sentiment\": \"positive\", \"fecha\": \"2015-02-18T23:00:00\", \"cantidad\": 13}, {\"sentiment\": \"negative\", \"fecha\": \"2015-02-19T00:00:00\", \"cantidad\": 44}, {\"sentiment\": \"neutral\", \"fecha\": \"2015-02-19T00:00:00\", \"cantidad\": 25}, {\"sentiment\": \"positive\", \"fecha\": \"2015-02-19T00:00:00\", \"cantidad\": 16}, {\"sentiment\": \"negative\", \"fecha\": \"2015-02-19T01:00:00\", \"cantidad\": 35}, {\"sentiment\": \"neutral\", \"fecha\": \"2015-02-19T01:00:00\", \"cantidad\": 21}, {\"sentiment\": \"positive\", \"fecha\": \"2015-02-19T01:00:00\", \"cantidad\": 17}, {\"sentiment\": \"negative\", \"fecha\": \"2015-02-19T02:00:00\", \"cantidad\": 32}, {\"sentiment\": \"neutral\", \"fecha\": \"2015-02-19T02:00:00\", \"cantidad\": 13}, {\"sentiment\": \"positive\", \"fecha\": \"2015-02-19T02:00:00\", \"cantidad\": 22}, {\"sentiment\": \"negative\", \"fecha\": \"2015-02-19T03:00:00\", \"cantidad\": 38}, {\"sentiment\": \"neutral\", \"fecha\": \"2015-02-19T03:00:00\", \"cantidad\": 15}, {\"sentiment\": \"positive\", \"fecha\": \"2015-02-19T03:00:00\", \"cantidad\": 7}, {\"sentiment\": \"negative\", \"fecha\": \"2015-02-19T04:00:00\", \"cantidad\": 25}, {\"sentiment\": \"neutral\", \"fecha\": \"2015-02-19T04:00:00\", \"cantidad\": 13}, {\"sentiment\": \"positive\", \"fecha\": \"2015-02-19T04:00:00\", \"cantidad\": 9}, {\"sentiment\": \"negative\", \"fecha\": \"2015-02-19T05:00:00\", \"cantidad\": 16}, {\"sentiment\": \"neutral\", \"fecha\": \"2015-02-19T05:00:00\", \"cantidad\": 12}, {\"sentiment\": \"positive\", \"fecha\": \"2015-02-19T05:00:00\", \"cantidad\": 6}, {\"sentiment\": \"negative\", \"fecha\": \"2015-02-19T06:00:00\", \"cantidad\": 6}, {\"sentiment\": \"neutral\", \"fecha\": \"2015-02-19T06:00:00\", \"cantidad\": 7}, {\"sentiment\": \"positive\", \"fecha\": \"2015-02-19T06:00:00\", \"cantidad\": 2}, {\"sentiment\": \"negative\", \"fecha\": \"2015-02-19T07:00:00\", \"cantidad\": 2}, {\"sentiment\": \"neutral\", \"fecha\": \"2015-02-19T07:00:00\", \"cantidad\": 3}, {\"sentiment\": \"positive\", \"fecha\": \"2015-02-19T07:00:00\", \"cantidad\": 1}, {\"sentiment\": \"negative\", \"fecha\": \"2015-02-19T08:00:00\", \"cantidad\": 4}, {\"sentiment\": \"positive\", \"fecha\": \"2015-02-19T08:00:00\", \"cantidad\": 1}, {\"sentiment\": \"negative\", \"fecha\": \"2015-02-19T09:00:00\", \"cantidad\": 1}, {\"sentiment\": \"neutral\", \"fecha\": \"2015-02-19T09:00:00\", \"cantidad\": 2}, {\"sentiment\": \"positive\", \"fecha\": \"2015-02-19T09:00:00\", \"cantidad\": 1}, {\"sentiment\": \"negative\", \"fecha\": \"2015-02-19T10:00:00\", \"cantidad\": 9}, {\"sentiment\": \"neutral\", \"fecha\": \"2015-02-19T10:00:00\", \"cantidad\": 8}, {\"sentiment\": \"positive\", \"fecha\": \"2015-02-19T10:00:00\", \"cantidad\": 5}, {\"sentiment\": \"negative\", \"fecha\": \"2015-02-19T11:00:00\", \"cantidad\": 12}, {\"sentiment\": \"neutral\", \"fecha\": \"2015-02-19T11:00:00\", \"cantidad\": 4}, {\"sentiment\": \"positive\", \"fecha\": \"2015-02-19T11:00:00\", \"cantidad\": 3}, {\"sentiment\": \"negative\", \"fecha\": \"2015-02-19T12:00:00\", \"cantidad\": 25}, {\"sentiment\": \"neutral\", \"fecha\": \"2015-02-19T12:00:00\", \"cantidad\": 15}, {\"sentiment\": \"positive\", \"fecha\": \"2015-02-19T12:00:00\", \"cantidad\": 5}, {\"sentiment\": \"negative\", \"fecha\": \"2015-02-19T13:00:00\", \"cantidad\": 13}, {\"sentiment\": \"neutral\", \"fecha\": \"2015-02-19T13:00:00\", \"cantidad\": 9}, {\"sentiment\": \"positive\", \"fecha\": \"2015-02-19T13:00:00\", \"cantidad\": 5}, {\"sentiment\": \"negative\", \"fecha\": \"2015-02-19T14:00:00\", \"cantidad\": 28}, {\"sentiment\": \"neutral\", \"fecha\": \"2015-02-19T14:00:00\", \"cantidad\": 9}, {\"sentiment\": \"positive\", \"fecha\": \"2015-02-19T14:00:00\", \"cantidad\": 14}, {\"sentiment\": \"negative\", \"fecha\": \"2015-02-19T15:00:00\", \"cantidad\": 66}, {\"sentiment\": \"neutral\", \"fecha\": \"2015-02-19T15:00:00\", \"cantidad\": 24}, {\"sentiment\": \"positive\", \"fecha\": \"2015-02-19T15:00:00\", \"cantidad\": 27}, {\"sentiment\": \"negative\", \"fecha\": \"2015-02-19T16:00:00\", \"cantidad\": 40}, {\"sentiment\": \"neutral\", \"fecha\": \"2015-02-19T16:00:00\", \"cantidad\": 24}, {\"sentiment\": \"positive\", \"fecha\": \"2015-02-19T16:00:00\", \"cantidad\": 29}, {\"sentiment\": \"negative\", \"fecha\": \"2015-02-19T17:00:00\", \"cantidad\": 44}, {\"sentiment\": \"neutral\", \"fecha\": \"2015-02-19T17:00:00\", \"cantidad\": 16}, {\"sentiment\": \"positive\", \"fecha\": \"2015-02-19T17:00:00\", \"cantidad\": 21}, {\"sentiment\": \"negative\", \"fecha\": \"2015-02-19T18:00:00\", \"cantidad\": 40}, {\"sentiment\": \"neutral\", \"fecha\": \"2015-02-19T18:00:00\", \"cantidad\": 31}, {\"sentiment\": \"positive\", \"fecha\": \"2015-02-19T18:00:00\", \"cantidad\": 11}, {\"sentiment\": \"negative\", \"fecha\": \"2015-02-19T19:00:00\", \"cantidad\": 53}, {\"sentiment\": \"neutral\", \"fecha\": \"2015-02-19T19:00:00\", \"cantidad\": 27}, {\"sentiment\": \"positive\", \"fecha\": \"2015-02-19T19:00:00\", \"cantidad\": 12}, {\"sentiment\": \"negative\", \"fecha\": \"2015-02-19T20:00:00\", \"cantidad\": 36}, {\"sentiment\": \"neutral\", \"fecha\": \"2015-02-19T20:00:00\", \"cantidad\": 13}, {\"sentiment\": \"positive\", \"fecha\": \"2015-02-19T20:00:00\", \"cantidad\": 13}, {\"sentiment\": \"negative\", \"fecha\": \"2015-02-19T21:00:00\", \"cantidad\": 32}, {\"sentiment\": \"neutral\", \"fecha\": \"2015-02-19T21:00:00\", \"cantidad\": 15}, {\"sentiment\": \"positive\", \"fecha\": \"2015-02-19T21:00:00\", \"cantidad\": 15}, {\"sentiment\": \"negative\", \"fecha\": \"2015-02-19T22:00:00\", \"cantidad\": 30}, {\"sentiment\": \"neutral\", \"fecha\": \"2015-02-19T22:00:00\", \"cantidad\": 30}, {\"sentiment\": \"positive\", \"fecha\": \"2015-02-19T22:00:00\", \"cantidad\": 21}, {\"sentiment\": \"negative\", \"fecha\": \"2015-02-19T23:00:00\", \"cantidad\": 35}, {\"sentiment\": \"neutral\", \"fecha\": \"2015-02-19T23:00:00\", \"cantidad\": 10}, {\"sentiment\": \"positive\", \"fecha\": \"2015-02-19T23:00:00\", \"cantidad\": 23}, {\"sentiment\": \"negative\", \"fecha\": \"2015-02-20T00:00:00\", \"cantidad\": 47}, {\"sentiment\": \"neutral\", \"fecha\": \"2015-02-20T00:00:00\", \"cantidad\": 22}, {\"sentiment\": \"positive\", \"fecha\": \"2015-02-20T00:00:00\", \"cantidad\": 18}, {\"sentiment\": \"negative\", \"fecha\": \"2015-02-20T01:00:00\", \"cantidad\": 44}, {\"sentiment\": \"neutral\", \"fecha\": \"2015-02-20T01:00:00\", \"cantidad\": 7}, {\"sentiment\": \"positive\", \"fecha\": \"2015-02-20T01:00:00\", \"cantidad\": 10}, {\"sentiment\": \"negative\", \"fecha\": \"2015-02-20T02:00:00\", \"cantidad\": 35}, {\"sentiment\": \"neutral\", \"fecha\": \"2015-02-20T02:00:00\", \"cantidad\": 15}, {\"sentiment\": \"positive\", \"fecha\": \"2015-02-20T02:00:00\", \"cantidad\": 14}, {\"sentiment\": \"negative\", \"fecha\": \"2015-02-20T03:00:00\", \"cantidad\": 54}, {\"sentiment\": \"neutral\", \"fecha\": \"2015-02-20T03:00:00\", \"cantidad\": 12}, {\"sentiment\": \"positive\", \"fecha\": \"2015-02-20T03:00:00\", \"cantidad\": 12}, {\"sentiment\": \"negative\", \"fecha\": \"2015-02-20T04:00:00\", \"cantidad\": 42}, {\"sentiment\": \"neutral\", \"fecha\": \"2015-02-20T04:00:00\", \"cantidad\": 14}, {\"sentiment\": \"positive\", \"fecha\": \"2015-02-20T04:00:00\", \"cantidad\": 13}, {\"sentiment\": \"negative\", \"fecha\": \"2015-02-20T05:00:00\", \"cantidad\": 28}, {\"sentiment\": \"neutral\", \"fecha\": \"2015-02-20T05:00:00\", \"cantidad\": 14}, {\"sentiment\": \"positive\", \"fecha\": \"2015-02-20T05:00:00\", \"cantidad\": 14}, {\"sentiment\": \"negative\", \"fecha\": \"2015-02-20T06:00:00\", \"cantidad\": 13}, {\"sentiment\": \"neutral\", \"fecha\": \"2015-02-20T06:00:00\", \"cantidad\": 6}, {\"sentiment\": \"positive\", \"fecha\": \"2015-02-20T06:00:00\", \"cantidad\": 6}, {\"sentiment\": \"negative\", \"fecha\": \"2015-02-20T07:00:00\", \"cantidad\": 20}, {\"sentiment\": \"neutral\", \"fecha\": \"2015-02-20T07:00:00\", \"cantidad\": 2}, {\"sentiment\": \"positive\", \"fecha\": \"2015-02-20T07:00:00\", \"cantidad\": 3}, {\"sentiment\": \"negative\", \"fecha\": \"2015-02-20T08:00:00\", \"cantidad\": 3}, {\"sentiment\": \"neutral\", \"fecha\": \"2015-02-20T08:00:00\", \"cantidad\": 4}, {\"sentiment\": \"negative\", \"fecha\": \"2015-02-20T09:00:00\", \"cantidad\": 4}, {\"sentiment\": \"neutral\", \"fecha\": \"2015-02-20T09:00:00\", \"cantidad\": 4}, {\"sentiment\": \"positive\", \"fecha\": \"2015-02-20T09:00:00\", \"cantidad\": 2}, {\"sentiment\": \"negative\", \"fecha\": \"2015-02-20T10:00:00\", \"cantidad\": 12}, {\"sentiment\": \"neutral\", \"fecha\": \"2015-02-20T10:00:00\", \"cantidad\": 3}, {\"sentiment\": \"positive\", \"fecha\": \"2015-02-20T10:00:00\", \"cantidad\": 1}, {\"sentiment\": \"negative\", \"fecha\": \"2015-02-20T11:00:00\", \"cantidad\": 3}, {\"sentiment\": \"neutral\", \"fecha\": \"2015-02-20T11:00:00\", \"cantidad\": 5}, {\"sentiment\": \"positive\", \"fecha\": \"2015-02-20T11:00:00\", \"cantidad\": 4}, {\"sentiment\": \"negative\", \"fecha\": \"2015-02-20T12:00:00\", \"cantidad\": 14}, {\"sentiment\": \"neutral\", \"fecha\": \"2015-02-20T12:00:00\", \"cantidad\": 8}, {\"sentiment\": \"positive\", \"fecha\": \"2015-02-20T12:00:00\", \"cantidad\": 5}, {\"sentiment\": \"negative\", \"fecha\": \"2015-02-20T13:00:00\", \"cantidad\": 38}, {\"sentiment\": \"neutral\", \"fecha\": \"2015-02-20T13:00:00\", \"cantidad\": 11}, {\"sentiment\": \"positive\", \"fecha\": \"2015-02-20T13:00:00\", \"cantidad\": 7}, {\"sentiment\": \"negative\", \"fecha\": \"2015-02-20T14:00:00\", \"cantidad\": 57}, {\"sentiment\": \"neutral\", \"fecha\": \"2015-02-20T14:00:00\", \"cantidad\": 15}, {\"sentiment\": \"positive\", \"fecha\": \"2015-02-20T14:00:00\", \"cantidad\": 18}, {\"sentiment\": \"negative\", \"fecha\": \"2015-02-20T15:00:00\", \"cantidad\": 52}, {\"sentiment\": \"neutral\", \"fecha\": \"2015-02-20T15:00:00\", \"cantidad\": 26}, {\"sentiment\": \"positive\", \"fecha\": \"2015-02-20T15:00:00\", \"cantidad\": 19}, {\"sentiment\": \"negative\", \"fecha\": \"2015-02-20T16:00:00\", \"cantidad\": 64}, {\"sentiment\": \"neutral\", \"fecha\": \"2015-02-20T16:00:00\", \"cantidad\": 26}, {\"sentiment\": \"positive\", \"fecha\": \"2015-02-20T16:00:00\", \"cantidad\": 21}, {\"sentiment\": \"negative\", \"fecha\": \"2015-02-20T17:00:00\", \"cantidad\": 56}, {\"sentiment\": \"neutral\", \"fecha\": \"2015-02-20T17:00:00\", \"cantidad\": 26}, {\"sentiment\": \"positive\", \"fecha\": \"2015-02-20T17:00:00\", \"cantidad\": 21}, {\"sentiment\": \"negative\", \"fecha\": \"2015-02-20T18:00:00\", \"cantidad\": 37}, {\"sentiment\": \"neutral\", \"fecha\": \"2015-02-20T18:00:00\", \"cantidad\": 31}, {\"sentiment\": \"positive\", \"fecha\": \"2015-02-20T18:00:00\", \"cantidad\": 24}, {\"sentiment\": \"negative\", \"fecha\": \"2015-02-20T19:00:00\", \"cantidad\": 53}, {\"sentiment\": \"neutral\", \"fecha\": \"2015-02-20T19:00:00\", \"cantidad\": 28}, {\"sentiment\": \"positive\", \"fecha\": \"2015-02-20T19:00:00\", \"cantidad\": 15}, {\"sentiment\": \"negative\", \"fecha\": \"2015-02-20T20:00:00\", \"cantidad\": 23}, {\"sentiment\": \"neutral\", \"fecha\": \"2015-02-20T20:00:00\", \"cantidad\": 25}, {\"sentiment\": \"positive\", \"fecha\": \"2015-02-20T20:00:00\", \"cantidad\": 17}, {\"sentiment\": \"negative\", \"fecha\": \"2015-02-20T21:00:00\", \"cantidad\": 45}, {\"sentiment\": \"neutral\", \"fecha\": \"2015-02-20T21:00:00\", \"cantidad\": 34}, {\"sentiment\": \"positive\", \"fecha\": \"2015-02-20T21:00:00\", \"cantidad\": 15}, {\"sentiment\": \"negative\", \"fecha\": \"2015-02-20T22:00:00\", \"cantidad\": 56}, {\"sentiment\": \"neutral\", \"fecha\": \"2015-02-20T22:00:00\", \"cantidad\": 24}, {\"sentiment\": \"positive\", \"fecha\": \"2015-02-20T22:00:00\", \"cantidad\": 11}, {\"sentiment\": \"negative\", \"fecha\": \"2015-02-20T23:00:00\", \"cantidad\": 49}, {\"sentiment\": \"neutral\", \"fecha\": \"2015-02-20T23:00:00\", \"cantidad\": 21}, {\"sentiment\": \"positive\", \"fecha\": \"2015-02-20T23:00:00\", \"cantidad\": 10}, {\"sentiment\": \"negative\", \"fecha\": \"2015-02-21T00:00:00\", \"cantidad\": 44}, {\"sentiment\": \"neutral\", \"fecha\": \"2015-02-21T00:00:00\", \"cantidad\": 17}, {\"sentiment\": \"positive\", \"fecha\": \"2015-02-21T00:00:00\", \"cantidad\": 21}, {\"sentiment\": \"negative\", \"fecha\": \"2015-02-21T01:00:00\", \"cantidad\": 42}, {\"sentiment\": \"neutral\", \"fecha\": \"2015-02-21T01:00:00\", \"cantidad\": 14}, {\"sentiment\": \"positive\", \"fecha\": \"2015-02-21T01:00:00\", \"cantidad\": 15}, {\"sentiment\": \"negative\", \"fecha\": \"2015-02-21T02:00:00\", \"cantidad\": 52}, {\"sentiment\": \"neutral\", \"fecha\": \"2015-02-21T02:00:00\", \"cantidad\": 19}, {\"sentiment\": \"positive\", \"fecha\": \"2015-02-21T02:00:00\", \"cantidad\": 17}, {\"sentiment\": \"negative\", \"fecha\": \"2015-02-21T03:00:00\", \"cantidad\": 36}, {\"sentiment\": \"neutral\", \"fecha\": \"2015-02-21T03:00:00\", \"cantidad\": 13}, {\"sentiment\": \"positive\", \"fecha\": \"2015-02-21T03:00:00\", \"cantidad\": 13}, {\"sentiment\": \"negative\", \"fecha\": \"2015-02-21T04:00:00\", \"cantidad\": 36}, {\"sentiment\": \"neutral\", \"fecha\": \"2015-02-21T04:00:00\", \"cantidad\": 11}, {\"sentiment\": \"positive\", \"fecha\": \"2015-02-21T04:00:00\", \"cantidad\": 11}, {\"sentiment\": \"negative\", \"fecha\": \"2015-02-21T05:00:00\", \"cantidad\": 33}, {\"sentiment\": \"neutral\", \"fecha\": \"2015-02-21T05:00:00\", \"cantidad\": 6}, {\"sentiment\": \"positive\", \"fecha\": \"2015-02-21T05:00:00\", \"cantidad\": 4}, {\"sentiment\": \"negative\", \"fecha\": \"2015-02-21T06:00:00\", \"cantidad\": 17}, {\"sentiment\": \"neutral\", \"fecha\": \"2015-02-21T06:00:00\", \"cantidad\": 9}, {\"sentiment\": \"positive\", \"fecha\": \"2015-02-21T06:00:00\", \"cantidad\": 7}, {\"sentiment\": \"negative\", \"fecha\": \"2015-02-21T07:00:00\", \"cantidad\": 9}, {\"sentiment\": \"neutral\", \"fecha\": \"2015-02-21T07:00:00\", \"cantidad\": 3}, {\"sentiment\": \"positive\", \"fecha\": \"2015-02-21T07:00:00\", \"cantidad\": 4}, {\"sentiment\": \"negative\", \"fecha\": \"2015-02-21T08:00:00\", \"cantidad\": 6}, {\"sentiment\": \"neutral\", \"fecha\": \"2015-02-21T08:00:00\", \"cantidad\": 1}, {\"sentiment\": \"negative\", \"fecha\": \"2015-02-21T09:00:00\", \"cantidad\": 4}, {\"sentiment\": \"neutral\", \"fecha\": \"2015-02-21T09:00:00\", \"cantidad\": 2}, {\"sentiment\": \"positive\", \"fecha\": \"2015-02-21T09:00:00\", \"cantidad\": 1}, {\"sentiment\": \"negative\", \"fecha\": \"2015-02-21T10:00:00\", \"cantidad\": 16}, {\"sentiment\": \"neutral\", \"fecha\": \"2015-02-21T10:00:00\", \"cantidad\": 9}, {\"sentiment\": \"positive\", \"fecha\": \"2015-02-21T10:00:00\", \"cantidad\": 4}, {\"sentiment\": \"negative\", \"fecha\": \"2015-02-21T11:00:00\", \"cantidad\": 11}, {\"sentiment\": \"neutral\", \"fecha\": \"2015-02-21T11:00:00\", \"cantidad\": 3}, {\"sentiment\": \"positive\", \"fecha\": \"2015-02-21T11:00:00\", \"cantidad\": 6}, {\"sentiment\": \"negative\", \"fecha\": \"2015-02-21T12:00:00\", \"cantidad\": 20}, {\"sentiment\": \"neutral\", \"fecha\": \"2015-02-21T12:00:00\", \"cantidad\": 3}, {\"sentiment\": \"positive\", \"fecha\": \"2015-02-21T12:00:00\", \"cantidad\": 7}, {\"sentiment\": \"negative\", \"fecha\": \"2015-02-21T13:00:00\", \"cantidad\": 29}, {\"sentiment\": \"neutral\", \"fecha\": \"2015-02-21T13:00:00\", \"cantidad\": 6}, {\"sentiment\": \"positive\", \"fecha\": \"2015-02-21T13:00:00\", \"cantidad\": 5}, {\"sentiment\": \"negative\", \"fecha\": \"2015-02-21T14:00:00\", \"cantidad\": 28}, {\"sentiment\": \"neutral\", \"fecha\": \"2015-02-21T14:00:00\", \"cantidad\": 10}, {\"sentiment\": \"positive\", \"fecha\": \"2015-02-21T14:00:00\", \"cantidad\": 5}, {\"sentiment\": \"negative\", \"fecha\": \"2015-02-21T15:00:00\", \"cantidad\": 45}, {\"sentiment\": \"neutral\", \"fecha\": \"2015-02-21T15:00:00\", \"cantidad\": 11}, {\"sentiment\": \"positive\", \"fecha\": \"2015-02-21T15:00:00\", \"cantidad\": 8}, {\"sentiment\": \"negative\", \"fecha\": \"2015-02-21T16:00:00\", \"cantidad\": 47}, {\"sentiment\": \"neutral\", \"fecha\": \"2015-02-21T16:00:00\", \"cantidad\": 10}, {\"sentiment\": \"positive\", \"fecha\": \"2015-02-21T16:00:00\", \"cantidad\": 13}, {\"sentiment\": \"negative\", \"fecha\": \"2015-02-21T17:00:00\", \"cantidad\": 47}, {\"sentiment\": \"neutral\", \"fecha\": \"2015-02-21T17:00:00\", \"cantidad\": 17}, {\"sentiment\": \"positive\", \"fecha\": \"2015-02-21T17:00:00\", \"cantidad\": 8}, {\"sentiment\": \"negative\", \"fecha\": \"2015-02-21T18:00:00\", \"cantidad\": 54}, {\"sentiment\": \"neutral\", \"fecha\": \"2015-02-21T18:00:00\", \"cantidad\": 12}, {\"sentiment\": \"positive\", \"fecha\": \"2015-02-21T18:00:00\", \"cantidad\": 12}, {\"sentiment\": \"negative\", \"fecha\": \"2015-02-21T19:00:00\", \"cantidad\": 47}, {\"sentiment\": \"neutral\", \"fecha\": \"2015-02-21T19:00:00\", \"cantidad\": 19}, {\"sentiment\": \"positive\", \"fecha\": \"2015-02-21T19:00:00\", \"cantidad\": 18}, {\"sentiment\": \"negative\", \"fecha\": \"2015-02-21T20:00:00\", \"cantidad\": 73}, {\"sentiment\": \"neutral\", \"fecha\": \"2015-02-21T20:00:00\", \"cantidad\": 29}, {\"sentiment\": \"positive\", \"fecha\": \"2015-02-21T20:00:00\", \"cantidad\": 14}, {\"sentiment\": \"negative\", \"fecha\": \"2015-02-21T21:00:00\", \"cantidad\": 75}, {\"sentiment\": \"neutral\", \"fecha\": \"2015-02-21T21:00:00\", \"cantidad\": 13}, {\"sentiment\": \"positive\", \"fecha\": \"2015-02-21T21:00:00\", \"cantidad\": 22}, {\"sentiment\": \"negative\", \"fecha\": \"2015-02-21T22:00:00\", \"cantidad\": 68}, {\"sentiment\": \"neutral\", \"fecha\": \"2015-02-21T22:00:00\", \"cantidad\": 17}, {\"sentiment\": \"positive\", \"fecha\": \"2015-02-21T22:00:00\", \"cantidad\": 18}, {\"sentiment\": \"negative\", \"fecha\": \"2015-02-21T23:00:00\", \"cantidad\": 62}, {\"sentiment\": \"neutral\", \"fecha\": \"2015-02-21T23:00:00\", \"cantidad\": 18}, {\"sentiment\": \"positive\", \"fecha\": \"2015-02-21T23:00:00\", \"cantidad\": 12}, {\"sentiment\": \"negative\", \"fecha\": \"2015-02-22T00:00:00\", \"cantidad\": 37}, {\"sentiment\": \"neutral\", \"fecha\": \"2015-02-22T00:00:00\", \"cantidad\": 11}, {\"sentiment\": \"positive\", \"fecha\": \"2015-02-22T00:00:00\", \"cantidad\": 16}, {\"sentiment\": \"negative\", \"fecha\": \"2015-02-22T01:00:00\", \"cantidad\": 51}, {\"sentiment\": \"neutral\", \"fecha\": \"2015-02-22T01:00:00\", \"cantidad\": 24}, {\"sentiment\": \"positive\", \"fecha\": \"2015-02-22T01:00:00\", \"cantidad\": 17}, {\"sentiment\": \"negative\", \"fecha\": \"2015-02-22T02:00:00\", \"cantidad\": 70}, {\"sentiment\": \"neutral\", \"fecha\": \"2015-02-22T02:00:00\", \"cantidad\": 14}, {\"sentiment\": \"positive\", \"fecha\": \"2015-02-22T02:00:00\", \"cantidad\": 12}, {\"sentiment\": \"negative\", \"fecha\": \"2015-02-22T03:00:00\", \"cantidad\": 82}, {\"sentiment\": \"neutral\", \"fecha\": \"2015-02-22T03:00:00\", \"cantidad\": 17}, {\"sentiment\": \"positive\", \"fecha\": \"2015-02-22T03:00:00\", \"cantidad\": 8}, {\"sentiment\": \"negative\", \"fecha\": \"2015-02-22T04:00:00\", \"cantidad\": 55}, {\"sentiment\": \"neutral\", \"fecha\": \"2015-02-22T04:00:00\", \"cantidad\": 11}, {\"sentiment\": \"positive\", \"fecha\": \"2015-02-22T04:00:00\", \"cantidad\": 14}, {\"sentiment\": \"negative\", \"fecha\": \"2015-02-22T05:00:00\", \"cantidad\": 68}, {\"sentiment\": \"neutral\", \"fecha\": \"2015-02-22T05:00:00\", \"cantidad\": 12}, {\"sentiment\": \"positive\", \"fecha\": \"2015-02-22T05:00:00\", \"cantidad\": 4}, {\"sentiment\": \"negative\", \"fecha\": \"2015-02-22T06:00:00\", \"cantidad\": 39}, {\"sentiment\": \"neutral\", \"fecha\": \"2015-02-22T06:00:00\", \"cantidad\": 7}, {\"sentiment\": \"positive\", \"fecha\": \"2015-02-22T06:00:00\", \"cantidad\": 3}, {\"sentiment\": \"negative\", \"fecha\": \"2015-02-22T07:00:00\", \"cantidad\": 15}, {\"sentiment\": \"neutral\", \"fecha\": \"2015-02-22T07:00:00\", \"cantidad\": 2}, {\"sentiment\": \"positive\", \"fecha\": \"2015-02-22T07:00:00\", \"cantidad\": 3}, {\"sentiment\": \"negative\", \"fecha\": \"2015-02-22T08:00:00\", \"cantidad\": 25}, {\"sentiment\": \"neutral\", \"fecha\": \"2015-02-22T08:00:00\", \"cantidad\": 2}, {\"sentiment\": \"negative\", \"fecha\": \"2015-02-22T09:00:00\", \"cantidad\": 13}, {\"sentiment\": \"neutral\", \"fecha\": \"2015-02-22T09:00:00\", \"cantidad\": 3}, {\"sentiment\": \"positive\", \"fecha\": \"2015-02-22T09:00:00\", \"cantidad\": 1}, {\"sentiment\": \"negative\", \"fecha\": \"2015-02-22T10:00:00\", \"cantidad\": 18}, {\"sentiment\": \"neutral\", \"fecha\": \"2015-02-22T10:00:00\", \"cantidad\": 1}, {\"sentiment\": \"positive\", \"fecha\": \"2015-02-22T10:00:00\", \"cantidad\": 3}, {\"sentiment\": \"negative\", \"fecha\": \"2015-02-22T11:00:00\", \"cantidad\": 24}, {\"sentiment\": \"neutral\", \"fecha\": \"2015-02-22T11:00:00\", \"cantidad\": 4}, {\"sentiment\": \"positive\", \"fecha\": \"2015-02-22T11:00:00\", \"cantidad\": 3}, {\"sentiment\": \"negative\", \"fecha\": \"2015-02-22T12:00:00\", \"cantidad\": 30}, {\"sentiment\": \"neutral\", \"fecha\": \"2015-02-22T12:00:00\", \"cantidad\": 10}, {\"sentiment\": \"positive\", \"fecha\": \"2015-02-22T12:00:00\", \"cantidad\": 6}, {\"sentiment\": \"negative\", \"fecha\": \"2015-02-22T13:00:00\", \"cantidad\": 65}, {\"sentiment\": \"neutral\", \"fecha\": \"2015-02-22T13:00:00\", \"cantidad\": 16}, {\"sentiment\": \"positive\", \"fecha\": \"2015-02-22T13:00:00\", \"cantidad\": 9}, {\"sentiment\": \"negative\", \"fecha\": \"2015-02-22T14:00:00\", \"cantidad\": 70}, {\"sentiment\": \"neutral\", \"fecha\": \"2015-02-22T14:00:00\", \"cantidad\": 12}, {\"sentiment\": \"positive\", \"fecha\": \"2015-02-22T14:00:00\", \"cantidad\": 10}, {\"sentiment\": \"negative\", \"fecha\": \"2015-02-22T15:00:00\", \"cantidad\": 77}, {\"sentiment\": \"neutral\", \"fecha\": \"2015-02-22T15:00:00\", \"cantidad\": 22}, {\"sentiment\": \"positive\", \"fecha\": \"2015-02-22T15:00:00\", \"cantidad\": 17}, {\"sentiment\": \"negative\", \"fecha\": \"2015-02-22T16:00:00\", \"cantidad\": 93}, {\"sentiment\": \"neutral\", \"fecha\": \"2015-02-22T16:00:00\", \"cantidad\": 19}, {\"sentiment\": \"positive\", \"fecha\": \"2015-02-22T16:00:00\", \"cantidad\": 18}, {\"sentiment\": \"negative\", \"fecha\": \"2015-02-22T17:00:00\", \"cantidad\": 67}, {\"sentiment\": \"neutral\", \"fecha\": \"2015-02-22T17:00:00\", \"cantidad\": 18}, {\"sentiment\": \"positive\", \"fecha\": \"2015-02-22T17:00:00\", \"cantidad\": 12}, {\"sentiment\": \"negative\", \"fecha\": \"2015-02-22T18:00:00\", \"cantidad\": 84}, {\"sentiment\": \"neutral\", \"fecha\": \"2015-02-22T18:00:00\", \"cantidad\": 16}, {\"sentiment\": \"positive\", \"fecha\": \"2015-02-22T18:00:00\", \"cantidad\": 8}, {\"sentiment\": \"negative\", \"fecha\": \"2015-02-22T19:00:00\", \"cantidad\": 66}, {\"sentiment\": \"neutral\", \"fecha\": \"2015-02-22T19:00:00\", \"cantidad\": 18}, {\"sentiment\": \"positive\", \"fecha\": \"2015-02-22T19:00:00\", \"cantidad\": 16}, {\"sentiment\": \"negative\", \"fecha\": \"2015-02-22T20:00:00\", \"cantidad\": 144}, {\"sentiment\": \"neutral\", \"fecha\": \"2015-02-22T20:00:00\", \"cantidad\": 31}, {\"sentiment\": \"positive\", \"fecha\": \"2015-02-22T20:00:00\", \"cantidad\": 22}, {\"sentiment\": \"negative\", \"fecha\": \"2015-02-22T21:00:00\", \"cantidad\": 174}, {\"sentiment\": \"neutral\", \"fecha\": \"2015-02-22T21:00:00\", \"cantidad\": 32}, {\"sentiment\": \"positive\", \"fecha\": \"2015-02-22T21:00:00\", \"cantidad\": 23}, {\"sentiment\": \"negative\", \"fecha\": \"2015-02-22T22:00:00\", \"cantidad\": 218}, {\"sentiment\": \"neutral\", \"fecha\": \"2015-02-22T22:00:00\", \"cantidad\": 31}, {\"sentiment\": \"positive\", \"fecha\": \"2015-02-22T22:00:00\", \"cantidad\": 24}, {\"sentiment\": \"negative\", \"fecha\": \"2015-02-22T23:00:00\", \"cantidad\": 159}, {\"sentiment\": \"neutral\", \"fecha\": \"2015-02-22T23:00:00\", \"cantidad\": 34}, {\"sentiment\": \"positive\", \"fecha\": \"2015-02-22T23:00:00\", \"cantidad\": 32}, {\"sentiment\": \"negative\", \"fecha\": \"2015-02-23T00:00:00\", \"cantidad\": 163}, {\"sentiment\": \"neutral\", \"fecha\": \"2015-02-23T00:00:00\", \"cantidad\": 33}, {\"sentiment\": \"positive\", \"fecha\": \"2015-02-23T00:00:00\", \"cantidad\": 13}, {\"sentiment\": \"negative\", \"fecha\": \"2015-02-23T01:00:00\", \"cantidad\": 173}, {\"sentiment\": \"neutral\", \"fecha\": \"2015-02-23T01:00:00\", \"cantidad\": 57}, {\"sentiment\": \"positive\", \"fecha\": \"2015-02-23T01:00:00\", \"cantidad\": 47}, {\"sentiment\": \"negative\", \"fecha\": \"2015-02-23T02:00:00\", \"cantidad\": 167}, {\"sentiment\": \"neutral\", \"fecha\": \"2015-02-23T02:00:00\", \"cantidad\": 36}, {\"sentiment\": \"positive\", \"fecha\": \"2015-02-23T02:00:00\", \"cantidad\": 22}, {\"sentiment\": \"negative\", \"fecha\": \"2015-02-23T03:00:00\", \"cantidad\": 131}, {\"sentiment\": \"neutral\", \"fecha\": \"2015-02-23T03:00:00\", \"cantidad\": 21}, {\"sentiment\": \"positive\", \"fecha\": \"2015-02-23T03:00:00\", \"cantidad\": 23}, {\"sentiment\": \"negative\", \"fecha\": \"2015-02-23T04:00:00\", \"cantidad\": 109}, {\"sentiment\": \"neutral\", \"fecha\": \"2015-02-23T04:00:00\", \"cantidad\": 25}, {\"sentiment\": \"positive\", \"fecha\": \"2015-02-23T04:00:00\", \"cantidad\": 18}, {\"sentiment\": \"negative\", \"fecha\": \"2015-02-23T05:00:00\", \"cantidad\": 69}, {\"sentiment\": \"neutral\", \"fecha\": \"2015-02-23T05:00:00\", \"cantidad\": 8}, {\"sentiment\": \"positive\", \"fecha\": \"2015-02-23T05:00:00\", \"cantidad\": 15}, {\"sentiment\": \"negative\", \"fecha\": \"2015-02-23T06:00:00\", \"cantidad\": 73}, {\"sentiment\": \"neutral\", \"fecha\": \"2015-02-23T06:00:00\", \"cantidad\": 6}, {\"sentiment\": \"positive\", \"fecha\": \"2015-02-23T06:00:00\", \"cantidad\": 5}, {\"sentiment\": \"negative\", \"fecha\": \"2015-02-23T07:00:00\", \"cantidad\": 54}, {\"sentiment\": \"neutral\", \"fecha\": \"2015-02-23T07:00:00\", \"cantidad\": 8}, {\"sentiment\": \"positive\", \"fecha\": \"2015-02-23T07:00:00\", \"cantidad\": 3}, {\"sentiment\": \"negative\", \"fecha\": \"2015-02-23T08:00:00\", \"cantidad\": 26}, {\"sentiment\": \"neutral\", \"fecha\": \"2015-02-23T08:00:00\", \"cantidad\": 5}, {\"sentiment\": \"positive\", \"fecha\": \"2015-02-23T08:00:00\", \"cantidad\": 7}, {\"sentiment\": \"negative\", \"fecha\": \"2015-02-23T09:00:00\", \"cantidad\": 24}, {\"sentiment\": \"neutral\", \"fecha\": \"2015-02-23T09:00:00\", \"cantidad\": 7}, {\"sentiment\": \"positive\", \"fecha\": \"2015-02-23T09:00:00\", \"cantidad\": 1}, {\"sentiment\": \"negative\", \"fecha\": \"2015-02-23T10:00:00\", \"cantidad\": 28}, {\"sentiment\": \"neutral\", \"fecha\": \"2015-02-23T10:00:00\", \"cantidad\": 7}, {\"sentiment\": \"positive\", \"fecha\": \"2015-02-23T10:00:00\", \"cantidad\": 4}, {\"sentiment\": \"negative\", \"fecha\": \"2015-02-23T11:00:00\", \"cantidad\": 40}, {\"sentiment\": \"neutral\", \"fecha\": \"2015-02-23T11:00:00\", \"cantidad\": 10}, {\"sentiment\": \"positive\", \"fecha\": \"2015-02-23T11:00:00\", \"cantidad\": 6}, {\"sentiment\": \"negative\", \"fecha\": \"2015-02-23T12:00:00\", \"cantidad\": 69}, {\"sentiment\": \"neutral\", \"fecha\": \"2015-02-23T12:00:00\", \"cantidad\": 14}, {\"sentiment\": \"positive\", \"fecha\": \"2015-02-23T12:00:00\", \"cantidad\": 12}, {\"sentiment\": \"negative\", \"fecha\": \"2015-02-23T13:00:00\", \"cantidad\": 94}, {\"sentiment\": \"neutral\", \"fecha\": \"2015-02-23T13:00:00\", \"cantidad\": 16}, {\"sentiment\": \"positive\", \"fecha\": \"2015-02-23T13:00:00\", \"cantidad\": 9}, {\"sentiment\": \"negative\", \"fecha\": \"2015-02-23T14:00:00\", \"cantidad\": 92}, {\"sentiment\": \"neutral\", \"fecha\": \"2015-02-23T14:00:00\", \"cantidad\": 35}, {\"sentiment\": \"positive\", \"fecha\": \"2015-02-23T14:00:00\", \"cantidad\": 22}, {\"sentiment\": \"negative\", \"fecha\": \"2015-02-23T15:00:00\", \"cantidad\": 111}, {\"sentiment\": \"neutral\", \"fecha\": \"2015-02-23T15:00:00\", \"cantidad\": 35}, {\"sentiment\": \"positive\", \"fecha\": \"2015-02-23T15:00:00\", \"cantidad\": 18}, {\"sentiment\": \"negative\", \"fecha\": \"2015-02-23T16:00:00\", \"cantidad\": 115}, {\"sentiment\": \"neutral\", \"fecha\": \"2015-02-23T16:00:00\", \"cantidad\": 37}, {\"sentiment\": \"positive\", \"fecha\": \"2015-02-23T16:00:00\", \"cantidad\": 21}, {\"sentiment\": \"negative\", \"fecha\": \"2015-02-23T17:00:00\", \"cantidad\": 138}, {\"sentiment\": \"neutral\", \"fecha\": \"2015-02-23T17:00:00\", \"cantidad\": 29}, {\"sentiment\": \"positive\", \"fecha\": \"2015-02-23T17:00:00\", \"cantidad\": 22}, {\"sentiment\": \"negative\", \"fecha\": \"2015-02-23T18:00:00\", \"cantidad\": 120}, {\"sentiment\": \"neutral\", \"fecha\": \"2015-02-23T18:00:00\", \"cantidad\": 55}, {\"sentiment\": \"positive\", \"fecha\": \"2015-02-23T18:00:00\", \"cantidad\": 44}, {\"sentiment\": \"negative\", \"fecha\": \"2015-02-23T19:00:00\", \"cantidad\": 138}, {\"sentiment\": \"neutral\", \"fecha\": \"2015-02-23T19:00:00\", \"cantidad\": 74}, {\"sentiment\": \"positive\", \"fecha\": \"2015-02-23T19:00:00\", \"cantidad\": 33}, {\"sentiment\": \"negative\", \"fecha\": \"2015-02-23T20:00:00\", \"cantidad\": 108}, {\"sentiment\": \"neutral\", \"fecha\": \"2015-02-23T20:00:00\", \"cantidad\": 54}, {\"sentiment\": \"positive\", \"fecha\": \"2015-02-23T20:00:00\", \"cantidad\": 41}, {\"sentiment\": \"negative\", \"fecha\": \"2015-02-23T21:00:00\", \"cantidad\": 122}, {\"sentiment\": \"neutral\", \"fecha\": \"2015-02-23T21:00:00\", \"cantidad\": 47}, {\"sentiment\": \"positive\", \"fecha\": \"2015-02-23T21:00:00\", \"cantidad\": 32}, {\"sentiment\": \"negative\", \"fecha\": \"2015-02-23T22:00:00\", \"cantidad\": 95}, {\"sentiment\": \"neutral\", \"fecha\": \"2015-02-23T22:00:00\", \"cantidad\": 49}, {\"sentiment\": \"positive\", \"fecha\": \"2015-02-23T22:00:00\", \"cantidad\": 22}, {\"sentiment\": \"negative\", \"fecha\": \"2015-02-23T23:00:00\", \"cantidad\": 87}, {\"sentiment\": \"neutral\", \"fecha\": \"2015-02-23T23:00:00\", \"cantidad\": 43}, {\"sentiment\": \"positive\", \"fecha\": \"2015-02-23T23:00:00\", \"cantidad\": 18}, {\"sentiment\": \"negative\", \"fecha\": \"2015-02-24T00:00:00\", \"cantidad\": 78}, {\"sentiment\": \"neutral\", \"fecha\": \"2015-02-24T00:00:00\", \"cantidad\": 29}, {\"sentiment\": \"positive\", \"fecha\": \"2015-02-24T00:00:00\", \"cantidad\": 18}, {\"sentiment\": \"negative\", \"fecha\": \"2015-02-24T01:00:00\", \"cantidad\": 47}, {\"sentiment\": \"neutral\", \"fecha\": \"2015-02-24T01:00:00\", \"cantidad\": 23}, {\"sentiment\": \"positive\", \"fecha\": \"2015-02-24T01:00:00\", \"cantidad\": 20}, {\"sentiment\": \"negative\", \"fecha\": \"2015-02-24T02:00:00\", \"cantidad\": 73}, {\"sentiment\": \"neutral\", \"fecha\": \"2015-02-24T02:00:00\", \"cantidad\": 28}, {\"sentiment\": \"positive\", \"fecha\": \"2015-02-24T02:00:00\", \"cantidad\": 24}, {\"sentiment\": \"negative\", \"fecha\": \"2015-02-24T03:00:00\", \"cantidad\": 94}, {\"sentiment\": \"neutral\", \"fecha\": \"2015-02-24T03:00:00\", \"cantidad\": 17}, {\"sentiment\": \"positive\", \"fecha\": \"2015-02-24T03:00:00\", \"cantidad\": 10}, {\"sentiment\": \"negative\", \"fecha\": \"2015-02-24T04:00:00\", \"cantidad\": 88}, {\"sentiment\": \"neutral\", \"fecha\": \"2015-02-24T04:00:00\", \"cantidad\": 29}, {\"sentiment\": \"positive\", \"fecha\": \"2015-02-24T04:00:00\", \"cantidad\": 19}, {\"sentiment\": \"negative\", \"fecha\": \"2015-02-24T05:00:00\", \"cantidad\": 54}, {\"sentiment\": \"neutral\", \"fecha\": \"2015-02-24T05:00:00\", \"cantidad\": 17}, {\"sentiment\": \"positive\", \"fecha\": \"2015-02-24T05:00:00\", \"cantidad\": 15}, {\"sentiment\": \"negative\", \"fecha\": \"2015-02-24T06:00:00\", \"cantidad\": 50}, {\"sentiment\": \"neutral\", \"fecha\": \"2015-02-24T06:00:00\", \"cantidad\": 7}, {\"sentiment\": \"positive\", \"fecha\": \"2015-02-24T06:00:00\", \"cantidad\": 10}, {\"sentiment\": \"negative\", \"fecha\": \"2015-02-24T07:00:00\", \"cantidad\": 28}, {\"sentiment\": \"neutral\", \"fecha\": \"2015-02-24T07:00:00\", \"cantidad\": 9}, {\"sentiment\": \"positive\", \"fecha\": \"2015-02-24T07:00:00\", \"cantidad\": 5}, {\"sentiment\": \"negative\", \"fecha\": \"2015-02-24T08:00:00\", \"cantidad\": 22}, {\"sentiment\": \"neutral\", \"fecha\": \"2015-02-24T08:00:00\", \"cantidad\": 2}, {\"sentiment\": \"positive\", \"fecha\": \"2015-02-24T08:00:00\", \"cantidad\": 5}, {\"sentiment\": \"negative\", \"fecha\": \"2015-02-24T09:00:00\", \"cantidad\": 20}, {\"sentiment\": \"neutral\", \"fecha\": \"2015-02-24T09:00:00\", \"cantidad\": 2}, {\"sentiment\": \"positive\", \"fecha\": \"2015-02-24T09:00:00\", \"cantidad\": 1}, {\"sentiment\": \"negative\", \"fecha\": \"2015-02-24T10:00:00\", \"cantidad\": 22}, {\"sentiment\": \"neutral\", \"fecha\": \"2015-02-24T10:00:00\", \"cantidad\": 10}, {\"sentiment\": \"positive\", \"fecha\": \"2015-02-24T10:00:00\", \"cantidad\": 2}, {\"sentiment\": \"negative\", \"fecha\": \"2015-02-24T11:00:00\", \"cantidad\": 43}, {\"sentiment\": \"neutral\", \"fecha\": \"2015-02-24T11:00:00\", \"cantidad\": 14}, {\"sentiment\": \"positive\", \"fecha\": \"2015-02-24T11:00:00\", \"cantidad\": 7}, {\"sentiment\": \"negative\", \"fecha\": \"2015-02-24T12:00:00\", \"cantidad\": 58}, {\"sentiment\": \"neutral\", \"fecha\": \"2015-02-24T12:00:00\", \"cantidad\": 20}, {\"sentiment\": \"positive\", \"fecha\": \"2015-02-24T12:00:00\", \"cantidad\": 13}, {\"sentiment\": \"negative\", \"fecha\": \"2015-02-24T13:00:00\", \"cantidad\": 47}, {\"sentiment\": \"neutral\", \"fecha\": \"2015-02-24T13:00:00\", \"cantidad\": 25}, {\"sentiment\": \"positive\", \"fecha\": \"2015-02-24T13:00:00\", \"cantidad\": 19}, {\"sentiment\": \"negative\", \"fecha\": \"2015-02-24T14:00:00\", \"cantidad\": 68}, {\"sentiment\": \"neutral\", \"fecha\": \"2015-02-24T14:00:00\", \"cantidad\": 24}, {\"sentiment\": \"positive\", \"fecha\": \"2015-02-24T14:00:00\", \"cantidad\": 19}, {\"sentiment\": \"negative\", \"fecha\": \"2015-02-24T15:00:00\", \"cantidad\": 75}, {\"sentiment\": \"neutral\", \"fecha\": \"2015-02-24T15:00:00\", \"cantidad\": 36}, {\"sentiment\": \"positive\", \"fecha\": \"2015-02-24T15:00:00\", \"cantidad\": 25}, {\"sentiment\": \"negative\", \"fecha\": \"2015-02-24T16:00:00\", \"cantidad\": 81}, {\"sentiment\": \"neutral\", \"fecha\": \"2015-02-24T16:00:00\", \"cantidad\": 48}, {\"sentiment\": \"positive\", \"fecha\": \"2015-02-24T16:00:00\", \"cantidad\": 22}, {\"sentiment\": \"negative\", \"fecha\": \"2015-02-24T17:00:00\", \"cantidad\": 147}, {\"sentiment\": \"neutral\", \"fecha\": \"2015-02-24T17:00:00\", \"cantidad\": 49}, {\"sentiment\": \"positive\", \"fecha\": \"2015-02-24T17:00:00\", \"cantidad\": 43}, {\"sentiment\": \"negative\", \"fecha\": \"2015-02-24T18:00:00\", \"cantidad\": 106}, {\"sentiment\": \"neutral\", \"fecha\": \"2015-02-24T18:00:00\", \"cantidad\": 56}, {\"sentiment\": \"positive\", \"fecha\": \"2015-02-24T18:00:00\", \"cantidad\": 41}, {\"sentiment\": \"negative\", \"fecha\": \"2015-02-24T19:00:00\", \"cantidad\": 92}, {\"sentiment\": \"neutral\", \"fecha\": \"2015-02-24T19:00:00\", \"cantidad\": 51}, {\"sentiment\": \"positive\", \"fecha\": \"2015-02-24T19:00:00\", \"cantidad\": 29}]}}, {\"mode\": \"vega-lite\"});\n",
       "</script>"
      ],
      "text/plain": [
       "alt.Chart(...)"
      ]
     },
     "execution_count": 23,
     "metadata": {},
     "output_type": "execute_result"
    }
   ],
   "source": [
    "alt.Chart(df_fecha_tweets_sent).mark_line().encode(\n",
    "    x='fecha:T',\n",
    "    y='cantidad:Q',\n",
    "    color='sentiment:N'\n",
    ").properties(\n",
    "    width=800,\n",
    "    height=300\n",
    ")"
   ]
  },
  {
   "cell_type": "markdown",
   "metadata": {},
   "source": [
    "### linea temporal de los sentimientos de los tweets del dia 18"
   ]
  },
  {
   "cell_type": "code",
   "execution_count": 24,
   "metadata": {},
   "outputs": [
    {
     "data": {
      "text/html": [
       "\n",
       "<div id=\"altair-viz-603cd73593144e518ee4700052396eb7\"></div>\n",
       "<script type=\"text/javascript\">\n",
       "  (function(spec, embedOpt){\n",
       "    let outputDiv = document.currentScript.previousElementSibling;\n",
       "    if (outputDiv.id !== \"altair-viz-603cd73593144e518ee4700052396eb7\") {\n",
       "      outputDiv = document.getElementById(\"altair-viz-603cd73593144e518ee4700052396eb7\");\n",
       "    }\n",
       "    const paths = {\n",
       "      \"vega\": \"https://cdn.jsdelivr.net/npm//vega@5?noext\",\n",
       "      \"vega-lib\": \"https://cdn.jsdelivr.net/npm//vega-lib?noext\",\n",
       "      \"vega-lite\": \"https://cdn.jsdelivr.net/npm//vega-lite@4.17.0?noext\",\n",
       "      \"vega-embed\": \"https://cdn.jsdelivr.net/npm//vega-embed@6?noext\",\n",
       "    };\n",
       "\n",
       "    function loadScript(lib) {\n",
       "      return new Promise(function(resolve, reject) {\n",
       "        var s = document.createElement('script');\n",
       "        s.src = paths[lib];\n",
       "        s.async = true;\n",
       "        s.onload = () => resolve(paths[lib]);\n",
       "        s.onerror = () => reject(`Error loading script: ${paths[lib]}`);\n",
       "        document.getElementsByTagName(\"head\")[0].appendChild(s);\n",
       "      });\n",
       "    }\n",
       "\n",
       "    function showError(err) {\n",
       "      outputDiv.innerHTML = `<div class=\"error\" style=\"color:red;\">${err}</div>`;\n",
       "      throw err;\n",
       "    }\n",
       "\n",
       "    function displayChart(vegaEmbed) {\n",
       "      vegaEmbed(outputDiv, spec, embedOpt)\n",
       "        .catch(err => showError(`Javascript Error: ${err.message}<br>This usually means there's a typo in your chart specification. See the javascript console for the full traceback.`));\n",
       "    }\n",
       "\n",
       "    if(typeof define === \"function\" && define.amd) {\n",
       "      requirejs.config({paths});\n",
       "      require([\"vega-embed\"], displayChart, err => showError(`Error loading script: ${err.message}`));\n",
       "    } else if (typeof vegaEmbed === \"function\") {\n",
       "      displayChart(vegaEmbed);\n",
       "    } else {\n",
       "      loadScript(\"vega\")\n",
       "        .then(() => loadScript(\"vega-lite\"))\n",
       "        .then(() => loadScript(\"vega-embed\"))\n",
       "        .catch(showError)\n",
       "        .then(() => displayChart(vegaEmbed));\n",
       "    }\n",
       "  })({\"config\": {\"view\": {\"continuousWidth\": 400, \"continuousHeight\": 300}}, \"data\": {\"name\": \"data-695aab8c8f521a1683fddb58720258ed\"}, \"mark\": \"line\", \"encoding\": {\"color\": {\"field\": \"sentiment\", \"type\": \"nominal\"}, \"x\": {\"field\": \"fecha\", \"type\": \"temporal\"}, \"y\": {\"field\": \"cantidad\", \"type\": \"quantitative\"}}, \"height\": 300, \"width\": 800, \"$schema\": \"https://vega.github.io/schema/vega-lite/v4.17.0.json\", \"datasets\": {\"data-695aab8c8f521a1683fddb58720258ed\": [{\"sentiment\": \"negative\", \"fecha\": \"2015-02-18T01:00:00\", \"cantidad\": 59}, {\"sentiment\": \"neutral\", \"fecha\": \"2015-02-18T01:00:00\", \"cantidad\": 15}, {\"sentiment\": \"positive\", \"fecha\": \"2015-02-18T01:00:00\", \"cantidad\": 16}, {\"sentiment\": \"negative\", \"fecha\": \"2015-02-18T02:00:00\", \"cantidad\": 48}, {\"sentiment\": \"neutral\", \"fecha\": \"2015-02-18T02:00:00\", \"cantidad\": 18}, {\"sentiment\": \"positive\", \"fecha\": \"2015-02-18T02:00:00\", \"cantidad\": 20}, {\"sentiment\": \"negative\", \"fecha\": \"2015-02-18T03:00:00\", \"cantidad\": 47}, {\"sentiment\": \"neutral\", \"fecha\": \"2015-02-18T03:00:00\", \"cantidad\": 7}, {\"sentiment\": \"positive\", \"fecha\": \"2015-02-18T03:00:00\", \"cantidad\": 18}, {\"sentiment\": \"negative\", \"fecha\": \"2015-02-18T04:00:00\", \"cantidad\": 34}, {\"sentiment\": \"neutral\", \"fecha\": \"2015-02-18T04:00:00\", \"cantidad\": 11}, {\"sentiment\": \"positive\", \"fecha\": \"2015-02-18T04:00:00\", \"cantidad\": 15}, {\"sentiment\": \"negative\", \"fecha\": \"2015-02-18T05:00:00\", \"cantidad\": 23}, {\"sentiment\": \"neutral\", \"fecha\": \"2015-02-18T05:00:00\", \"cantidad\": 8}, {\"sentiment\": \"positive\", \"fecha\": \"2015-02-18T05:00:00\", \"cantidad\": 4}, {\"sentiment\": \"negative\", \"fecha\": \"2015-02-18T06:00:00\", \"cantidad\": 17}, {\"sentiment\": \"neutral\", \"fecha\": \"2015-02-18T06:00:00\", \"cantidad\": 1}, {\"sentiment\": \"positive\", \"fecha\": \"2015-02-18T06:00:00\", \"cantidad\": 1}, {\"sentiment\": \"negative\", \"fecha\": \"2015-02-18T07:00:00\", \"cantidad\": 11}, {\"sentiment\": \"neutral\", \"fecha\": \"2015-02-18T07:00:00\", \"cantidad\": 3}, {\"sentiment\": \"positive\", \"fecha\": \"2015-02-18T07:00:00\", \"cantidad\": 1}, {\"sentiment\": \"negative\", \"fecha\": \"2015-02-18T08:00:00\", \"cantidad\": 8}, {\"sentiment\": \"neutral\", \"fecha\": \"2015-02-18T08:00:00\", \"cantidad\": 6}, {\"sentiment\": \"positive\", \"fecha\": \"2015-02-18T08:00:00\", \"cantidad\": 1}, {\"sentiment\": \"negative\", \"fecha\": \"2015-02-18T09:00:00\", \"cantidad\": 10}, {\"sentiment\": \"neutral\", \"fecha\": \"2015-02-18T09:00:00\", \"cantidad\": 3}, {\"sentiment\": \"positive\", \"fecha\": \"2015-02-18T09:00:00\", \"cantidad\": 1}, {\"sentiment\": \"negative\", \"fecha\": \"2015-02-18T10:00:00\", \"cantidad\": 2}, {\"sentiment\": \"neutral\", \"fecha\": \"2015-02-18T10:00:00\", \"cantidad\": 7}, {\"sentiment\": \"negative\", \"fecha\": \"2015-02-18T11:00:00\", \"cantidad\": 13}, {\"sentiment\": \"neutral\", \"fecha\": \"2015-02-18T11:00:00\", \"cantidad\": 5}, {\"sentiment\": \"positive\", \"fecha\": \"2015-02-18T11:00:00\", \"cantidad\": 4}, {\"sentiment\": \"negative\", \"fecha\": \"2015-02-18T12:00:00\", \"cantidad\": 18}, {\"sentiment\": \"neutral\", \"fecha\": \"2015-02-18T12:00:00\", \"cantidad\": 3}, {\"sentiment\": \"positive\", \"fecha\": \"2015-02-18T12:00:00\", \"cantidad\": 9}, {\"sentiment\": \"negative\", \"fecha\": \"2015-02-18T13:00:00\", \"cantidad\": 23}, {\"sentiment\": \"neutral\", \"fecha\": \"2015-02-18T13:00:00\", \"cantidad\": 14}, {\"sentiment\": \"positive\", \"fecha\": \"2015-02-18T13:00:00\", \"cantidad\": 11}, {\"sentiment\": \"negative\", \"fecha\": \"2015-02-18T14:00:00\", \"cantidad\": 46}, {\"sentiment\": \"neutral\", \"fecha\": \"2015-02-18T14:00:00\", \"cantidad\": 15}, {\"sentiment\": \"positive\", \"fecha\": \"2015-02-18T14:00:00\", \"cantidad\": 14}, {\"sentiment\": \"negative\", \"fecha\": \"2015-02-18T15:00:00\", \"cantidad\": 41}, {\"sentiment\": \"neutral\", \"fecha\": \"2015-02-18T15:00:00\", \"cantidad\": 15}, {\"sentiment\": \"positive\", \"fecha\": \"2015-02-18T15:00:00\", \"cantidad\": 15}, {\"sentiment\": \"negative\", \"fecha\": \"2015-02-18T16:00:00\", \"cantidad\": 53}, {\"sentiment\": \"neutral\", \"fecha\": \"2015-02-18T16:00:00\", \"cantidad\": 27}, {\"sentiment\": \"positive\", \"fecha\": \"2015-02-18T16:00:00\", \"cantidad\": 21}, {\"sentiment\": \"negative\", \"fecha\": \"2015-02-18T17:00:00\", \"cantidad\": 46}, {\"sentiment\": \"neutral\", \"fecha\": \"2015-02-18T17:00:00\", \"cantidad\": 22}, {\"sentiment\": \"positive\", \"fecha\": \"2015-02-18T17:00:00\", \"cantidad\": 24}, {\"sentiment\": \"negative\", \"fecha\": \"2015-02-18T18:00:00\", \"cantidad\": 41}, {\"sentiment\": \"neutral\", \"fecha\": \"2015-02-18T18:00:00\", \"cantidad\": 14}, {\"sentiment\": \"positive\", \"fecha\": \"2015-02-18T18:00:00\", \"cantidad\": 17}, {\"sentiment\": \"negative\", \"fecha\": \"2015-02-18T19:00:00\", \"cantidad\": 46}, {\"sentiment\": \"neutral\", \"fecha\": \"2015-02-18T19:00:00\", \"cantidad\": 19}, {\"sentiment\": \"positive\", \"fecha\": \"2015-02-18T19:00:00\", \"cantidad\": 9}, {\"sentiment\": \"negative\", \"fecha\": \"2015-02-18T20:00:00\", \"cantidad\": 44}, {\"sentiment\": \"neutral\", \"fecha\": \"2015-02-18T20:00:00\", \"cantidad\": 18}, {\"sentiment\": \"positive\", \"fecha\": \"2015-02-18T20:00:00\", \"cantidad\": 14}, {\"sentiment\": \"negative\", \"fecha\": \"2015-02-18T21:00:00\", \"cantidad\": 52}, {\"sentiment\": \"neutral\", \"fecha\": \"2015-02-18T21:00:00\", \"cantidad\": 17}, {\"sentiment\": \"positive\", \"fecha\": \"2015-02-18T21:00:00\", \"cantidad\": 19}, {\"sentiment\": \"negative\", \"fecha\": \"2015-02-18T22:00:00\", \"cantidad\": 53}, {\"sentiment\": \"neutral\", \"fecha\": \"2015-02-18T22:00:00\", \"cantidad\": 17}, {\"sentiment\": \"positive\", \"fecha\": \"2015-02-18T22:00:00\", \"cantidad\": 21}, {\"sentiment\": \"negative\", \"fecha\": \"2015-02-18T23:00:00\", \"cantidad\": 42}, {\"sentiment\": \"neutral\", \"fecha\": \"2015-02-18T23:00:00\", \"cantidad\": 24}, {\"sentiment\": \"positive\", \"fecha\": \"2015-02-18T23:00:00\", \"cantidad\": 13}]}}, {\"mode\": \"vega-lite\"});\n",
       "</script>"
      ],
      "text/plain": [
       "alt.Chart(...)"
      ]
     },
     "execution_count": 24,
     "metadata": {},
     "output_type": "execute_result"
    }
   ],
   "source": [
    "dia = df_fecha_tweets_sent[(df_fecha_tweets_sent[\"fecha\"] > \"2015-02-18\") &\n",
    "                      (df_fecha_tweets_sent[\"fecha\"] < \"2015-02-19\") ]\n",
    "alt.Chart(dia).mark_line().encode(\n",
    "    x='fecha:T',\n",
    "    y='cantidad:Q',\n",
    "    color='sentiment:N'\n",
    ").properties(\n",
    "    width=800,\n",
    "    height=300\n",
    ")"
   ]
  },
  {
   "cell_type": "markdown",
   "metadata": {},
   "source": [
    "###  Promedio las incidencias de los 7 días en una franja de 24 horas. \n",
    "  \n",
    "  El propósito de la gráfica es mostrar si alguna incidencia aumentaba en un horario distinto a otra, pero al parecer todas aumentan y decaen en el mismo horario."
   ]
  },
  {
   "cell_type": "code",
   "execution_count": 25,
   "metadata": {},
   "outputs": [
    {
     "name": "stderr",
     "output_type": "stream",
     "text": [
      "<ipython-input-25-f0f7caed9866>:2: SettingWithCopyWarning: \n",
      "A value is trying to be set on a copy of a slice from a DataFrame.\n",
      "Try using .loc[row_indexer,col_indexer] = value instead\n",
      "\n",
      "See the caveats in the documentation: https://pandas.pydata.org/pandas-docs/stable/user_guide/indexing.html#returning-a-view-versus-a-copy\n",
      "  df_hora_reason[\"negativereason\"] = df[\"negativereason\"]\n"
     ]
    }
   ],
   "source": [
    "df_hora_reason = df_fecha[[\"hour\"]]\n",
    "df_hora_reason[\"negativereason\"] = df[\"negativereason\"]\n",
    "df_hora_reason = df_hora_reason[df[\"airline_sentiment\"] == \"negative\"]"
   ]
  },
  {
   "cell_type": "code",
   "execution_count": 26,
   "metadata": {},
   "outputs": [],
   "source": [
    "grupo_hora_reason = df_hora_reason.groupby([\"hour\", \"negativereason\"])\n",
    "serie_tiempo = grupo_hora_reason[\"hour\"].count()\n",
    "serie_tiempo= serie_tiempo/7 # 7 dias de muestreo"
   ]
  },
  {
   "cell_type": "code",
   "execution_count": 27,
   "metadata": {},
   "outputs": [],
   "source": [
    "df_x_time = serie_tiempo.index.to_frame(index=None)"
   ]
  },
  {
   "cell_type": "code",
   "execution_count": 28,
   "metadata": {},
   "outputs": [],
   "source": [
    "df_fecha_tweets_reason = pd.DataFrame()\n",
    "df_fecha_tweets_reason[\"negativereason\"] = df_x_time[\"negativereason\"]\n",
    "df_fecha_tweets_reason[\"hora\"] = df_x_time[\"hour\"]\n",
    "df_fecha_tweets_reason[\"cantidad\"] = serie_tiempo.values"
   ]
  },
  {
   "cell_type": "code",
   "execution_count": 29,
   "metadata": {},
   "outputs": [
    {
     "data": {
      "text/html": [
       "\n",
       "<div id=\"altair-viz-5a1412006c1c4b8b9e1c9a1ba26c05dc\"></div>\n",
       "<script type=\"text/javascript\">\n",
       "  (function(spec, embedOpt){\n",
       "    let outputDiv = document.currentScript.previousElementSibling;\n",
       "    if (outputDiv.id !== \"altair-viz-5a1412006c1c4b8b9e1c9a1ba26c05dc\") {\n",
       "      outputDiv = document.getElementById(\"altair-viz-5a1412006c1c4b8b9e1c9a1ba26c05dc\");\n",
       "    }\n",
       "    const paths = {\n",
       "      \"vega\": \"https://cdn.jsdelivr.net/npm//vega@5?noext\",\n",
       "      \"vega-lib\": \"https://cdn.jsdelivr.net/npm//vega-lib?noext\",\n",
       "      \"vega-lite\": \"https://cdn.jsdelivr.net/npm//vega-lite@4.17.0?noext\",\n",
       "      \"vega-embed\": \"https://cdn.jsdelivr.net/npm//vega-embed@6?noext\",\n",
       "    };\n",
       "\n",
       "    function loadScript(lib) {\n",
       "      return new Promise(function(resolve, reject) {\n",
       "        var s = document.createElement('script');\n",
       "        s.src = paths[lib];\n",
       "        s.async = true;\n",
       "        s.onload = () => resolve(paths[lib]);\n",
       "        s.onerror = () => reject(`Error loading script: ${paths[lib]}`);\n",
       "        document.getElementsByTagName(\"head\")[0].appendChild(s);\n",
       "      });\n",
       "    }\n",
       "\n",
       "    function showError(err) {\n",
       "      outputDiv.innerHTML = `<div class=\"error\" style=\"color:red;\">${err}</div>`;\n",
       "      throw err;\n",
       "    }\n",
       "\n",
       "    function displayChart(vegaEmbed) {\n",
       "      vegaEmbed(outputDiv, spec, embedOpt)\n",
       "        .catch(err => showError(`Javascript Error: ${err.message}<br>This usually means there's a typo in your chart specification. See the javascript console for the full traceback.`));\n",
       "    }\n",
       "\n",
       "    if(typeof define === \"function\" && define.amd) {\n",
       "      requirejs.config({paths});\n",
       "      require([\"vega-embed\"], displayChart, err => showError(`Error loading script: ${err.message}`));\n",
       "    } else if (typeof vegaEmbed === \"function\") {\n",
       "      displayChart(vegaEmbed);\n",
       "    } else {\n",
       "      loadScript(\"vega\")\n",
       "        .then(() => loadScript(\"vega-lite\"))\n",
       "        .then(() => loadScript(\"vega-embed\"))\n",
       "        .catch(showError)\n",
       "        .then(() => displayChart(vegaEmbed));\n",
       "    }\n",
       "  })({\"config\": {\"view\": {\"continuousWidth\": 400, \"continuousHeight\": 300}}, \"data\": {\"name\": \"data-d7ea799b0e936b0314199d5ad88f2af7\"}, \"mark\": \"line\", \"encoding\": {\"color\": {\"field\": \"negativereason\", \"type\": \"nominal\"}, \"tooltip\": [{\"field\": \"cantidad\", \"title\": \"issue\", \"type\": \"quantitative\"}], \"x\": {\"field\": \"hora\", \"type\": \"quantitative\"}, \"y\": {\"field\": \"cantidad\", \"type\": \"quantitative\"}}, \"height\": 300, \"width\": 800, \"$schema\": \"https://vega.github.io/schema/vega-lite/v4.17.0.json\", \"datasets\": {\"data-d7ea799b0e936b0314199d5ad88f2af7\": [{\"negativereason\": \"Bad Flight\", \"hora\": 0, \"cantidad\": 5.0}, {\"negativereason\": \"Can't Tell\", \"hora\": 0, \"cantidad\": 8.142857142857142}, {\"negativereason\": \"Cancelled Flight\", \"hora\": 0, \"cantidad\": 5.285714285714286}, {\"negativereason\": \"Customer Service Issue\", \"hora\": 0, \"cantidad\": 18.714285714285715}, {\"negativereason\": \"Damaged Luggage\", \"hora\": 0, \"cantidad\": 0.14285714285714285}, {\"negativereason\": \"Flight Attendant Complaints\", \"hora\": 0, \"cantidad\": 3.142857142857143}, {\"negativereason\": \"Flight Booking Problems\", \"hora\": 0, \"cantidad\": 2.5714285714285716}, {\"negativereason\": \"Late Flight\", \"hora\": 0, \"cantidad\": 15.857142857142858}, {\"negativereason\": \"Lost Luggage\", \"hora\": 0, \"cantidad\": 5.428571428571429}, {\"negativereason\": \"longlines\", \"hora\": 0, \"cantidad\": 1.8571428571428572}, {\"negativereason\": \"Bad Flight\", \"hora\": 1, \"cantidad\": 4.857142857142857}, {\"negativereason\": \"Can't Tell\", \"hora\": 1, \"cantidad\": 8.571428571428571}, {\"negativereason\": \"Cancelled Flight\", \"hora\": 1, \"cantidad\": 4.428571428571429}, {\"negativereason\": \"Customer Service Issue\", \"hora\": 1, \"cantidad\": 15.428571428571429}, {\"negativereason\": \"Damaged Luggage\", \"hora\": 1, \"cantidad\": 0.7142857142857143}, {\"negativereason\": \"Flight Attendant Complaints\", \"hora\": 1, \"cantidad\": 3.142857142857143}, {\"negativereason\": \"Flight Booking Problems\", \"hora\": 1, \"cantidad\": 3.2857142857142856}, {\"negativereason\": \"Late Flight\", \"hora\": 1, \"cantidad\": 16.0}, {\"negativereason\": \"Lost Luggage\", \"hora\": 1, \"cantidad\": 6.0}, {\"negativereason\": \"longlines\", \"hora\": 1, \"cantidad\": 2.0}, {\"negativereason\": \"Bad Flight\", \"hora\": 2, \"cantidad\": 4.0}, {\"negativereason\": \"Can't Tell\", \"hora\": 2, \"cantidad\": 7.714285714285714}, {\"negativereason\": \"Cancelled Flight\", \"hora\": 2, \"cantidad\": 6.142857142857143}, {\"negativereason\": \"Customer Service Issue\", \"hora\": 2, \"cantidad\": 22.285714285714285}, {\"negativereason\": \"Damaged Luggage\", \"hora\": 2, \"cantidad\": 0.7142857142857143}, {\"negativereason\": \"Flight Attendant Complaints\", \"hora\": 2, \"cantidad\": 2.857142857142857}, {\"negativereason\": \"Flight Booking Problems\", \"hora\": 2, \"cantidad\": 3.7142857142857144}, {\"negativereason\": \"Late Flight\", \"hora\": 2, \"cantidad\": 14.142857142857142}, {\"negativereason\": \"Lost Luggage\", \"hora\": 2, \"cantidad\": 5.714285714285714}, {\"negativereason\": \"longlines\", \"hora\": 2, \"cantidad\": 0.8571428571428571}, {\"negativereason\": \"Bad Flight\", \"hora\": 3, \"cantidad\": 4.857142857142857}, {\"negativereason\": \"Can't Tell\", \"hora\": 3, \"cantidad\": 9.142857142857142}, {\"negativereason\": \"Cancelled Flight\", \"hora\": 3, \"cantidad\": 5.142857142857143}, {\"negativereason\": \"Customer Service Issue\", \"hora\": 3, \"cantidad\": 17.714285714285715}, {\"negativereason\": \"Damaged Luggage\", \"hora\": 3, \"cantidad\": 0.8571428571428571}, {\"negativereason\": \"Flight Attendant Complaints\", \"hora\": 3, \"cantidad\": 3.7142857142857144}, {\"negativereason\": \"Flight Booking Problems\", \"hora\": 3, \"cantidad\": 3.142857142857143}, {\"negativereason\": \"Late Flight\", \"hora\": 3, \"cantidad\": 16.571428571428573}, {\"negativereason\": \"Lost Luggage\", \"hora\": 3, \"cantidad\": 6.428571428571429}, {\"negativereason\": \"longlines\", \"hora\": 3, \"cantidad\": 1.2857142857142858}, {\"negativereason\": \"Bad Flight\", \"hora\": 4, \"cantidad\": 2.857142857142857}, {\"negativereason\": \"Can't Tell\", \"hora\": 4, \"cantidad\": 7.428571428571429}, {\"negativereason\": \"Cancelled Flight\", \"hora\": 4, \"cantidad\": 5.0}, {\"negativereason\": \"Customer Service Issue\", \"hora\": 4, \"cantidad\": 16.428571428571427}, {\"negativereason\": \"Damaged Luggage\", \"hora\": 4, \"cantidad\": 0.5714285714285714}, {\"negativereason\": \"Flight Attendant Complaints\", \"hora\": 4, \"cantidad\": 3.4285714285714284}, {\"negativereason\": \"Flight Booking Problems\", \"hora\": 4, \"cantidad\": 3.142857142857143}, {\"negativereason\": \"Late Flight\", \"hora\": 4, \"cantidad\": 10.0}, {\"negativereason\": \"Lost Luggage\", \"hora\": 4, \"cantidad\": 5.714285714285714}, {\"negativereason\": \"longlines\", \"hora\": 4, \"cantidad\": 1.0}, {\"negativereason\": \"Bad Flight\", \"hora\": 5, \"cantidad\": 2.2857142857142856}, {\"negativereason\": \"Can't Tell\", \"hora\": 5, \"cantidad\": 4.571428571428571}, {\"negativereason\": \"Cancelled Flight\", \"hora\": 5, \"cantidad\": 4.0}, {\"negativereason\": \"Customer Service Issue\", \"hora\": 5, \"cantidad\": 13.714285714285714}, {\"negativereason\": \"Damaged Luggage\", \"hora\": 5, \"cantidad\": 0.14285714285714285}, {\"negativereason\": \"Flight Attendant Complaints\", \"hora\": 5, \"cantidad\": 2.142857142857143}, {\"negativereason\": \"Flight Booking Problems\", \"hora\": 5, \"cantidad\": 3.142857142857143}, {\"negativereason\": \"Late Flight\", \"hora\": 5, \"cantidad\": 7.285714285714286}, {\"negativereason\": \"Lost Luggage\", \"hora\": 5, \"cantidad\": 4.0}, {\"negativereason\": \"longlines\", \"hora\": 5, \"cantidad\": 0.2857142857142857}, {\"negativereason\": \"Bad Flight\", \"hora\": 6, \"cantidad\": 1.8571428571428572}, {\"negativereason\": \"Can't Tell\", \"hora\": 6, \"cantidad\": 3.0}, {\"negativereason\": \"Cancelled Flight\", \"hora\": 6, \"cantidad\": 2.4285714285714284}, {\"negativereason\": \"Customer Service Issue\", \"hora\": 6, \"cantidad\": 10.285714285714286}, {\"negativereason\": \"Damaged Luggage\", \"hora\": 6, \"cantidad\": 0.2857142857142857}, {\"negativereason\": \"Flight Attendant Complaints\", \"hora\": 6, \"cantidad\": 2.0}, {\"negativereason\": \"Flight Booking Problems\", \"hora\": 6, \"cantidad\": 1.7142857142857142}, {\"negativereason\": \"Late Flight\", \"hora\": 6, \"cantidad\": 4.571428571428571}, {\"negativereason\": \"Lost Luggage\", \"hora\": 6, \"cantidad\": 3.857142857142857}, {\"negativereason\": \"longlines\", \"hora\": 6, \"cantidad\": 0.7142857142857143}, {\"negativereason\": \"Bad Flight\", \"hora\": 7, \"cantidad\": 0.7142857142857143}, {\"negativereason\": \"Can't Tell\", \"hora\": 7, \"cantidad\": 3.4285714285714284}, {\"negativereason\": \"Cancelled Flight\", \"hora\": 7, \"cantidad\": 2.5714285714285716}, {\"negativereason\": \"Customer Service Issue\", \"hora\": 7, \"cantidad\": 5.714285714285714}, {\"negativereason\": \"Damaged Luggage\", \"hora\": 7, \"cantidad\": 0.14285714285714285}, {\"negativereason\": \"Flight Attendant Complaints\", \"hora\": 7, \"cantidad\": 0.7142857142857143}, {\"negativereason\": \"Flight Booking Problems\", \"hora\": 7, \"cantidad\": 1.0}, {\"negativereason\": \"Late Flight\", \"hora\": 7, \"cantidad\": 3.142857142857143}, {\"negativereason\": \"Lost Luggage\", \"hora\": 7, \"cantidad\": 2.142857142857143}, {\"negativereason\": \"longlines\", \"hora\": 7, \"cantidad\": 0.7142857142857143}, {\"negativereason\": \"Bad Flight\", \"hora\": 8, \"cantidad\": 1.4285714285714286}, {\"negativereason\": \"Can't Tell\", \"hora\": 8, \"cantidad\": 2.0}, {\"negativereason\": \"Cancelled Flight\", \"hora\": 8, \"cantidad\": 1.5714285714285714}, {\"negativereason\": \"Customer Service Issue\", \"hora\": 8, \"cantidad\": 3.857142857142857}, {\"negativereason\": \"Flight Attendant Complaints\", \"hora\": 8, \"cantidad\": 0.5714285714285714}, {\"negativereason\": \"Flight Booking Problems\", \"hora\": 8, \"cantidad\": 0.2857142857142857}, {\"negativereason\": \"Late Flight\", \"hora\": 8, \"cantidad\": 1.8571428571428572}, {\"negativereason\": \"Lost Luggage\", \"hora\": 8, \"cantidad\": 2.142857142857143}, {\"negativereason\": \"longlines\", \"hora\": 8, \"cantidad\": 0.14285714285714285}, {\"negativereason\": \"Bad Flight\", \"hora\": 9, \"cantidad\": 0.42857142857142855}, {\"negativereason\": \"Can't Tell\", \"hora\": 9, \"cantidad\": 2.142857142857143}, {\"negativereason\": \"Cancelled Flight\", \"hora\": 9, \"cantidad\": 0.42857142857142855}, {\"negativereason\": \"Customer Service Issue\", \"hora\": 9, \"cantidad\": 4.142857142857143}, {\"negativereason\": \"Damaged Luggage\", \"hora\": 9, \"cantidad\": 0.42857142857142855}, {\"negativereason\": \"Flight Attendant Complaints\", \"hora\": 9, \"cantidad\": 0.42857142857142855}, {\"negativereason\": \"Flight Booking Problems\", \"hora\": 9, \"cantidad\": 0.42857142857142855}, {\"negativereason\": \"Late Flight\", \"hora\": 9, \"cantidad\": 1.0}, {\"negativereason\": \"Lost Luggage\", \"hora\": 9, \"cantidad\": 1.8571428571428572}, {\"negativereason\": \"longlines\", \"hora\": 9, \"cantidad\": 0.14285714285714285}, {\"negativereason\": \"Bad Flight\", \"hora\": 10, \"cantidad\": 0.42857142857142855}, {\"negativereason\": \"Can't Tell\", \"hora\": 10, \"cantidad\": 1.5714285714285714}, {\"negativereason\": \"Cancelled Flight\", \"hora\": 10, \"cantidad\": 1.0}, {\"negativereason\": \"Customer Service Issue\", \"hora\": 10, \"cantidad\": 6.571428571428571}, {\"negativereason\": \"Flight Attendant Complaints\", \"hora\": 10, \"cantidad\": 1.5714285714285714}, {\"negativereason\": \"Flight Booking Problems\", \"hora\": 10, \"cantidad\": 0.42857142857142855}, {\"negativereason\": \"Late Flight\", \"hora\": 10, \"cantidad\": 1.5714285714285714}, {\"negativereason\": \"Lost Luggage\", \"hora\": 10, \"cantidad\": 2.0}, {\"negativereason\": \"longlines\", \"hora\": 10, \"cantidad\": 0.42857142857142855}, {\"negativereason\": \"Bad Flight\", \"hora\": 11, \"cantidad\": 1.4285714285714286}, {\"negativereason\": \"Can't Tell\", \"hora\": 11, \"cantidad\": 2.4285714285714284}, {\"negativereason\": \"Cancelled Flight\", \"hora\": 11, \"cantidad\": 2.4285714285714284}, {\"negativereason\": \"Customer Service Issue\", \"hora\": 11, \"cantidad\": 7.285714285714286}, {\"negativereason\": \"Damaged Luggage\", \"hora\": 11, \"cantidad\": 0.14285714285714285}, {\"negativereason\": \"Flight Attendant Complaints\", \"hora\": 11, \"cantidad\": 0.42857142857142855}, {\"negativereason\": \"Flight Booking Problems\", \"hora\": 11, \"cantidad\": 0.7142857142857143}, {\"negativereason\": \"Late Flight\", \"hora\": 11, \"cantidad\": 3.0}, {\"negativereason\": \"Lost Luggage\", \"hora\": 11, \"cantidad\": 2.4285714285714284}, {\"negativereason\": \"longlines\", \"hora\": 11, \"cantidad\": 0.5714285714285714}, {\"negativereason\": \"Bad Flight\", \"hora\": 12, \"cantidad\": 2.142857142857143}, {\"negativereason\": \"Can't Tell\", \"hora\": 12, \"cantidad\": 4.714285714285714}, {\"negativereason\": \"Cancelled Flight\", \"hora\": 12, \"cantidad\": 2.857142857142857}, {\"negativereason\": \"Customer Service Issue\", \"hora\": 12, \"cantidad\": 10.571428571428571}, {\"negativereason\": \"Damaged Luggage\", \"hora\": 12, \"cantidad\": 0.2857142857142857}, {\"negativereason\": \"Flight Attendant Complaints\", \"hora\": 12, \"cantidad\": 2.5714285714285716}, {\"negativereason\": \"Flight Booking Problems\", \"hora\": 12, \"cantidad\": 1.8571428571428572}, {\"negativereason\": \"Late Flight\", \"hora\": 12, \"cantidad\": 5.428571428571429}, {\"negativereason\": \"Lost Luggage\", \"hora\": 12, \"cantidad\": 3.0}, {\"negativereason\": \"longlines\", \"hora\": 12, \"cantidad\": 0.2857142857142857}, {\"negativereason\": \"Bad Flight\", \"hora\": 13, \"cantidad\": 2.857142857142857}, {\"negativereason\": \"Can't Tell\", \"hora\": 13, \"cantidad\": 4.571428571428571}, {\"negativereason\": \"Cancelled Flight\", \"hora\": 13, \"cantidad\": 4.714285714285714}, {\"negativereason\": \"Customer Service Issue\", \"hora\": 13, \"cantidad\": 15.428571428571429}, {\"negativereason\": \"Damaged Luggage\", \"hora\": 13, \"cantidad\": 0.2857142857142857}, {\"negativereason\": \"Flight Attendant Complaints\", \"hora\": 13, \"cantidad\": 2.2857142857142856}, {\"negativereason\": \"Flight Booking Problems\", \"hora\": 13, \"cantidad\": 2.5714285714285716}, {\"negativereason\": \"Late Flight\", \"hora\": 13, \"cantidad\": 8.714285714285714}, {\"negativereason\": \"Lost Luggage\", \"hora\": 13, \"cantidad\": 2.857142857142857}, {\"negativereason\": \"longlines\", \"hora\": 13, \"cantidad\": 0.42857142857142855}, {\"negativereason\": \"Bad Flight\", \"hora\": 14, \"cantidad\": 4.857142857142857}, {\"negativereason\": \"Can't Tell\", \"hora\": 14, \"cantidad\": 7.714285714285714}, {\"negativereason\": \"Cancelled Flight\", \"hora\": 14, \"cantidad\": 5.142857142857143}, {\"negativereason\": \"Customer Service Issue\", \"hora\": 14, \"cantidad\": 19.714285714285715}, {\"negativereason\": \"Damaged Luggage\", \"hora\": 14, \"cantidad\": 0.14285714285714285}, {\"negativereason\": \"Flight Attendant Complaints\", \"hora\": 14, \"cantidad\": 2.857142857142857}, {\"negativereason\": \"Flight Booking Problems\", \"hora\": 14, \"cantidad\": 2.2857142857142856}, {\"negativereason\": \"Late Flight\", \"hora\": 14, \"cantidad\": 9.0}, {\"negativereason\": \"Lost Luggage\", \"hora\": 14, \"cantidad\": 3.5714285714285716}, {\"negativereason\": \"longlines\", \"hora\": 14, \"cantidad\": 1.1428571428571428}, {\"negativereason\": \"Bad Flight\", \"hora\": 15, \"cantidad\": 3.0}, {\"negativereason\": \"Can't Tell\", \"hora\": 15, \"cantidad\": 8.0}, {\"negativereason\": \"Cancelled Flight\", \"hora\": 15, \"cantidad\": 7.285714285714286}, {\"negativereason\": \"Customer Service Issue\", \"hora\": 15, \"cantidad\": 24.0}, {\"negativereason\": \"Damaged Luggage\", \"hora\": 15, \"cantidad\": 0.2857142857142857}, {\"negativereason\": \"Flight Attendant Complaints\", \"hora\": 15, \"cantidad\": 3.4285714285714284}, {\"negativereason\": \"Flight Booking Problems\", \"hora\": 15, \"cantidad\": 4.0}, {\"negativereason\": \"Late Flight\", \"hora\": 15, \"cantidad\": 12.571428571428571}, {\"negativereason\": \"Lost Luggage\", \"hora\": 15, \"cantidad\": 4.0}, {\"negativereason\": \"longlines\", \"hora\": 15, \"cantidad\": 1.2857142857142858}, {\"negativereason\": \"Bad Flight\", \"hora\": 16, \"cantidad\": 5.714285714285714}, {\"negativereason\": \"Can't Tell\", \"hora\": 16, \"cantidad\": 8.428571428571429}, {\"negativereason\": \"Cancelled Flight\", \"hora\": 16, \"cantidad\": 7.142857142857143}, {\"negativereason\": \"Customer Service Issue\", \"hora\": 16, \"cantidad\": 29.428571428571427}, {\"negativereason\": \"Damaged Luggage\", \"hora\": 16, \"cantidad\": 0.2857142857142857}, {\"negativereason\": \"Flight Attendant Complaints\", \"hora\": 16, \"cantidad\": 3.142857142857143}, {\"negativereason\": \"Flight Booking Problems\", \"hora\": 16, \"cantidad\": 4.857142857142857}, {\"negativereason\": \"Late Flight\", \"hora\": 16, \"cantidad\": 14.571428571428571}, {\"negativereason\": \"Lost Luggage\", \"hora\": 16, \"cantidad\": 4.285714285714286}, {\"negativereason\": \"longlines\", \"hora\": 16, \"cantidad\": 1.5714285714285714}, {\"negativereason\": \"Bad Flight\", \"hora\": 17, \"cantidad\": 4.571428571428571}, {\"negativereason\": \"Can't Tell\", \"hora\": 17, \"cantidad\": 10.714285714285714}, {\"negativereason\": \"Cancelled Flight\", \"hora\": 17, \"cantidad\": 9.571428571428571}, {\"negativereason\": \"Customer Service Issue\", \"hora\": 17, \"cantidad\": 29.857142857142858}, {\"negativereason\": \"Damaged Luggage\", \"hora\": 17, \"cantidad\": 1.5714285714285714}, {\"negativereason\": \"Flight Attendant Complaints\", \"hora\": 17, \"cantidad\": 6.285714285714286}, {\"negativereason\": \"Flight Booking Problems\", \"hora\": 17, \"cantidad\": 5.142857142857143}, {\"negativereason\": \"Late Flight\", \"hora\": 17, \"cantidad\": 12.428571428571429}, {\"negativereason\": \"Lost Luggage\", \"hora\": 17, \"cantidad\": 6.285714285714286}, {\"negativereason\": \"longlines\", \"hora\": 17, \"cantidad\": 1.7142857142857142}, {\"negativereason\": \"Bad Flight\", \"hora\": 18, \"cantidad\": 5.142857142857143}, {\"negativereason\": \"Can't Tell\", \"hora\": 18, \"cantidad\": 11.857142857142858}, {\"negativereason\": \"Cancelled Flight\", \"hora\": 18, \"cantidad\": 6.428571428571429}, {\"negativereason\": \"Customer Service Issue\", \"hora\": 18, \"cantidad\": 24.0}, {\"negativereason\": \"Damaged Luggage\", \"hora\": 18, \"cantidad\": 0.14285714285714285}, {\"negativereason\": \"Flight Attendant Complaints\", \"hora\": 18, \"cantidad\": 4.571428571428571}, {\"negativereason\": \"Flight Booking Problems\", \"hora\": 18, \"cantidad\": 5.857142857142857}, {\"negativereason\": \"Late Flight\", \"hora\": 18, \"cantidad\": 12.714285714285714}, {\"negativereason\": \"Lost Luggage\", \"hora\": 18, \"cantidad\": 5.428571428571429}, {\"negativereason\": \"longlines\", \"hora\": 18, \"cantidad\": 1.4285714285714286}, {\"negativereason\": \"Bad Flight\", \"hora\": 19, \"cantidad\": 6.571428571428571}, {\"negativereason\": \"Can't Tell\", \"hora\": 19, \"cantidad\": 12.285714285714286}, {\"negativereason\": \"Cancelled Flight\", \"hora\": 19, \"cantidad\": 6.857142857142857}, {\"negativereason\": \"Customer Service Issue\", \"hora\": 19, \"cantidad\": 24.142857142857142}, {\"negativereason\": \"Damaged Luggage\", \"hora\": 19, \"cantidad\": 0.5714285714285714}, {\"negativereason\": \"Flight Attendant Complaints\", \"hora\": 19, \"cantidad\": 5.0}, {\"negativereason\": \"Flight Booking Problems\", \"hora\": 19, \"cantidad\": 6.285714285714286}, {\"negativereason\": \"Late Flight\", \"hora\": 19, \"cantidad\": 13.428571428571429}, {\"negativereason\": \"Lost Luggage\", \"hora\": 19, \"cantidad\": 4.142857142857143}, {\"negativereason\": \"longlines\", \"hora\": 19, \"cantidad\": 2.4285714285714284}, {\"negativereason\": \"Bad Flight\", \"hora\": 20, \"cantidad\": 4.142857142857143}, {\"negativereason\": \"Can't Tell\", \"hora\": 20, \"cantidad\": 6.714285714285714}, {\"negativereason\": \"Cancelled Flight\", \"hora\": 20, \"cantidad\": 8.142857142857142}, {\"negativereason\": \"Customer Service Issue\", \"hora\": 20, \"cantidad\": 23.285714285714285}, {\"negativereason\": \"Damaged Luggage\", \"hora\": 20, \"cantidad\": 0.42857142857142855}, {\"negativereason\": \"Flight Attendant Complaints\", \"hora\": 20, \"cantidad\": 3.142857142857143}, {\"negativereason\": \"Flight Booking Problems\", \"hora\": 20, \"cantidad\": 4.0}, {\"negativereason\": \"Late Flight\", \"hora\": 20, \"cantidad\": 12.142857142857142}, {\"negativereason\": \"Lost Luggage\", \"hora\": 20, \"cantidad\": 5.857142857142857}, {\"negativereason\": \"longlines\", \"hora\": 20, \"cantidad\": 1.4285714285714286}, {\"negativereason\": \"Bad Flight\", \"hora\": 21, \"cantidad\": 4.857142857142857}, {\"negativereason\": \"Can't Tell\", \"hora\": 21, \"cantidad\": 11.0}, {\"negativereason\": \"Cancelled Flight\", \"hora\": 21, \"cantidad\": 9.0}, {\"negativereason\": \"Customer Service Issue\", \"hora\": 21, \"cantidad\": 26.714285714285715}, {\"negativereason\": \"Damaged Luggage\", \"hora\": 21, \"cantidad\": 0.5714285714285714}, {\"negativereason\": \"Flight Attendant Complaints\", \"hora\": 21, \"cantidad\": 4.142857142857143}, {\"negativereason\": \"Flight Booking Problems\", \"hora\": 21, \"cantidad\": 5.714285714285714}, {\"negativereason\": \"Late Flight\", \"hora\": 21, \"cantidad\": 10.714285714285714}, {\"negativereason\": \"Lost Luggage\", \"hora\": 21, \"cantidad\": 6.0}, {\"negativereason\": \"longlines\", \"hora\": 21, \"cantidad\": 1.2857142857142858}, {\"negativereason\": \"Bad Flight\", \"hora\": 22, \"cantidad\": 5.285714285714286}, {\"negativereason\": \"Can't Tell\", \"hora\": 22, \"cantidad\": 12.285714285714286}, {\"negativereason\": \"Cancelled Flight\", \"hora\": 22, \"cantidad\": 7.571428571428571}, {\"negativereason\": \"Customer Service Issue\", \"hora\": 22, \"cantidad\": 25.714285714285715}, {\"negativereason\": \"Damaged Luggage\", \"hora\": 22, \"cantidad\": 1.2857142857142858}, {\"negativereason\": \"Flight Attendant Complaints\", \"hora\": 22, \"cantidad\": 3.857142857142857}, {\"negativereason\": \"Flight Booking Problems\", \"hora\": 22, \"cantidad\": 5.142857142857143}, {\"negativereason\": \"Late Flight\", \"hora\": 22, \"cantidad\": 15.857142857142858}, {\"negativereason\": \"Lost Luggage\", \"hora\": 22, \"cantidad\": 5.428571428571429}, {\"negativereason\": \"longlines\", \"hora\": 22, \"cantidad\": 1.1428571428571428}, {\"negativereason\": \"Bad Flight\", \"hora\": 23, \"cantidad\": 3.5714285714285716}, {\"negativereason\": \"Can't Tell\", \"hora\": 23, \"cantidad\": 11.571428571428571}, {\"negativereason\": \"Cancelled Flight\", \"hora\": 23, \"cantidad\": 5.857142857142857}, {\"negativereason\": \"Customer Service Issue\", \"hora\": 23, \"cantidad\": 20.714285714285715}, {\"negativereason\": \"Damaged Luggage\", \"hora\": 23, \"cantidad\": 0.5714285714285714}, {\"negativereason\": \"Flight Attendant Complaints\", \"hora\": 23, \"cantidad\": 3.2857142857142856}, {\"negativereason\": \"Flight Booking Problems\", \"hora\": 23, \"cantidad\": 4.285714285714286}, {\"negativereason\": \"Late Flight\", \"hora\": 23, \"cantidad\": 15.285714285714286}, {\"negativereason\": \"Lost Luggage\", \"hora\": 23, \"cantidad\": 4.857142857142857}, {\"negativereason\": \"longlines\", \"hora\": 23, \"cantidad\": 1.2857142857142858}]}}, {\"mode\": \"vega-lite\"});\n",
       "</script>"
      ],
      "text/plain": [
       "alt.Chart(...)"
      ]
     },
     "execution_count": 29,
     "metadata": {},
     "output_type": "execute_result"
    }
   ],
   "source": [
    "alt.Chart(df_fecha_tweets_reason).mark_line().encode(\n",
    "    x='hora',\n",
    "    y='cantidad:Q',\n",
    "    color='negativereason:N',\n",
    "    tooltip=[\n",
    "        alt.Tooltip('cantidad:Q', title=\"issue\"),\n",
    "    ]\n",
    ").properties(\n",
    "    width=800,\n",
    "    height=300\n",
    ")"
   ]
  },
  {
   "cell_type": "markdown",
   "metadata": {},
   "source": [
    "### Mapa de calor de los tweets en cada estado"
   ]
  },
  {
   "cell_type": "code",
   "execution_count": 30,
   "metadata": {},
   "outputs": [],
   "source": [
    "from vega_datasets import data"
   ]
  },
  {
   "cell_type": "code",
   "execution_count": 31,
   "metadata": {},
   "outputs": [
    {
     "data": {
      "text/html": [
       "<div>\n",
       "<style scoped>\n",
       "    .dataframe tbody tr th:only-of-type {\n",
       "        vertical-align: middle;\n",
       "    }\n",
       "\n",
       "    .dataframe tbody tr th {\n",
       "        vertical-align: top;\n",
       "    }\n",
       "\n",
       "    .dataframe thead th {\n",
       "        text-align: right;\n",
       "    }\n",
       "</style>\n",
       "<table border=\"1\" class=\"dataframe\">\n",
       "  <thead>\n",
       "    <tr style=\"text-align: right;\">\n",
       "      <th></th>\n",
       "      <th>state</th>\n",
       "      <th>id</th>\n",
       "      <th>population</th>\n",
       "      <th>engineers</th>\n",
       "      <th>hurricanes</th>\n",
       "    </tr>\n",
       "  </thead>\n",
       "  <tbody>\n",
       "    <tr>\n",
       "      <th>0</th>\n",
       "      <td>Alabama</td>\n",
       "      <td>1</td>\n",
       "      <td>4863300</td>\n",
       "      <td>0.003422</td>\n",
       "      <td>22</td>\n",
       "    </tr>\n",
       "    <tr>\n",
       "      <th>1</th>\n",
       "      <td>Alaska</td>\n",
       "      <td>2</td>\n",
       "      <td>741894</td>\n",
       "      <td>0.001591</td>\n",
       "      <td>0</td>\n",
       "    </tr>\n",
       "    <tr>\n",
       "      <th>2</th>\n",
       "      <td>Arizona</td>\n",
       "      <td>4</td>\n",
       "      <td>6931071</td>\n",
       "      <td>0.004774</td>\n",
       "      <td>0</td>\n",
       "    </tr>\n",
       "    <tr>\n",
       "      <th>3</th>\n",
       "      <td>Arkansas</td>\n",
       "      <td>5</td>\n",
       "      <td>2988248</td>\n",
       "      <td>0.002440</td>\n",
       "      <td>0</td>\n",
       "    </tr>\n",
       "    <tr>\n",
       "      <th>4</th>\n",
       "      <td>California</td>\n",
       "      <td>6</td>\n",
       "      <td>39250017</td>\n",
       "      <td>0.007126</td>\n",
       "      <td>0</td>\n",
       "    </tr>\n",
       "  </tbody>\n",
       "</table>\n",
       "</div>"
      ],
      "text/plain": [
       "        state  id  population  engineers  hurricanes\n",
       "0     Alabama   1     4863300   0.003422          22\n",
       "1      Alaska   2      741894   0.001591           0\n",
       "2     Arizona   4     6931071   0.004774           0\n",
       "3    Arkansas   5     2988248   0.002440           0\n",
       "4  California   6    39250017   0.007126           0"
      ]
     },
     "execution_count": 31,
     "metadata": {},
     "output_type": "execute_result"
    }
   ],
   "source": [
    "pop = data.population_engineers_hurricanes()\n",
    "pop.head()"
   ]
  },
  {
   "cell_type": "code",
   "execution_count": 32,
   "metadata": {},
   "outputs": [],
   "source": [
    "pop = pop.drop(['population', 'engineers', 'hurricanes'], axis=1)"
   ]
  },
  {
   "cell_type": "markdown",
   "metadata": {},
   "source": [
    "#### Dataset de ciudades y estados\n",
    "\n",
    "https://github.com/grammakov/USA-cities-and-states"
   ]
  },
  {
   "cell_type": "code",
   "execution_count": 36,
   "metadata": {},
   "outputs": [
    {
     "data": {
      "text/html": [
       "<div>\n",
       "<style scoped>\n",
       "    .dataframe tbody tr th:only-of-type {\n",
       "        vertical-align: middle;\n",
       "    }\n",
       "\n",
       "    .dataframe tbody tr th {\n",
       "        vertical-align: top;\n",
       "    }\n",
       "\n",
       "    .dataframe thead th {\n",
       "        text-align: right;\n",
       "    }\n",
       "</style>\n",
       "<table border=\"1\" class=\"dataframe\">\n",
       "  <thead>\n",
       "    <tr style=\"text-align: right;\">\n",
       "      <th></th>\n",
       "      <th>City</th>\n",
       "      <th>State short</th>\n",
       "      <th>State full</th>\n",
       "      <th>County</th>\n",
       "      <th>City alias</th>\n",
       "    </tr>\n",
       "  </thead>\n",
       "  <tbody>\n",
       "    <tr>\n",
       "      <th>0</th>\n",
       "      <td>Holtsville</td>\n",
       "      <td>NY</td>\n",
       "      <td>New York</td>\n",
       "      <td>SUFFOLK</td>\n",
       "      <td>Internal Revenue Service</td>\n",
       "    </tr>\n",
       "    <tr>\n",
       "      <th>1</th>\n",
       "      <td>Holtsville</td>\n",
       "      <td>NY</td>\n",
       "      <td>New York</td>\n",
       "      <td>SUFFOLK</td>\n",
       "      <td>Holtsville</td>\n",
       "    </tr>\n",
       "  </tbody>\n",
       "</table>\n",
       "</div>"
      ],
      "text/plain": [
       "         City State short State full   County                City alias\n",
       "0  Holtsville          NY   New York  SUFFOLK  Internal Revenue Service\n",
       "1  Holtsville          NY   New York  SUFFOLK                Holtsville"
      ]
     },
     "execution_count": 36,
     "metadata": {},
     "output_type": "execute_result"
    }
   ],
   "source": [
    "bp_data = pd.read_csv(\"datos/us_cities_states_counties.csv\", sep=\"|\")\n",
    "bp_data.head(2)"
   ]
  },
  {
   "cell_type": "code",
   "execution_count": null,
   "metadata": {},
   "outputs": [],
   "source": [
    "#eliminando columnas innecesarias\n",
    "bp_data = bp_data.drop(['County', 'City alias'], axis=1)\n",
    "#eliminando filas repetidas\n",
    "bp_data = bp_data.drop_duplicates()\n",
    "#eliminando filas en nulos\n",
    "bp_data=bp_data[bp_data[\"City\"].notna()]\n",
    "bp_data.head()"
   ]
  },
  {
   "cell_type": "markdown",
   "metadata": {},
   "source": [
    "#### Extrayendo las ciudades con nombres validos \n",
    "  \n",
    "Uso el nombre de las ciudades del dataset y busca coincidencias dentro de los tweets que tenga una localización"
   ]
  },
  {
   "cell_type": "code",
   "execution_count": null,
   "metadata": {},
   "outputs": [],
   "source": [
    "import re"
   ]
  },
  {
   "cell_type": "code",
   "execution_count": null,
   "metadata": {},
   "outputs": [],
   "source": [
    "location = df[\"tweet_location\"].value_counts()\n",
    "index_loc = pd.Series(location.index)\n",
    "index_loc=index_loc[index_loc.notna()]\n",
    "\n",
    "df_cities = pd.DataFrame(columns=[\"state\", \"cantidad\"])\n",
    "\n",
    "index_loc = list(index_loc)\n",
    "for i_city in range(bp_data.shape[0]):\n",
    "    fila = bp_data.iloc[i_city]\n",
    "    for loc in index_loc:\n",
    "        if re.search(fila[\"City\"], loc, re.IGNORECASE):\n",
    "            df_cities.loc[df_cities.shape[0]] = {\n",
    "                \"state\": fila[\"State full\"],\n",
    "                \"cantidad\": location[loc]\n",
    "            }\n",
    "            index_loc.remove(loc)\n",
    "            break"
   ]
  },
  {
   "cell_type": "markdown",
   "metadata": {},
   "source": [
    "#### Agrupacion por estados"
   ]
  },
  {
   "cell_type": "code",
   "execution_count": null,
   "metadata": {},
   "outputs": [],
   "source": [
    "states_issue = df_cities.groupby(\"state\").aggregate(\n",
    "    cantidad = (\"cantidad\", sum)\n",
    ")\n",
    "states_issue = states_issue.reset_index()\n",
    "states_issue.head()"
   ]
  },
  {
   "cell_type": "markdown",
   "metadata": {},
   "source": [
    "#### Join entre el dataset de huracanes y el dataset creado con las cantidad de tweet\n",
    "  \n",
    "El dataset de los huracanes tiene el id de cada estado pero no tiene las cuidades, asi que utilice el nombre del estado para hacer el join entre ambos dataset"
   ]
  },
  {
   "cell_type": "code",
   "execution_count": null,
   "metadata": {},
   "outputs": [],
   "source": [
    "states_issue_merge = pd.merge(states_issue,pop,on='state')\n",
    "states_issue_merge.sort_values(by=['cantidad'], ascending=False)[[\"state\", \"cantidad\"]].iloc[:10]"
   ]
  },
  {
   "cell_type": "code",
   "execution_count": null,
   "metadata": {},
   "outputs": [],
   "source": [
    "states = alt.topo_feature(data.us_10m.url, 'states')\n",
    "\n",
    "alt.Chart(states).mark_geoshape().encode(\n",
    "    color='cantidad:Q',\n",
    "    tooltip=[\n",
    "        alt.Tooltip('state:O'),\n",
    "        alt.Tooltip('cantidad:Q', title=\"tweets\"),\n",
    "    ],\n",
    ").transform_lookup(\n",
    "    lookup='id',\n",
    "    from_=alt.LookupData(states_issue_merge, 'id', \n",
    "                         list(states_issue_merge.columns))\n",
    ").properties(\n",
    "    width=500,\n",
    "    height=300\n",
    ").project(\n",
    "    type='albersUsa'\n",
    ")"
   ]
  },
  {
   "cell_type": "markdown",
   "metadata": {},
   "source": [
    "## Modelo Clasificación de sentimiento"
   ]
  },
  {
   "cell_type": "markdown",
   "metadata": {
    "heading_collapsed": true
   },
   "source": [
    "### Dividiendo el dataset para validar el modelo"
   ]
  },
  {
   "cell_type": "code",
   "execution_count": null,
   "metadata": {
    "hidden": true
   },
   "outputs": [],
   "source": [
    "from sklearn.model_selection import train_test_split"
   ]
  },
  {
   "cell_type": "code",
   "execution_count": null,
   "metadata": {
    "hidden": true
   },
   "outputs": [],
   "source": [
    "target = \"airline_sentiment\""
   ]
  },
  {
   "cell_type": "code",
   "execution_count": null,
   "metadata": {
    "hidden": true
   },
   "outputs": [],
   "source": [
    "rest, test = train_test_split(df, test_size=0.2, stratify=df[target])\n",
    "train, val = train_test_split(rest, test_size=0.2, stratify=rest[target])\n",
    "len(train), len(val), len(test)"
   ]
  },
  {
   "cell_type": "code",
   "execution_count": null,
   "metadata": {
    "hidden": true
   },
   "outputs": [],
   "source": [
    "def normalizarTarget(df):\n",
    "    train_y = df[target]\n",
    "    train_y = np.where(train_y == \"negative\", 1, train_y)\n",
    "    train_y = np.where(train_y == \"neutral\", 0, train_y)\n",
    "    train_y = np.where(train_y == \"positive\", 2, train_y)\n",
    "    return train_y.astype('int')"
   ]
  },
  {
   "cell_type": "code",
   "execution_count": null,
   "metadata": {
    "hidden": true
   },
   "outputs": [],
   "source": [
    "#negative: 1\n",
    "#neutral : 0\n",
    "#positive: 2\n",
    "\n",
    "train_y = normalizarTarget(train)\n",
    "val_y = normalizarTarget(val)\n",
    "test_y = normalizarTarget(test)"
   ]
  },
  {
   "cell_type": "markdown",
   "metadata": {
    "heading_collapsed": true
   },
   "source": [
    "### Tokenizacion de palabras"
   ]
  },
  {
   "cell_type": "code",
   "execution_count": null,
   "metadata": {
    "hidden": true
   },
   "outputs": [],
   "source": [
    "import math\n",
    "import re\n",
    "#texto en varios formatos, limpiar los texto\n",
    "from bs4 import BeautifulSoup"
   ]
  },
  {
   "cell_type": "code",
   "execution_count": null,
   "metadata": {
    "hidden": true
   },
   "outputs": [],
   "source": [
    "def tokenize(tweet):\n",
    "    tweet = BeautifulSoup(tweet, \"lxml\").get_text()\n",
    "    # Eliminamos la @ y su mención\n",
    "    tweet = re.sub(r\"@[A-Za-z0-9]+\", '_Entidad_', tweet)\n",
    "    # Eliminamos los links de las URLs\n",
    "    tweet = re.sub(r\"https?://[A-Za-z0-9./]+\", ' ', tweet)\n",
    "    # Nos quedamos solamente con los caracteres\n",
    "    tweet = re.sub(r\"[^a-zA-Z.!?']\", ' ', tweet)\n",
    "    # Eliminamos espacios en blanco adicionales\n",
    "    tweet = re.sub(r\" +\", ' ', tweet)\n",
    "    return tweet.split()"
   ]
  },
  {
   "cell_type": "markdown",
   "metadata": {},
   "source": [
    "### One Hot Encoding"
   ]
  },
  {
   "cell_type": "code",
   "execution_count": null,
   "metadata": {},
   "outputs": [],
   "source": [
    "from sklearn.linear_model import LogisticRegression\n",
    "from sklearn.metrics import accuracy_score, classification_report, confusion_matrix"
   ]
  },
  {
   "cell_type": "code",
   "execution_count": null,
   "metadata": {},
   "outputs": [],
   "source": [
    "from sklearn.feature_extraction.text import CountVectorizer"
   ]
  },
  {
   "cell_type": "code",
   "execution_count": null,
   "metadata": {},
   "outputs": [],
   "source": [
    "vectorizador_tweet = CountVectorizer(binary=False, analyzer=tokenize, max_features=5000)"
   ]
  },
  {
   "cell_type": "code",
   "execution_count": null,
   "metadata": {},
   "outputs": [],
   "source": [
    "vectorizador_tweet.fit(train[\"text\"])"
   ]
  },
  {
   "cell_type": "code",
   "execution_count": null,
   "metadata": {},
   "outputs": [],
   "source": [
    "train_vector = vectorizador_tweet.transform(train[\"text\"])\n",
    "val_vector = vectorizador_tweet.transform(val[\"text\"])\n",
    "test_vector = vectorizador_tweet.transform(test[\"text\"])"
   ]
  },
  {
   "cell_type": "code",
   "execution_count": null,
   "metadata": {},
   "outputs": [],
   "source": [
    "lr = LogisticRegression(max_iter=1000, class_weight=\"balanced\")"
   ]
  },
  {
   "cell_type": "code",
   "execution_count": null,
   "metadata": {},
   "outputs": [],
   "source": [
    "lr.fit(train_vector, train_y)"
   ]
  },
  {
   "cell_type": "code",
   "execution_count": null,
   "metadata": {},
   "outputs": [],
   "source": [
    "train_pred = lr.predict(train_vector)\n",
    "val_pred = lr.predict(val_vector)"
   ]
  },
  {
   "cell_type": "code",
   "execution_count": null,
   "metadata": {},
   "outputs": [],
   "source": [
    "print(classification_report(train_y, train_pred))"
   ]
  },
  {
   "cell_type": "code",
   "execution_count": null,
   "metadata": {},
   "outputs": [],
   "source": [
    "print(classification_report(val_y, val_pred))"
   ]
  },
  {
   "cell_type": "markdown",
   "metadata": {},
   "source": [
    "### Word Embedding\n",
    "\n",
    "http://old.tacosdedatos.com/word-to-vec-ilustrado"
   ]
  },
  {
   "cell_type": "code",
   "execution_count": null,
   "metadata": {},
   "outputs": [],
   "source": [
    "import multiprocessing"
   ]
  },
  {
   "cell_type": "code",
   "execution_count": null,
   "metadata": {},
   "outputs": [],
   "source": [
    "from gensim.models import Word2Vec"
   ]
  },
  {
   "cell_type": "code",
   "execution_count": null,
   "metadata": {},
   "outputs": [],
   "source": [
    "cores = multiprocessing.cpu_count() # Count the number of cores in a computer"
   ]
  },
  {
   "cell_type": "code",
   "execution_count": null,
   "metadata": {},
   "outputs": [],
   "source": [
    "#https://www.kaggle.com/pierremegret/gensim-word2vec-tutorial\n",
    "w2v_model = Word2Vec(min_count=3,\n",
    "                     window=2,\n",
    "                     vector_size=300,\n",
    "                     sample=6e-5, \n",
    "                     alpha=0.03, \n",
    "                     min_alpha=0.0007, \n",
    "                     negative=20,\n",
    "                     workers=cores-1)"
   ]
  },
  {
   "cell_type": "code",
   "execution_count": null,
   "metadata": {},
   "outputs": [],
   "source": [
    "train_sentence = [tokenize(train[\"text\"].iloc[i_row]) for i_row in range(train.shape[0])]"
   ]
  },
  {
   "cell_type": "code",
   "execution_count": null,
   "metadata": {},
   "outputs": [],
   "source": [
    "w2v_model.build_vocab(train_sentence, progress_per=10000)"
   ]
  },
  {
   "cell_type": "code",
   "execution_count": null,
   "metadata": {},
   "outputs": [],
   "source": [
    "w2v_model.train(train_sentence, total_examples=w2v_model.corpus_count, epochs=100, report_delay=1)"
   ]
  },
  {
   "cell_type": "markdown",
   "metadata": {},
   "source": [
    "#### Creando un nuevos dataset con el embedding\n",
    "\n",
    "\n",
    "suma todos los vectores de cada una de las palabras del tweet y finalmente obtiene un vector con el promedio, este vector representa al tweet con todas sus palabras. \n"
   ]
  },
  {
   "cell_type": "code",
   "execution_count": null,
   "metadata": {},
   "outputs": [],
   "source": [
    "def docsVector(embbeding, datset):\n",
    "    train_sentence = [tokenize(datset[\"text\"].iloc[i_row]) for i_row in range(datset.shape[0])]\n",
    "    docs_vectors = pd.DataFrame()\n",
    "    num_dim = embbeding.vector_size\n",
    "    tam_dataset = len(train_sentence)\n",
    "    media = None\n",
    "    for indice in range(tam_dataset):\n",
    "        lista_palabras = train_sentence[indice]\n",
    "        temp = []\n",
    "        for palabra in lista_palabras:\n",
    "            if palabra in embbeding:\n",
    "                embbeding_word = np.round(embbeding.__getitem__(palabra),5)\n",
    "                temp.append(list(embbeding_word))\n",
    "        if len(temp)>0:\n",
    "            media = pd.Series(np.array(temp).mean(axis = 0))\n",
    "            docs_vectors = docs_vectors.append(media, ignore_index = True)\n",
    "        else:\n",
    "            array = [0 for i in range(num_dim)]\n",
    "            docs_vectors = docs_vectors.append(media, ignore_index = True)\n",
    "    return docs_vectors"
   ]
  },
  {
   "cell_type": "code",
   "execution_count": null,
   "metadata": {},
   "outputs": [],
   "source": [
    "docsVector_train = docsVector(w2v_model.wv, train)\n",
    "docsVector_val = docsVector(w2v_model.wv, val)\n",
    "docsVector_test = docsVector(w2v_model.wv, test)"
   ]
  },
  {
   "cell_type": "code",
   "execution_count": null,
   "metadata": {},
   "outputs": [],
   "source": [
    "def normalizarTarget(df):\n",
    "    train_y = df[target]\n",
    "    train_y = np.where(train_y == \"negative\", 1, train_y)\n",
    "    train_y = np.where(train_y == \"neutral\", 0, train_y)\n",
    "    train_y = np.where(train_y == \"positive\", 2, train_y)\n",
    "    return train_y.astype('int')"
   ]
  },
  {
   "cell_type": "code",
   "execution_count": null,
   "metadata": {},
   "outputs": [],
   "source": [
    "#negative: 1\n",
    "#neutral : 0\n",
    "#positive: 2\n",
    "\n",
    "train_y = normalizarTarget(train)\n",
    "val_y = normalizarTarget(val)\n",
    "test_y = normalizarTarget(test)"
   ]
  },
  {
   "cell_type": "markdown",
   "metadata": {},
   "source": [
    "#### Regresión lineal"
   ]
  },
  {
   "cell_type": "code",
   "execution_count": null,
   "metadata": {},
   "outputs": [],
   "source": [
    "lr = LogisticRegression(max_iter=1000, class_weight=\"balanced\")\n",
    "lr.fit(docsVector_train, train_y)"
   ]
  },
  {
   "cell_type": "code",
   "execution_count": null,
   "metadata": {},
   "outputs": [],
   "source": [
    "train_pred = lr.predict(docsVector_train)"
   ]
  },
  {
   "cell_type": "code",
   "execution_count": null,
   "metadata": {},
   "outputs": [],
   "source": [
    "accuracy_score(train_y, train_pred)"
   ]
  },
  {
   "cell_type": "code",
   "execution_count": null,
   "metadata": {},
   "outputs": [],
   "source": [
    "print(classification_report(train_y, train_pred))"
   ]
  },
  {
   "cell_type": "code",
   "execution_count": null,
   "metadata": {},
   "outputs": [],
   "source": [
    "val_pred = lr.predict(docsVector_val)"
   ]
  },
  {
   "cell_type": "code",
   "execution_count": null,
   "metadata": {},
   "outputs": [],
   "source": [
    "accuracy_score(val_y, val_pred)"
   ]
  },
  {
   "cell_type": "code",
   "execution_count": null,
   "metadata": {},
   "outputs": [],
   "source": [
    "print(classification_report(val_y, val_pred))"
   ]
  },
  {
   "cell_type": "markdown",
   "metadata": {},
   "source": [
    "#### Red neuronal multicapa"
   ]
  },
  {
   "cell_type": "code",
   "execution_count": null,
   "metadata": {},
   "outputs": [],
   "source": [
    "from sklearn.neural_network import MLPClassifier"
   ]
  },
  {
   "cell_type": "code",
   "execution_count": null,
   "metadata": {},
   "outputs": [],
   "source": [
    "clf_bk = MLPClassifier(solver='sgd', alpha=1e-5,\n",
    "                    hidden_layer_sizes=(300,100), max_iter=500, random_state=1)"
   ]
  },
  {
   "cell_type": "code",
   "execution_count": null,
   "metadata": {},
   "outputs": [],
   "source": [
    "clf_bk.fit(docsVector_train, train_y)"
   ]
  },
  {
   "cell_type": "code",
   "execution_count": null,
   "metadata": {},
   "outputs": [],
   "source": [
    "train_pred = clf_bk.predict(docsVector_train)"
   ]
  },
  {
   "cell_type": "code",
   "execution_count": null,
   "metadata": {},
   "outputs": [],
   "source": [
    "accuracy_score(train_y, train_pred)"
   ]
  },
  {
   "cell_type": "code",
   "execution_count": null,
   "metadata": {},
   "outputs": [],
   "source": [
    "print(classification_report(train_y, train_pred))"
   ]
  },
  {
   "cell_type": "code",
   "execution_count": null,
   "metadata": {},
   "outputs": [],
   "source": [
    "val_pred = clf_bk.predict(docsVector_val)"
   ]
  },
  {
   "cell_type": "code",
   "execution_count": null,
   "metadata": {},
   "outputs": [],
   "source": [
    "accuracy_score(val_y, val_pred)"
   ]
  },
  {
   "cell_type": "code",
   "execution_count": null,
   "metadata": {},
   "outputs": [],
   "source": [
    "print(classification_report(val_y, val_pred))"
   ]
  },
  {
   "cell_type": "code",
   "execution_count": null,
   "metadata": {},
   "outputs": [],
   "source": []
  }
 ],
 "metadata": {
  "kernelspec": {
   "display_name": "Python 3",
   "language": "python",
   "name": "python3"
  },
  "language_info": {
   "codemirror_mode": {
    "name": "ipython",
    "version": 3
   },
   "file_extension": ".py",
   "mimetype": "text/x-python",
   "name": "python",
   "nbconvert_exporter": "python",
   "pygments_lexer": "ipython3",
   "version": "3.8.5"
  }
 },
 "nbformat": 4,
 "nbformat_minor": 4
}
